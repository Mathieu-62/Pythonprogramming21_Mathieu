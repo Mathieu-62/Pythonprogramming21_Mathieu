{
 "cells": [
  {
   "cell_type": "markdown",
   "metadata": {},
   "source": [
    "# Assigment 6\n",
    "\n",
    "\n",
    "<a id='index-0'></a>"
   ]
  },
  {
   "cell_type": "markdown",
   "metadata": {},
   "source": [
    "In this notebook we use the numpy library. We also use the matplotlib.pyplot library in order to plot vectors."
   ]
  },
  {
   "cell_type": "code",
   "execution_count": 1,
   "metadata": {},
   "outputs": [],
   "source": [
    "import numpy as np\n",
    "import matplotlib.pyplot as plt"
   ]
  },
  {
   "cell_type": "markdown",
   "metadata": {},
   "source": [
    "## Normal equation and linear regression\n",
    "\n",
    "Consider the data set (1,4),(2,2),(3,6). We want to find a line that fits best to these three data points. A line is captured by a linear equation $y=c_0+c_1x$. This line, called the regression line, is determined as soon we have identified $c_0$ and $c_1$. First we will do this similar to the way this is done in paragraph 5.2 of the reader. In paragraph 5.2, this is done by minimizing the expression \n",
    "\n",
    "$$[4−(c_0+c_1·1)]^2+ [2−(c_0+c_1·2)]^2+ [6−(c_0+c_1·3)]^2$$\n",
    "\n",
    "where $[4−(c_0+c_1·1)]^2$, $[2−(c_0+c_1·2)]^2$ and $[6−(c_0+c_1·3)]^2$ are the squared errors. Now consider the vectors $\\underline{b}=\\begin{bmatrix}\n",
    "    4\\\\\n",
    "    2\\\\\n",
    "    6\n",
    "\\end{bmatrix}$ and $\\underline{p}=\\begin{bmatrix}\n",
    "    c_0+c_1\\\\\n",
    "    c_0+c_1·2\\\\\n",
    "    c_0+c_1·3\n",
    "\\end{bmatrix}$. Since\n",
    "\n",
    "$\\begin{align}\n",
    "|\\underline{b}-\\underline{p}|&=|\\begin{bmatrix}\n",
    "    4-(c_0+c_1)\\\\\n",
    "    2-(c_0+c_1· 2)\\\\\n",
    "    6-(c_0+c_1· 3)\n",
    "\\end{bmatrix}|\\\\\n",
    "&= \\sqrt{[4-(c_0+c_1)]^2+[2-(c_0+c_1·2)]^2+[6-(c_0+c_1·3)]^2}.\n",
    "\\end{align}$\n",
    "\n",
    "Hence, we have to find the vector $\\underline{p}$ that minimized the length of the vector $\\underline{b}−\\underline{p}$. Observe that\n",
    "\n",
    "$$\\begin{align}\n",
    "\\underline{p}&= \\begin{bmatrix}\n",
    "    c_0+c_1\\\\\n",
    "    c_0+c_1· 2\\\\\n",
    "    c_0+c_1· 3\n",
    "\\end{bmatrix}\\\\\n",
    "&= \\left[\n",
    "\\begin{array}{cc}\n",
    "1 & 1 \\\\\n",
    "1 & 2 \\\\\n",
    "1 & 3\\\\\n",
    "\\end{array}\n",
    "\\right] \\begin{bmatrix}\n",
    "    c_0\\\\\n",
    "    c_1\n",
    "\\end{bmatrix}\n",
    "\\end{align}$$\n",
    "\n",
    "Hence, $\\underline{p}$ is an element of to a $Span[\\underline{w}_1, \\underline{w}_2]$, where $\\underline{w}_1=\\begin{bmatrix}\n",
    "    1\\\\\n",
    "    1\\\\\n",
    "    1 \n",
    "\\end{bmatrix}$ and $\\underline{w}_2=\\begin{bmatrix}\n",
    "    1\\\\\n",
    "    2\\\\\n",
    "    3 \n",
    "\\end{bmatrix}$. Hence, we can conclude that finding $\\underline{p}$ is actually solving the problem of finding the distance of a vector $\\underline{b}$ to $Span[\\underline{w}_1, \\underline{w}_2]$. Recall, for finding the vector $\\underline{p}$ we need to find $\\underline{c}=\\begin{bmatrix}\n",
    "    c_0\\\\\n",
    "    c_1\n",
    "\\end{bmatrix}$, which are the coefficients of the regression line. The vector $\\underline{c}$ can be found using the normal equation with $A=\\left[\n",
    "\\begin{array}{cc}\n",
    "1 & 1 \\\\\n",
    "1 & 2 \\\\\n",
    "1 & 3\\\\\n",
    "\\end{array}\n",
    "\\right]$ and $\\underline{b}=\\begin{bmatrix}\n",
    "    4\\\\\n",
    "    2\\\\\n",
    "    6 \n",
    "\\end{bmatrix}$. "
   ]
  },
  {
   "cell_type": "code",
   "execution_count": 2,
   "metadata": {},
   "outputs": [
    {
     "data": {
      "text/plain": [
       "matrix([[1, 1],\n",
       "        [1, 2],\n",
       "        [1, 3]])"
      ]
     },
     "execution_count": 2,
     "metadata": {},
     "output_type": "execute_result"
    }
   ],
   "source": [
    "A=np.matrix([[1,1],[1,2],[1,3]])\n",
    "A"
   ]
  },
  {
   "cell_type": "code",
   "execution_count": 3,
   "metadata": {},
   "outputs": [
    {
     "data": {
      "text/plain": [
       "matrix([[4],\n",
       "        [2],\n",
       "        [6]])"
      ]
     },
     "execution_count": 3,
     "metadata": {},
     "output_type": "execute_result"
    }
   ],
   "source": [
    "b=np.matrix([[4],[2],[6]])\n",
    "b"
   ]
  },
  {
   "cell_type": "markdown",
   "metadata": {},
   "source": [
    "Observe that $A^T=\\left[\n",
    "\\begin{array}{ccc}\n",
    "1 & 1 & 1\\\\\n",
    "1 & 2 & 3\n",
    "\\end{array} \\right]$."
   ]
  },
  {
   "cell_type": "code",
   "execution_count": 4,
   "metadata": {},
   "outputs": [
    {
     "data": {
      "text/plain": [
       "matrix([[1, 1, 1],\n",
       "        [1, 2, 3]])"
      ]
     },
     "execution_count": 4,
     "metadata": {},
     "output_type": "execute_result"
    }
   ],
   "source": [
    "AT=np.transpose(A)\n",
    "AT"
   ]
  },
  {
   "cell_type": "markdown",
   "metadata": {},
   "source": [
    "Observe that $A^TA=\\left[\n",
    "\\begin{array}{cc}\n",
    "3 & 6\\\\\n",
    "6 & 4\n",
    "\\end{array} \\right]$."
   ]
  },
  {
   "cell_type": "code",
   "execution_count": 5,
   "metadata": {},
   "outputs": [
    {
     "data": {
      "text/plain": [
       "matrix([[ 3,  6],\n",
       "        [ 6, 14]])"
      ]
     },
     "execution_count": 5,
     "metadata": {},
     "output_type": "execute_result"
    }
   ],
   "source": [
    "ATA=AT*A\n",
    "ATA"
   ]
  },
  {
   "cell_type": "markdown",
   "metadata": {},
   "source": [
    "Observe that $(A^TA)^{-1}=\\left[\n",
    "\\begin{array}{cc}\n",
    "\\frac{14}{6} & -1\\\\\n",
    "-1 & \\frac{1}{2}\n",
    "\\end{array} \\right]$."
   ]
  },
  {
   "cell_type": "code",
   "execution_count": 6,
   "metadata": {},
   "outputs": [
    {
     "data": {
      "text/plain": [
       "matrix([[ 2.33333333, -1.        ],\n",
       "        [-1.        ,  0.5       ]])"
      ]
     },
     "execution_count": 6,
     "metadata": {},
     "output_type": "execute_result"
    }
   ],
   "source": [
    "ATAinverse = ATA.I\n",
    "ATAinverse"
   ]
  },
  {
   "cell_type": "markdown",
   "metadata": {},
   "source": [
    "Then\n",
    "\n",
    "$$\\begin{align}\n",
    "\\underline{c}& =(A^TA)^{-1}A^T\\underline{b}\\\\\n",
    "&= \\left[\n",
    "\\begin{array}{cc}\n",
    "\\frac{14}{6} & -1\\\\\n",
    "-1 & \\frac{1}{2}\n",
    "\\end{array} \\right] \\left[\n",
    "\\begin{array}{ccc}\n",
    "1 & 1 & 1\\\\\n",
    "1 & 2 & 3\n",
    "\\end{array} \\right] \\begin{bmatrix}\n",
    "    4\\\\\n",
    "    2\\\\\n",
    "    6 \n",
    "\\end{bmatrix}\\\\\n",
    "&= \\left[\n",
    "\\begin{array}{ccc}\n",
    "\\frac{8}{6} & \\frac{2}{6} & -\\frac{4}{6}\\\\\n",
    "-\\frac{1}{2} & 0 & \\frac{1}{2}\n",
    "\\end{array} \\right] \\begin{bmatrix}\n",
    "    4\\\\\n",
    "    2\\\\\n",
    "    6 \n",
    "\\end{bmatrix}\\\\\n",
    "&= \\begin{bmatrix}\n",
    "    2\\\\\n",
    "    1 \n",
    "\\end{bmatrix}\n",
    "\\end{align}$$"
   ]
  },
  {
   "cell_type": "code",
   "execution_count": 7,
   "metadata": {},
   "outputs": [
    {
     "data": {
      "text/plain": [
       "matrix([[2.],\n",
       "        [1.]])"
      ]
     },
     "execution_count": 7,
     "metadata": {},
     "output_type": "execute_result"
    }
   ],
   "source": [
    "c = ATAinverse*AT*b\n",
    "c"
   ]
  },
  {
   "cell_type": "markdown",
   "metadata": {},
   "source": [
    "Hence $c_0=2$ and $c_1= 1$. Hence, the equation of the regression line is $y= 2 +x$."
   ]
  },
  {
   "cell_type": "markdown",
   "metadata": {},
   "source": [
    "**Option 2**\n",
    "\n",
    "Next, we will identify $c_0$ and $c_1$ much faster in python. We start with generating the data. We first generate the x-coordinates and then the y-coordinates of the three points:"
   ]
  },
  {
   "cell_type": "code",
   "execution_count": 8,
   "metadata": {},
   "outputs": [
    {
     "data": {
      "text/plain": [
       "array([1, 2, 3])"
      ]
     },
     "execution_count": 8,
     "metadata": {},
     "output_type": "execute_result"
    }
   ],
   "source": [
    "x = np.array([1, 2, 3])\n",
    "x"
   ]
  },
  {
   "cell_type": "code",
   "execution_count": 9,
   "metadata": {},
   "outputs": [
    {
     "data": {
      "text/plain": [
       "array([4, 2, 6])"
      ]
     },
     "execution_count": 9,
     "metadata": {},
     "output_type": "execute_result"
    }
   ],
   "source": [
    "y = np.array([4, 2, 6])\n",
    "y"
   ]
  },
  {
   "cell_type": "markdown",
   "metadata": {},
   "source": [
    "Next we can let python calculate $c_0$ and $c_1$ using the function np.polyfit().\n",
    "**Note: you can only use this function for 2D**"
   ]
  },
  {
   "cell_type": "code",
   "execution_count": 10,
   "metadata": {},
   "outputs": [
    {
     "name": "stdout",
     "output_type": "stream",
     "text": [
      "c0: 2.0000000000000018\n",
      "c1: 0.9999999999999993\n"
     ]
    }
   ],
   "source": [
    "c1, c0 = np.polyfit(x, y, 1)\n",
    "print(\"c0:\", c0)\n",
    "print(\"c1:\", c1)"
   ]
  },
  {
   "cell_type": "markdown",
   "metadata": {},
   "source": [
    "Notice that python makes a very small error. \n",
    "\n",
    "Next, we can also plot the data set and the corresponding linear regression line"
   ]
  },
  {
   "cell_type": "code",
   "execution_count": 11,
   "metadata": {},
   "outputs": [
    {
     "data": {
      "text/plain": [
       "[<matplotlib.lines.Line2D at 0x263e0360408>]"
      ]
     },
     "execution_count": 11,
     "metadata": {},
     "output_type": "execute_result"
    },
    {
     "data": {
      "image/png": "[encoded data removed]",
      "text/plain": [
       "<Figure size 432x288 with 1 Axes>"
      ]
     },
     "metadata": {
      "needs_background": "light"
     },
     "output_type": "display_data"
    }
   ],
   "source": [
    "plt.plot(x, y, 'o')\n",
    "plt.plot(x, c1*x + c0)"
   ]
  },
  {
   "cell_type": "markdown",
   "metadata": {},
   "source": [
    "**Exercise 5.2** \n",
    "\n",
    "Consider the data set $(x,y) = (1,6)$, $(x,y) = (2,8)$, $(x,y) = (3,4)$.  Determine the regression line of this dataset."
   ]
  },
  {
   "cell_type": "code",
   "execution_count": 3,
   "metadata": {},
   "outputs": [
    {
     "name": "stdout",
     "output_type": "stream",
     "text": [
      "[[ 8.]\n",
      " [-1.]]\n"
     ]
    }
   ],
   "source": [
    "A=np.matrix([[1,1],[1,2],[1,3]])\n",
    "A\n",
    "b=np.matrix([[6],[8],[4]])\n",
    "AT=np.transpose(A)\n",
    "ATA=AT*A\n",
    "ATA_inv=ATA.I\n",
    "c=ATA_inv*AT*b\n",
    "print(c)"
   ]
  },
  {
   "cell_type": "markdown",
   "metadata": {},
   "source": [
    "**Exercise 5.4**\n",
    "\n",
    "Consider the data set $(x,y) = (12,2)$, $(x,y) = (4,10)$, $(x,y) = (8,8)$.  Determine the regression line of this dataset."
   ]
  },
  {
   "cell_type": "code",
   "execution_count": 4,
   "metadata": {},
   "outputs": [
    {
     "name": "stdout",
     "output_type": "stream",
     "text": [
      "[[14.66666667]\n",
      " [-1.        ]]\n"
     ]
    }
   ],
   "source": [
    "A=np.matrix([[1,12],[1,4],[1,8]])\n",
    "A\n",
    "b=np.matrix([[2],[10],[8]])\n",
    "AT=np.transpose(A)\n",
    "ATA=AT*A\n",
    "ATA_inv=ATA.I\n",
    "c=ATA_inv*AT*b\n",
    "print(c)"
   ]
  },
  {
   "cell_type": "markdown",
   "metadata": {},
   "source": [
    "**Exercise 5.5**\n",
    "\n",
    "Consider  the  data  set  $(x_1,x_2,y)  =  (1,7,15)$, $(x_1,x_2,y)  =  (3,5,18)$, $(x_1,x_2,y)  =  (5,1,10)$. Determine the regression line of this data set using the normal equation."
   ]
  },
  {
   "cell_type": "code",
   "execution_count": 5,
   "metadata": {},
   "outputs": [
    {
     "name": "stdout",
     "output_type": "stream",
     "text": [
      "[[-30.5]\n",
      " [  7. ]\n",
      " [  5.5]]\n"
     ]
    }
   ],
   "source": [
    "A=np.matrix([[1,1,7],[1,3,5],[1,5,1]])\n",
    "A\n",
    "b=np.matrix([[15],[18],[10]])\n",
    "AT=np.transpose(A)\n",
    "ATA=AT*A\n",
    "ATA_inv=ATA.I\n",
    "c=ATA_inv*AT*b\n",
    "print(c)"
   ]
  },
  {
   "cell_type": "code",
   "execution_count": null,
   "metadata": {},
   "outputs": [],
   "source": []
  }
 ],
 "metadata": {
  "kernelspec": {
   "display_name": "Python 3",
   "language": "python",
   "name": "python3"
  },
  "language_info": {
   "codemirror_mode": {
    "name": "ipython",
    "version": 3
   },
   "file_extension": ".py",
   "mimetype": "text/x-python",
   "name": "python",
   "nbconvert_exporter": "python",
   "pygments_lexer": "ipython3",
   "version": "3.8.5"
  }
 },
 "nbformat": 4,
 "nbformat_minor": 4
}
