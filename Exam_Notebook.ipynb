{
 "cells": [
  {
   "cell_type": "code",
   "execution_count": 1,
   "metadata": {},
   "outputs": [],
   "source": [
    "import scipy.optimize as opt\n",
    "import numpy as np\n",
    "import pandas as pd\n",
    "import statsmodels.formula.api as smf\n",
    "import matplotlib.pyplot as plt\n",
    "%matplotlib inline"
   ]
  },
  {
   "cell_type": "markdown",
   "metadata": {},
   "source": [
    "Python Questions:"
   ]
  },
  {
   "cell_type": "markdown",
   "metadata": {},
   "source": [
    "Question 1:"
   ]
  },
  {
   "cell_type": "code",
   "execution_count": 34,
   "metadata": {},
   "outputs": [
    {
     "name": "stdout",
     "output_type": "stream",
     "text": [
      "24999919\n",
      "9999\n"
     ]
    }
   ],
   "source": [
    "total=0\n",
    "for i in range(18, 10000):\n",
    "    if i % 2 == 0: # an even number... This is modulus division\n",
    "        continue\n",
    "    else:\n",
    "        total = total + i\n",
    "print(total)\n",
    "print(i)"
   ]
  },
  {
   "cell_type": "markdown",
   "metadata": {},
   "source": [
    "Question 2:"
   ]
  },
  {
   "cell_type": "code",
   "execution_count": 10,
   "metadata": {},
   "outputs": [
    {
     "name": "stdout",
     "output_type": "stream",
     "text": [
      "[ 3 30]\n",
      "[[[ 1  2  3]\n",
      "  [ 4  5  6]]\n",
      "\n",
      " [[10 20 30]\n",
      "  [40 50 60]]]\n"
     ]
    }
   ],
   "source": [
    "x_3d_list = [[[1, 2, 3], [4, 5, 6]], [[10, 20, 30], [40, 50, 60]]]\n",
    "x_3d = np.array(x_3d_list)\n",
    "print(x_3d[:,0,2])\n",
    "print(x_3d)"
   ]
  },
  {
   "cell_type": "markdown",
   "metadata": {},
   "source": [
    "Question 3:"
   ]
  },
  {
   "cell_type": "code",
   "execution_count": 13,
   "metadata": {},
   "outputs": [
    {
     "data": {
      "text/plain": [
       "0.6666666666666667"
      ]
     },
     "execution_count": 13,
     "metadata": {},
     "output_type": "execute_result"
    }
   ],
   "source": [
    "def mpl(K, L, alpha=1/3, z=1):\n",
    " return (1-alpha)*z*(K/L)**alpha\n",
    "mpl(1,1)"
   ]
  },
  {
   "cell_type": "markdown",
   "metadata": {},
   "source": [
    "Question 4:"
   ]
  },
  {
   "cell_type": "code",
   "execution_count": 19,
   "metadata": {},
   "outputs": [
    {
     "data": {
      "text/plain": [
       "     fun: -4.377829277609679\n",
       "    nfev: 19\n",
       "     nit: 15\n",
       " success: True\n",
       "       x: -0.5225881115847606"
      ]
     },
     "execution_count": 19,
     "metadata": {},
     "output_type": "execute_result"
    }
   ],
   "source": [
    "def f(x):\n",
    "    val = (x**3)-(4*(x**2)) - (5*x)+3\n",
    "    return val\n",
    "opt.minimize_scalar(lambda x: (-1) * f(x), [-2,2])"
   ]
  },
  {
   "cell_type": "markdown",
   "metadata": {},
   "source": [
    "Question 5:"
   ]
  },
  {
   "cell_type": "code",
   "execution_count": 21,
   "metadata": {},
   "outputs": [
    {
     "data": {
      "text/plain": [
       "<function matplotlib.pyplot.show(close=None, block=None)>"
      ]
     },
     "execution_count": 21,
     "metadata": {},
     "output_type": "execute_result"
    },
    {
     "data": {
      "image/png": "[encoded data removed]",
      "text/plain": [
       "<Figure size 432x288 with 1 Axes>"
      ]
     },
     "metadata": {
      "needs_background": "light"
     },
     "output_type": "display_data"
    }
   ],
   "source": [
    "np.random.seed(123)\n",
    "unidraws = np.random.rand(100)\n",
    "plt.hist(unidraws)\n",
    "plt.show"
   ]
  },
  {
   "cell_type": "markdown",
   "metadata": {},
   "source": [
    "Question 6:"
   ]
  },
  {
   "cell_type": "code",
   "execution_count": 26,
   "metadata": {},
   "outputs": [
    {
     "name": "stdout",
     "output_type": "stream",
     "text": [
      "6791.070000000002\n"
     ]
    }
   ],
   "source": [
    "np.random.seed(123)\n",
    "list_1 = [\"Domestic\" for i in range(50)]+[\"Foreign\" for i in range(50)]\n",
    "list_2 = np.linspace(1,10,100) + np.random.normal(17,2,100)\n",
    "list_3 = np.round(1000*(np.linspace(10,3,100) + 5.2*np.random.random(100)),2)\n",
    "autos = pd.DataFrame({\"price\":list_3,\"mpg\":list_2,\"origin\":list_1})\n",
    "autos\n",
    "print(autos['price'].quantile(0.9) - autos['price'].quantile(0.1))"
   ]
  },
  {
   "cell_type": "markdown",
   "metadata": {},
   "source": [
    "Question 7:"
   ]
  },
  {
   "cell_type": "code",
   "execution_count": 33,
   "metadata": {},
   "outputs": [
    {
     "name": "stdout",
     "output_type": "stream",
     "text": [
      "10.009711892291657\n",
      "[ 8.9143694  10.99734545 10.2829785  ...  9.52773359 10.58196437\n",
      " 10.97061286]\n"
     ]
    }
   ],
   "source": [
    "2np.random.seed(123)\n",
    "draws = np.random.normal(10, 1.0, 10000)\n",
    "total=0\n",
    "for i in range(len(draws)):\n",
    "    if draws[i] > 0:\n",
    "        total = total+ draws[i]\n",
    "    else:\n",
    "        continue\n",
    "\n",
    "print(total/10000)\n",
    "print(draws)"
   ]
  },
  {
   "cell_type": "markdown",
   "metadata": {},
   "source": [
    "Linear Algebra Part:"
   ]
  },
  {
   "cell_type": "markdown",
   "metadata": {},
   "source": [
    "Question 22"
   ]
  },
  {
   "cell_type": "code",
   "execution_count": 35,
   "metadata": {},
   "outputs": [
    {
     "name": "stdout",
     "output_type": "stream",
     "text": [
      "[[ 2 -2  4  8  1]\n",
      " [ 0  6  2  6  8]\n",
      " [ 0  0  2  6  1]\n",
      " [ 0  0  0  4  0]\n",
      " [ 0  0  0  0  1]]\n",
      "[[ 0.5         0.16666667 -1.16666667  0.5        -0.66666667]\n",
      " [ 0.          0.16666667 -0.16666667  0.         -1.16666667]\n",
      " [ 0.          0.          0.5        -0.75       -0.5       ]\n",
      " [ 0.          0.          0.          0.25        0.        ]\n",
      " [ 0.          0.          0.          0.          1.        ]]\n",
      "[[1. 0. 0. 0. 0.]\n",
      " [0. 1. 0. 0. 0.]\n",
      " [0. 0. 1. 0. 0.]\n",
      " [0. 0. 0. 1. 0.]\n",
      " [0. 0. 0. 0. 1.]]\n"
     ]
    }
   ],
   "source": [
    "A = np.matrix([[2, -2, 4, 8, 1],[0, 6, 2, 6, 8], [0, 0, 2, 6, 1], [0, 0, 0, 4, 0], [0, 0, 0, 0, 1]])\n",
    "print(A)\n",
    "Ainverse = A.I\n",
    "print(Ainverse)\n",
    "print(np.around(A*Ainverse))"
   ]
  },
  {
   "cell_type": "code",
   "execution_count": 36,
   "metadata": {},
   "outputs": [
    {
     "data": {
      "text/plain": [
       "matrix([[ 0.5       ,  0.16666667, -0.16666667,  0.5       , -0.66666667],\n",
       "        [ 0.        ,  0.16666667, -0.16666667,  0.        , -1.16666667],\n",
       "        [ 0.        ,  0.        ,  0.5       , -0.75      , -0.5       ],\n",
       "        [ 0.        ,  0.        ,  0.        ,  0.25      ,  0.        ],\n",
       "        [ 0.        ,  0.        ,  0.        ,  0.        ,  1.        ]])"
      ]
     },
     "execution_count": 36,
     "metadata": {},
     "output_type": "execute_result"
    }
   ],
   "source": [
    "Ainv = np.matrix([[1/2, 1/6, -1/6, 1/2, -2/3], [0, 1/6, -1/6, 0, -7/6], \n",
    "                  [0, 0, 1/2, -3/4, -1/2], [0, 0, 0, 1/4, 0], [0, 0, 0, 0, 1]])\n",
    "Ainv"
   ]
  },
  {
   "cell_type": "markdown",
   "metadata": {},
   "source": [
    "Question 23"
   ]
  },
  {
   "cell_type": "code",
   "execution_count": 39,
   "metadata": {},
   "outputs": [
    {
     "name": "stdout",
     "output_type": "stream",
     "text": [
      "[[ 0.55555556]\n",
      " [ 0.65277778]\n",
      " [ 0.75      ]\n",
      " [-0.01388889]\n",
      " [ 0.81944444]]\n"
     ]
    }
   ],
   "source": [
    "A=np.matrix([[1,1,0,2,1],[1,2,6,0,2],[1,0,4,8,8], [1,4,0,6,6], [1,0,2,4,0]])\n",
    "A\n",
    "b=np.matrix([[2],[8],[10],[8],[2]])\n",
    "AT=np.transpose(A)\n",
    "ATA=AT*A\n",
    "ATA_inv=ATA.I\n",
    "c=ATA_inv*AT*b\n",
    "print(c)"
   ]
  },
  {
   "cell_type": "code",
   "execution_count": 62,
   "metadata": {},
   "outputs": [
    {
     "data": {
      "text/plain": [
       "matrix([[0.96891216]])"
      ]
     },
     "execution_count": 62,
     "metadata": {},
     "output_type": "execute_result"
    }
   ],
   "source": [
    "\n",
    "\n",
    "\n",
    "a = np.matrix([[11.7489], [3], [0]])\n",
    "b = np.matrix([[1], [0], [0]])\n",
    "aT = np.transpose(a)\n",
    "aTb = aT * b\n",
    "a_dist = np.linalg.norm(a)\n",
    "b_dist = np.linalg.norm(b)\n",
    "cosphi=aTb/(a_dist*b_dist)\n",
    "cosphi"
   ]
  },
  {
   "cell_type": "code",
   "execution_count": null,
   "metadata": {},
   "outputs": [],
   "source": []
  }
 ],
 "metadata": {
  "kernelspec": {
   "display_name": "Python 3",
   "language": "python",
   "name": "python3"
  },
  "language_info": {
   "codemirror_mode": {
    "name": "ipython",
    "version": 3
   },
   "file_extension": ".py",
   "mimetype": "text/x-python",
   "name": "python",
   "nbconvert_exporter": "python",
   "pygments_lexer": "ipython3",
   "version": "3.8.5"
  }
 },
 "nbformat": 4,
 "nbformat_minor": 4
}
