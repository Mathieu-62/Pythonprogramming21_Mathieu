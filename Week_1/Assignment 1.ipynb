{
 "cells": [
  {
   "cell_type": "markdown",
   "metadata": {},
   "source": [
    "# Input-output models\n",
    "\n",
    "\n",
    "<a id='index-0'></a>"
   ]
  },
  {
   "cell_type": "markdown",
   "metadata": {},
   "source": [
    "Here we use python in the jupyter notebook. \n",
    "\n",
    "In the notebook, you evaluate (or \"run\") the python code by pressing the `SHIFT` and `ENTER` keys simultaneously.\n",
    "\n",
    "In this notebook we use the numpy library that we import:"
   ]
  },
  {
   "cell_type": "code",
   "execution_count": 1,
   "metadata": {},
   "outputs": [],
   "source": [
    "import numpy as np"
   ]
  },
  {
   "cell_type": "markdown",
   "metadata": {},
   "source": [
    "## Theoretical part \n",
    "\n",
    "Suppose we have the following vector $x$:\n",
    "\n",
    "$$x=\\begin{bmatrix}\n",
    "    1\\\\\n",
    "    2\\\\\n",
    "    3 \n",
    "\\end{bmatrix} $$\n",
    "\n",
    "We write this in python as demonstrated below."
   ]
  },
  {
   "cell_type": "code",
   "execution_count": 2,
   "metadata": {},
   "outputs": [
    {
     "data": {
      "text/plain": [
       "matrix([[1],\n",
       "        [2],\n",
       "        [3]])"
      ]
     },
     "execution_count": 2,
     "metadata": {},
     "output_type": "execute_result"
    }
   ],
   "source": [
    "x = np.matrix([[1],[2],[3]])\n",
    "x"
   ]
  },
  {
   "cell_type": "markdown",
   "metadata": {},
   "source": [
    "Suppose we have the following vector $y$:\n",
    "$$y=\\begin{bmatrix}\n",
    "    4\\\\\n",
    "    5\\\\\n",
    "    6 \n",
    "\\end{bmatrix}$$\n",
    "\n",
    "Again, we write this in python as demonstrated below."
   ]
  },
  {
   "cell_type": "code",
   "execution_count": 3,
   "metadata": {},
   "outputs": [
    {
     "data": {
      "text/plain": [
       "matrix([[4],\n",
       "        [5],\n",
       "        [6]])"
      ]
     },
     "execution_count": 3,
     "metadata": {},
     "output_type": "execute_result"
    }
   ],
   "source": [
    "y = np.matrix([[4],[5],[6]])\n",
    "y"
   ]
  },
  {
   "cell_type": "markdown",
   "metadata": {},
   "source": [
    "Using python we can easily calculate the matrix-vector product $y^Tx$ as follows:"
   ]
  },
  {
   "cell_type": "code",
   "execution_count": 4,
   "metadata": {},
   "outputs": [
    {
     "data": {
      "text/plain": [
       "matrix([[32]])"
      ]
     },
     "execution_count": 4,
     "metadata": {},
     "output_type": "execute_result"
    }
   ],
   "source": [
    "yTx = np.transpose(y)*x\n",
    "yTx"
   ]
  },
  {
   "cell_type": "markdown",
   "metadata": {},
   "source": [
    "**Exercise**\n",
    "\n",
    "Now calculate $x^Ty$, $xy^T$ and $yx^T$ yourself. What do you notice?"
   ]
  },
  {
   "cell_type": "code",
   "execution_count": 5,
   "metadata": {},
   "outputs": [
    {
     "name": "stdout",
     "output_type": "stream",
     "text": [
      "[[32]]\n",
      "[[32]]\n",
      "[[ 4  5  6]\n",
      " [ 8 10 12]\n",
      " [12 15 18]]\n",
      "[[ 4  8 12]\n",
      " [ 5 10 15]\n",
      " [ 6 12 18]]\n"
     ]
    }
   ],
   "source": [
    "xTy = np.transpose(x)*y\n",
    "xyT = x*np.transpose(y)\n",
    "yxT = y*np.transpose(x)\n",
    "print(yTx)\n",
    "print(xTy)\n",
    "print(xyT)\n",
    "print(yxT)"
   ]
  },
  {
   "cell_type": "markdown",
   "metadata": {},
   "source": [
    "I notice that if we first transpose and then multiply we get a 1x1 matrice. This makes sense, if we first transpose and then we get a 3x3 matrix, which makes sense too."
   ]
  },
  {
   "cell_type": "markdown",
   "metadata": {},
   "source": [
    "Suppose we have the following matrix $A$:\n",
    "\n",
    "$$A=\\begin{bmatrix}\n",
    "    1 & 2 & 3\\\\\n",
    "    4 & 5 & 6\\\\\n",
    "    7 & 8 & 9 \n",
    "\\end{bmatrix}$$\n",
    "\n",
    "We write this in python as demonstrated below."
   ]
  },
  {
   "cell_type": "code",
   "execution_count": 6,
   "metadata": {},
   "outputs": [
    {
     "data": {
      "text/plain": [
       "matrix([[1, 2, 3],\n",
       "        [4, 5, 6],\n",
       "        [7, 8, 9]])"
      ]
     },
     "execution_count": 6,
     "metadata": {},
     "output_type": "execute_result"
    }
   ],
   "source": [
    "A = np.matrix([[1, 2, 3],[4, 5, 6], [7, 8, 9]])\n",
    "A"
   ]
  },
  {
   "cell_type": "markdown",
   "metadata": {},
   "source": [
    "Using python we can easily calculate the product $A^TA$ as follows:"
   ]
  },
  {
   "cell_type": "code",
   "execution_count": 7,
   "metadata": {},
   "outputs": [
    {
     "data": {
      "text/plain": [
       "matrix([[ 66,  78,  90],\n",
       "        [ 78,  93, 108],\n",
       "        [ 90, 108, 126]])"
      ]
     },
     "execution_count": 7,
     "metadata": {},
     "output_type": "execute_result"
    }
   ],
   "source": [
    "ATA = np.transpose(A)*A\n",
    "ATA "
   ]
  },
  {
   "cell_type": "markdown",
   "metadata": {},
   "source": [
    "**Exercise**\n",
    "\n",
    "Now calculate $AA^T$ yourself. What do you notice?"
   ]
  },
  {
   "cell_type": "code",
   "execution_count": 8,
   "metadata": {},
   "outputs": [
    {
     "name": "stdout",
     "output_type": "stream",
     "text": [
      "[[ 66  78  90]\n",
      " [ 78  93 108]\n",
      " [ 90 108 126]]\n",
      "[[ 14  32  50]\n",
      " [ 32  77 122]\n",
      " [ 50 122 194]]\n"
     ]
    }
   ],
   "source": [
    "AAT = A*np.transpose(A)\n",
    "print(ATA)\n",
    "print(AAT)"
   ]
  },
  {
   "cell_type": "markdown",
   "metadata": {},
   "source": [
    "I notice that the answer is different, again this makes sense. When multiplying matrices it matters in what order you do it!"
   ]
  },
  {
   "cell_type": "markdown",
   "metadata": {},
   "source": [
    "Now suppose we have the following matrix $B$:\n",
    "\n",
    "$$B=\\begin{bmatrix}\n",
    "    1 & 2 & 3 & 4\\\\\n",
    "    5 & 6 & 7 & 8\\\\\n",
    "    9 & 10 & 11 & 12 \n",
    "\\end{bmatrix}$$\n",
    "\n",
    "**Exercise**\n",
    "\n",
    "Calculate $B^TB$ and $BB^T$. What do you notice?"
   ]
  },
  {
   "cell_type": "code",
   "execution_count": 9,
   "metadata": {},
   "outputs": [
    {
     "name": "stdout",
     "output_type": "stream",
     "text": [
      "[[107 122 137 152]\n",
      " [122 140 158 176]\n",
      " [137 158 179 200]\n",
      " [152 176 200 224]]\n",
      "[[ 30  70 110]\n",
      " [ 70 174 278]\n",
      " [110 278 446]]\n"
     ]
    }
   ],
   "source": [
    "B = np.matrix([[1, 2, 3, 4],[5, 6, 7, 8], [9, 10, 11, 12]])\n",
    "BTB = np.transpose(B)*B\n",
    "BBT = B*np.transpose(B)\n",
    "print(BTB)\n",
    "print(BBT)"
   ]
  },
  {
   "cell_type": "markdown",
   "metadata": {},
   "source": [
    "Let $e_1$ be the first unit vector:\n",
    "$$e_1=\\begin{bmatrix}\n",
    "    1\\\\\n",
    "    0\\\\\n",
    "    0\\\\\n",
    "    0\n",
    "\\end{bmatrix}$$\n",
    "\n",
    "Similarly we have unit vectors $e_2$, $e_3$ and $e_4$. \n",
    "\n",
    "**Exercise**\n",
    "\n",
    "Calculate $Be_1$, $Be_2$, $Be_3$ and $Be_4$. What do you notice?"
   ]
  },
  {
   "cell_type": "code",
   "execution_count": 10,
   "metadata": {},
   "outputs": [
    {
     "name": "stdout",
     "output_type": "stream",
     "text": [
      "[[1]\n",
      " [5]\n",
      " [9]]\n",
      "[[ 2]\n",
      " [ 6]\n",
      " [10]]\n",
      "[[ 3]\n",
      " [ 7]\n",
      " [11]]\n",
      "[[ 4]\n",
      " [ 8]\n",
      " [12]]\n"
     ]
    }
   ],
   "source": [
    "B = np.matrix([[1, 2, 3, 4],[5, 6, 7, 8], [9, 10, 11, 12]])\n",
    "e1 = np.matrix([[1],[0],[0],[0]])\n",
    "e2 = np.matrix([[0],[1],[0],[0]])\n",
    "e3 = np.matrix([[0],[0],[1],[0]])\n",
    "e4 = np.matrix([[0],[0],[0],[1]])\n",
    "Be1 = B*e1\n",
    "Be2 = B*e2\n",
    "Be3 = B*e3\n",
    "Be4 = B*e4\n",
    "print(Be1)\n",
    "print(Be2)\n",
    "print(Be3)\n",
    "print(Be4)"
   ]
  },
  {
   "cell_type": "markdown",
   "metadata": {},
   "source": [
    "Multiplying the vector by the unit vector gives the corresponding column. So Be1 returns column one from B, Be2 returns column two from B, etc."
   ]
  },
  {
   "cell_type": "markdown",
   "metadata": {},
   "source": [
    "## Application: input-output models (part 1)\n",
    "\n",
    "A chemical plant receives oil from three different regions: the Middle East, South America, and the North Sea. The quality of the oil is different for each region. These oils will be used to produce gasoline, diesel fuel, and lubricating oil. The oil from the Middle east will be only used for the production of gasoline. Of the oil of South America, 20 % will be used\n",
    "for the production of gasoline, and 80 % for the production of diesel fuel. Finally, 25 % of the North Sea oil will be used to produce gasoline, 25 % to produce diesel fuel, and 50 % for the production of lubricating oil. \n",
    "\n",
    "Suppose today a shipment arrives of 5000 barrels of oil from the Middle East, 9000 barrels of oil from South America, and 1000 barrels from the North Sea. The plant wants to know how much gasoline, diesel fuel, and lubricating oil it can produce from this shipment. \n",
    "\n",
    "Obviously, the 5000 barrels of oil from the Middle East will completely be used for the production of gasoline, i.e. 1 · 5000 = 5000 barrels of gasoline. Of the 9000 barrels of South America oil, 20 % will be used for the produc-\n",
    "tion of gasoline. Hence, this leads to 0.2 · 9000 = 1800 barrels of gasoline. Finally, of the 1000 barrels of North sea oil 25 % will be used for the production of gasoline. Hence, we obtain 0.25 · 1000 = 250 barrels of gasoline. Hence, the total number of barrels of gasoline that will be produced is\n",
    "\n",
    "$$1 · 5000 + 0.2 · 9000 + 0.25 · 1000 = 5000 + 1800 + 250 = 7050.$$\n",
    "\n",
    "Similarly, we obtain the total number of barrels of diesel fuel,\n",
    "\n",
    "$$0 · 5000 + 0.8 · 9000 + 0.25 · 1000 = 0 + 7200 + 250 = 7450,$$\n",
    "\n",
    "and the total number of barrels of lubricating oil,\n",
    "\n",
    "$$0 · 5000 + 0 · 9000 + 0.5 · 1000 = 0 + 0 + 500 = 500.$$\n",
    "\n",
    "Hence, the oil-delivery will result in 7050 barrels of gasoline, 7450 barrels of diesel fuel, and 500 barrels of lubricating oil.\n",
    "\n",
    "This production process can be summarized using the matrix-vector product. The production process can be represented by the following matrix:\n",
    "\n",
    "$$A=\\begin{bmatrix}\n",
    "    1 & 0.2 & 0.25\\\\\n",
    "    0 & 0.8 & 0.25\\\\\n",
    "    0 & 0 & 0.50 \n",
    "\\end{bmatrix}$$\n",
    "\n",
    "where the first column represents the division in the three end products of the Middle East oil, the second column represents the division in the three end products of the South America oil, and the third column represents the\n",
    "division in the three end products of the North Sea oil. "
   ]
  },
  {
   "cell_type": "code",
   "execution_count": 11,
   "metadata": {},
   "outputs": [
    {
     "data": {
      "text/plain": [
       "matrix([[1.  , 0.2 , 0.25],\n",
       "        [0.  , 0.8 , 0.25],\n",
       "        [0.  , 0.  , 0.5 ]])"
      ]
     },
     "execution_count": 11,
     "metadata": {},
     "output_type": "execute_result"
    }
   ],
   "source": [
    "A = np.matrix([[1, 0.2, 0.25],[0, 0.8, 0.25], [0,0,0.5]])\n",
    "A"
   ]
  },
  {
   "cell_type": "markdown",
   "metadata": {},
   "source": [
    "The shipment of the oil can be summarized by the following vector:\n",
    "\n",
    "$$q=\\begin{bmatrix}\n",
    "    5000\\\\\n",
    "    9000\\\\\n",
    "    1000 \n",
    "\\end{bmatrix}$$"
   ]
  },
  {
   "cell_type": "code",
   "execution_count": 12,
   "metadata": {},
   "outputs": [
    {
     "data": {
      "text/plain": [
       "matrix([[5000],\n",
       "        [9000],\n",
       "        [1000]])"
      ]
     },
     "execution_count": 12,
     "metadata": {},
     "output_type": "execute_result"
    }
   ],
   "source": [
    "q = np.matrix([[5000],[9000], [1000]])\n",
    "q"
   ]
  },
  {
   "cell_type": "markdown",
   "metadata": {},
   "source": [
    "Using the matrix-vector product, it can easily be calculated how much gasoline, diesel fuel, and lubricating oil can be produced from this oil-delivery.\n",
    "\n",
    "\\begin{align}\n",
    "Aq&=\\begin{bmatrix}\n",
    "    1 & 0.2 & 0.25\\\\\n",
    "    0 & 0.8 & 0.25\\\\\n",
    "    0 & 0 & 0.50 \n",
    "\\end{bmatrix} \\begin{bmatrix}\n",
    "    5000\\\\\n",
    "    9000\\\\\n",
    "    1000 \n",
    "\\end{bmatrix}\\\\\n",
    "& = \\begin{bmatrix}\n",
    "    1 \\times 5000 + 0.2 \\times 9000 + 0.25 \\times 1000\\\\\n",
    "    0 \\times 5000 + 0.8 \\times 9000 + 0.25 \\times 1000\\\\\n",
    "    0 \\times 5000 + \\ \\ 0 \\times 9000 + 0.50 \\times 1000 \n",
    "\\end{bmatrix}\\\\\n",
    "& = \\begin{bmatrix}\n",
    "7050\\\\\n",
    "7450\\\\\n",
    "500\n",
    "\\end{bmatrix}\n",
    "\\end{align}"
   ]
  },
  {
   "cell_type": "code",
   "execution_count": 13,
   "metadata": {},
   "outputs": [
    {
     "data": {
      "text/plain": [
       "matrix([[7050.],\n",
       "        [7450.],\n",
       "        [ 500.]])"
      ]
     },
     "execution_count": 13,
     "metadata": {},
     "output_type": "execute_result"
    }
   ],
   "source": [
    "Aq=A*q\n",
    "Aq"
   ]
  },
  {
   "cell_type": "markdown",
   "metadata": {},
   "source": [
    "Hence, using the matrix-vector product we come to the same conclusion: the oil-delivery will result in 7050 barrels of gasoline, 7450 barrels of diesel fuel, and 500 barrels of lubricating oil.\n",
    "\n",
    "**Exercise 1.11** (matrix-vector product)\n",
    "\n",
    "The next day a shipment of 10000 barrels of oil from the Middle East, 1000 barrels of\n",
    "South America, and 200 barrels of the North Sea arrives. Determine the output of gasoline,\n",
    "diesel fuel, and lubricating oil of this oil-delivery."
   ]
  },
  {
   "cell_type": "code",
   "execution_count": 14,
   "metadata": {},
   "outputs": [
    {
     "name": "stdout",
     "output_type": "stream",
     "text": [
      "[[10250.]\n",
      " [  850.]\n",
      " [  100.]]\n"
     ]
    }
   ],
   "source": [
    "n = np.matrix([[10000],[1000], [200]])\n",
    "An = A*n\n",
    "print(An)"
   ]
  },
  {
   "cell_type": "markdown",
   "metadata": {},
   "source": [
    "## Application: input-output models (part 2)\n",
    "\n",
    "Now a chemical plant receives oil from five different regions: the Middle East, South America, the North Sea, Africa and Asia. Again, the quality of the oil is different for each region. These oils will be used to produce gasoline, diesel fuel, lubricating oil, fuel 95 and fuel 98. The oil from the Middle east will be only used for the production of gasoline. Of the oil of South America, 20 % will be used for the production of gasoline, and 80 % for the production of diesel fuel. 25 % of the North Sea oil will be used to produce gasoline, 25 % to produce diesel fuel, and 50 % for the production of lubricating oil. Of the oil of Africa, 10 % will be used for the production of gasoline, 10 % for the production of lubricating oil, 30 % for the production of fuel 95 and 50 % for the production of fuel 98. Finally, 30 % of the Asia oil will be used to produce gasoline, 5 % to produce diesel fuel, 50 % for the production of fuel 95, and 15% for the production of fuel 98.\n",
    "\n",
    "Suppose today a shipment arrives of 5000 barrels of oil from the Middle East, 9000 barrels of oil from South America, 1000 barrels from the North Sea, 4000 barrels of oil from Africa, and 4000 barrels of oil from Asia. The plant wants to know how much gasoline, diesel fuel, lubricating oil, fuel 95, and fuel 98 it can produce from this shipment. \n",
    "\n",
    "**Exercise** (matrix-vector product)\n",
    "With the new information, $A$ will be a 5x5 matrix and $q$ will be a 5x1 vector. Determine the output of gasoline, diesel fuel, lubricating oil, fuel 95, and fuel 98 of this oil-delivery."
   ]
  },
  {
   "cell_type": "code",
   "execution_count": 15,
   "metadata": {},
   "outputs": [
    {
     "data": {
      "text/plain": [
       "matrix([[1.  , 0.2 , 0.25, 0.1 , 0.3 ],\n",
       "        [0.  , 0.8 , 0.25, 0.  , 0.05],\n",
       "        [0.  , 0.  , 0.5 , 0.1 , 0.  ],\n",
       "        [0.  , 0.  , 0.  , 0.3 , 0.5 ],\n",
       "        [0.  , 0.  , 0.  , 0.5 , 0.15]])"
      ]
     },
     "execution_count": 15,
     "metadata": {},
     "output_type": "execute_result"
    }
   ],
   "source": [
    "#first row will be gasoline, second row will be diesel and 3rd is lubricating oil, 4rth = fuel 95 and 5th = fuel 98, \n",
    "#columns are in order listed in question.\n",
    "B = np.matrix([[1, 0.2, 0.25, 0.1, 0.3],[0, 0.8, 0.25, 0, 0.05], [0,0,0.5,0.1,0], [0,0,0,0.3,0.5], [0,0,0,0.5,0.15]])\n",
    "B"
   ]
  },
  {
   "cell_type": "code",
   "execution_count": 16,
   "metadata": {},
   "outputs": [
    {
     "data": {
      "text/plain": [
       "matrix([[5000],\n",
       "        [9000],\n",
       "        [1000],\n",
       "        [4000],\n",
       "        [4000]])"
      ]
     },
     "execution_count": 16,
     "metadata": {},
     "output_type": "execute_result"
    }
   ],
   "source": [
    "#defining vector q\n",
    "q = np.matrix([[5000],[9000], [1000], [4000], [4000]])\n",
    "q"
   ]
  },
  {
   "cell_type": "code",
   "execution_count": 17,
   "metadata": {},
   "outputs": [
    {
     "name": "stdout",
     "output_type": "stream",
     "text": [
      "[[8650.]\n",
      " [7650.]\n",
      " [ 900.]\n",
      " [3200.]\n",
      " [2600.]]\n"
     ]
    }
   ],
   "source": [
    "#now we simply multiply as follows; \n",
    "Bq = B*q\n",
    "print(Bq)"
   ]
  },
  {
   "cell_type": "code",
   "execution_count": null,
   "metadata": {},
   "outputs": [],
   "source": []
  }
 ],
 "metadata": {
  "kernelspec": {
   "display_name": "Python 3",
   "language": "python",
   "name": "python3"
  },
  "language_info": {
   "codemirror_mode": {
    "name": "ipython",
    "version": 3
   },
   "file_extension": ".py",
   "mimetype": "text/x-python",
   "name": "python",
   "nbconvert_exporter": "python",
   "pygments_lexer": "ipython3",
   "version": "3.8.5"
  }
 },
 "nbformat": 4,
 "nbformat_minor": 4
}
