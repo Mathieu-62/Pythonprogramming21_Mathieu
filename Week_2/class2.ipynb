{
 "cells": [
  {
   "cell_type": "markdown",
   "metadata": {},
   "source": [
    "# Week 2 in class"
   ]
  },
  {
   "cell_type": "code",
   "execution_count": 2,
   "metadata": {},
   "outputs": [],
   "source": [
    "import matplotlib.pyplot as plt\n",
    "import numpy as np\n",
    "import pandas as pd\n",
    "%matplotlib inline"
   ]
  },
  {
   "cell_type": "markdown",
   "metadata": {},
   "source": [
    "## Dictionaries"
   ]
  },
  {
   "cell_type": "markdown",
   "metadata": {},
   "source": [
    "#### Exercise\n",
    "\n",
    "Below you can find the dictionary `chinadata`. \n",
    "\n",
    "You should remove the key `\"irrigated_land\"` (and its value) from the dictionary chinadata below using the `pop` method.\n",
    "\n",
    "To figure out how to use the `pop` method, apply the method with a question mark behind it and press SHIFT+ENTER."
   ]
  },
  {
   "cell_type": "code",
   "execution_count": 16,
   "metadata": {},
   "outputs": [
    {
     "name": "stdout",
     "output_type": "stream",
     "text": [
      "690070\n",
      "{'country': 'China', 'year': 2015, 'GDP': 11.06, 'population': 1.371, 'unemployment': 4.051, 'top_religions': {'buddhist': 18.2, 'christian': 5.1, 'muslim': 1.8}}\n"
     ]
    }
   ],
   "source": [
    "chinadata={'country': 'China',\n",
    " 'year': 2015,\n",
    " 'GDP': 11.06,\n",
    " 'population': 1.371,\n",
    " 'unemployment': 4.051,\n",
    " 'irrigated_land': 690070,\n",
    " 'top_religions': {'buddhist': 18.2, 'christian': 5.1, 'muslim': 1.8}}\n",
    "\n",
    "print(chinadata.pop('irrigated_land'))\n",
    "print(chinadata)"
   ]
  },
  {
   "cell_type": "markdown",
   "metadata": {},
   "source": [
    "#### Exercise\n",
    "\n",
    "Explain what happens to the value you popped, and what happens when calling `pop` twice."
   ]
  },
  {
   "cell_type": "markdown",
   "metadata": {},
   "source": [
    "It removed the value and it's corresponding value. When doing it twice it said error that that value doesnt exist anymore..."
   ]
  },
  {
   "cell_type": "markdown",
   "metadata": {},
   "source": [
    "## Plotting functions"
   ]
  },
  {
   "cell_type": "markdown",
   "metadata": {
    "deletable": false,
    "nbgrader": {
     "checksum": "ead4d3ab34376bc9759c0542a54df59d",
     "grade": false,
     "grade_id": "cell-09dbe4ad2af0866e",
     "locked": true,
     "schema_version": 1,
     "solution": false
    }
   },
   "source": [
    "Suppose we would like to plot the function $f(x)=\\sin(x)$. For this we can also use the plotting library `matplotlib` that we saw in Datacamp and the homework, and that we already imported above. \n",
    "\n",
    "In Datacamp you have seen the function `plt.plot`. To figure out whether and how to use `plt.plot` for plotting functions, explore jupyter's help facilities."
   ]
  },
  {
   "cell_type": "code",
   "execution_count": 30,
   "metadata": {
    "deletable": false,
    "nbgrader": {
     "checksum": "03b5d2085a675a1f9225910de02d3526",
     "grade": false,
     "grade_id": "cell-c8cf031e75070ab2",
     "locked": true,
     "schema_version": 1,
     "solution": false
    }
   },
   "outputs": [
    {
     "data": {
      "image/png": "[encoded data removed]",
      "text/plain": [
       "<Figure size 432x288 with 1 Axes>"
      ]
     },
     "metadata": {
      "needs_background": "light"
     },
     "output_type": "display_data"
    }
   ],
   "source": [
    "x = np.linspace(0,2*np.pi,100)\n",
    "y = np.sin(x)\n",
    "plt.plot(x,y)\n",
    "plt.show()"
   ]
  },
  {
   "cell_type": "markdown",
   "metadata": {
    "deletable": false,
    "nbgrader": {
     "checksum": "d7fa96216d35154be29fc11ae03de592",
     "grade": false,
     "grade_id": "cell-9f26c2249988ff8f",
     "locked": true,
     "schema_version": 1,
     "solution": false
    }
   },
   "source": [
    "You can read a lot of text explaining `plt.plot` not all of which will be helpful for someone who is just starting with python (like you are). However, browsing through the text, you may see that `plt.plot` needs two lists to plot against each other. "
   ]
  },
  {
   "cell_type": "markdown",
   "metadata": {
    "nbgrader": {
     "checksum": "c7c4f30a8ec379e8b3613bc53c60eb4c",
     "grade": false,
     "grade_id": "cell-3dc2ba2d7f5a5dde",
     "locked": true,
     "schema_version": 1,
     "solution": false
    }
   },
   "source": [
    "#### Exercise\n",
    "\n",
    "Use the function `linspace` and the value $\\pi$ from numpy to create a list of 60 numbers from $-\\pi$ to (and including) $\\pi$. "
   ]
  },
  {
   "cell_type": "code",
   "execution_count": 34,
   "metadata": {
    "deletable": false,
    "nbgrader": {
     "checksum": "8ed646f6de312c082ca61c9e6d7434d3",
     "grade": true,
     "grade_id": "cell-b6373b8587b931a3",
     "locked": false,
     "points": 1,
     "schema_version": 1,
     "solution": true
    }
   },
   "outputs": [
    {
     "name": "stdout",
     "output_type": "stream",
     "text": [
      "[-3.14159265 -3.03509799 -2.92860332 -2.82210865 -2.71561399 -2.60911932\n",
      " -2.50262466 -2.39612999 -2.28963532 -2.18314066 -2.07664599 -1.97015133\n",
      " -1.86365666 -1.75716199 -1.65066733 -1.54417266 -1.43767799 -1.33118333\n",
      " -1.22468866 -1.118194   -1.01169933 -0.90520466 -0.79871    -0.69221533\n",
      " -0.58572066 -0.479226   -0.37273133 -0.26623667 -0.159742   -0.05324733\n",
      "  0.05324733  0.159742    0.26623667  0.37273133  0.479226    0.58572066\n",
      "  0.69221533  0.79871     0.90520466  1.01169933  1.118194    1.22468866\n",
      "  1.33118333  1.43767799  1.54417266  1.65066733  1.75716199  1.86365666\n",
      "  1.97015133  2.07664599  2.18314066  2.28963532  2.39612999  2.50262466\n",
      "  2.60911932  2.71561399  2.82210865  2.92860332  3.03509799  3.14159265]\n"
     ]
    }
   ],
   "source": [
    "x = np.linspace(-np.pi,np.pi,60)\n",
    "print(lins_numbers)"
   ]
  },
  {
   "cell_type": "markdown",
   "metadata": {
    "nbgrader": {
     "checksum": "8337cb262c4d50866eebdff0117c628c",
     "grade": false,
     "grade_id": "cell-661d240a41f2246a",
     "locked": true,
     "schema_version": 1,
     "solution": false
    }
   },
   "source": [
    "Next we define a list (vector, if you want) of $y=f(x)$ values."
   ]
  },
  {
   "cell_type": "markdown",
   "metadata": {
    "deletable": false,
    "nbgrader": {
     "checksum": "752aaea9dd4bddc3b0ccedb83943cdd0",
     "grade": false,
     "grade_id": "cell-4308843a3ce070ad",
     "locked": true,
     "schema_version": 1,
     "solution": false
    }
   },
   "source": [
    "#### Exercise\n",
    "\n",
    "Generate a list `y` with as elements $\\sin(x)$."
   ]
  },
  {
   "cell_type": "code",
   "execution_count": 37,
   "metadata": {
    "deletable": false,
    "nbgrader": {
     "checksum": "405742c7d54e0f4db145a4321fb6d717",
     "grade": true,
     "grade_id": "cell-beb2632bc5328957",
     "locked": false,
     "points": 1,
     "schema_version": 1,
     "solution": true
    }
   },
   "outputs": [
    {
     "name": "stdout",
     "output_type": "stream",
     "text": [
      "[-1.22464680e-16 -1.06293486e-01 -2.11382624e-01 -3.14076712e-01\n",
      " -4.13212186e-01 -5.07665800e-01 -5.96367359e-01 -6.78311836e-01\n",
      " -7.52570770e-01 -8.18302776e-01 -8.74763085e-01 -9.21311978e-01\n",
      " -9.57422038e-01 -9.82684125e-01 -9.96812007e-01 -9.99645611e-01\n",
      " -9.91152831e-01 -9.71429893e-01 -9.40700267e-01 -8.99312130e-01\n",
      " -8.47734428e-01 -7.86551556e-01 -7.16456740e-01 -6.38244184e-01\n",
      " -5.52800065e-01 -4.61092501e-01 -3.64160575e-01 -2.63102564e-01\n",
      " -1.59063496e-01 -5.32221748e-02  5.32221748e-02  1.59063496e-01\n",
      "  2.63102564e-01  3.64160575e-01  4.61092501e-01  5.52800065e-01\n",
      "  6.38244184e-01  7.16456740e-01  7.86551556e-01  8.47734428e-01\n",
      "  8.99312130e-01  9.40700267e-01  9.71429893e-01  9.91152831e-01\n",
      "  9.99645611e-01  9.96812007e-01  9.82684125e-01  9.57422038e-01\n",
      "  9.21311978e-01  8.74763085e-01  8.18302776e-01  7.52570770e-01\n",
      "  6.78311836e-01  5.96367359e-01  5.07665800e-01  4.13212186e-01\n",
      "  3.14076712e-01  2.11382624e-01  1.06293486e-01  1.22464680e-16]\n"
     ]
    }
   ],
   "source": [
    "y = np.sin(x)\n",
    "print(y)"
   ]
  },
  {
   "cell_type": "markdown",
   "metadata": {},
   "source": [
    "#### Exercise \n",
    "\n",
    "Now use `plt.plot` to plot $x$ against $y$."
   ]
  },
  {
   "cell_type": "code",
   "execution_count": 38,
   "metadata": {
    "deletable": false,
    "nbgrader": {
     "checksum": "d71f53cefdb37a6d9da7966318672476",
     "grade": true,
     "grade_id": "cell-ef22fb55d4ccbae7",
     "locked": false,
     "points": 1,
     "schema_version": 1,
     "solution": true
    }
   },
   "outputs": [
    {
     "data": {
      "image/png": "[encoded data removed]",
      "text/plain": [
       "<Figure size 432x288 with 1 Axes>"
      ]
     },
     "metadata": {
      "needs_background": "light"
     },
     "output_type": "display_data"
    }
   ],
   "source": [
    "plt.plot(x,y)\n",
    "plt.show()"
   ]
  },
  {
   "cell_type": "markdown",
   "metadata": {
    "deletable": false,
    "nbgrader": {
     "checksum": "0139152c2d00fabb58cde1d7fcc108d2",
     "grade": false,
     "grade_id": "cell-fe2ddf35afdd7b8d",
     "locked": true,
     "schema_version": 1,
     "solution": false
    }
   },
   "source": [
    "In the figure above, $x$ is ordered, hence it makes sense to connect two $x$'s next to each other with a line. This is not always the case. E.g. in most datasets there is no relation between two observations next to each other. \n",
    "\n",
    "**Exercise** \n",
    "\n",
    "In the next cell, type `plt.` and press the tab key.  You will see all the functions that you can use after `plt.`. Type the letter \"s\" to find a plot that can be used in such a case."
   ]
  },
  {
   "cell_type": "code",
   "execution_count": 43,
   "metadata": {
    "deletable": false,
    "nbgrader": {
     "checksum": "c963a66d0d5ee0da7c0825398ea9eb20",
     "grade": true,
     "grade_id": "cell-3ddbe1d6f45f3f48",
     "locked": false,
     "points": 1,
     "schema_version": 1,
     "solution": true
    }
   },
   "outputs": [],
   "source": [
    "plt.show()"
   ]
  },
  {
   "cell_type": "markdown",
   "metadata": {
    "deletable": false,
    "nbgrader": {
     "checksum": "871daff9f20d81dc0479955d92953379",
     "grade": false,
     "grade_id": "cell-5acf3ee70ff27824",
     "locked": true,
     "schema_version": 1,
     "solution": false
    }
   },
   "source": [
    "#### Exercise\n",
    "\n",
    "Use this function from `plt` to plot $x$ against $y$ without a line being drawn."
   ]
  },
  {
   "cell_type": "code",
   "execution_count": 44,
   "metadata": {
    "deletable": false,
    "nbgrader": {
     "checksum": "ddc8c4c1d2927d63a5c929ee264f9e23",
     "grade": true,
     "grade_id": "cell-9ed9dfe1066a65a3",
     "locked": false,
     "points": 1,
     "schema_version": 1,
     "solution": true
    }
   },
   "outputs": [
    {
     "data": {
      "image/png": "[encoded data removed]",
      "text/plain": [
       "<Figure size 432x288 with 1 Axes>"
      ]
     },
     "metadata": {
      "needs_background": "light"
     },
     "output_type": "display_data"
    }
   ],
   "source": [
    "plt.scatter(x,y)\n",
    "plt.show()"
   ]
  },
  {
   "cell_type": "markdown",
   "metadata": {},
   "source": [
    "## Hacker statistics\n",
    "\n",
    "To illustrate how to use statistical distributions in python, we will revisit two well known statisticals results. Instead of deriving these, we will simulate them. Then we ask you to recognize what they are.\n",
    "\n",
    "We start with a [Poisson distribution](https://en.wikipedia.org/wiki/Poisson_distribution). To draw one sample out of a Poisson distribution with parameter $\\lambda = 4$, you can do the following:"
   ]
  },
  {
   "cell_type": "code",
   "execution_count": 64,
   "metadata": {},
   "outputs": [
    {
     "data": {
      "text/plain": [
       "array([5, 2])"
      ]
     },
     "execution_count": 64,
     "metadata": {},
     "output_type": "execute_result"
    }
   ],
   "source": [
    "np.random.poisson(4,1)"
   ]
  },
  {
   "cell_type": "markdown",
   "metadata": {},
   "source": [
    "Note that these numbers are random. Hence, you see a different number, each time you do this.\n",
    "\n",
    "To get an idea of what the distribution looks like, we can plot the mathematical equation for this distribution. \n",
    "\n",
    "But another way to do this, is to draw, say, 2000 samples from it and then plot the histogram of these samples. As long as you draw enough samples, this histogram will be reasonable accurate.\n",
    "\n",
    "**Exercise** \n",
    "\n",
    "Plot the histogram of 2000 draws from this Poisson distribution with $\\lambda=4$."
   ]
  },
  {
   "cell_type": "code",
   "execution_count": 76,
   "metadata": {},
   "outputs": [
    {
     "data": {
      "image/png": "[encoded data removed]",
      "text/plain": [
       "<Figure size 432x288 with 1 Axes>"
      ]
     },
     "metadata": {
      "needs_background": "light"
     },
     "output_type": "display_data"
    }
   ],
   "source": [
    "data = np.random.poisson(4,2000)\n",
    "data\n",
    "\n",
    "plt.hist(data)\n",
    "plt.show()"
   ]
  },
  {
   "cell_type": "markdown",
   "metadata": {},
   "source": [
    "Now we are going to use this same idea to generate the distribution of the mean. The function `mean(n)` below does the following. We draw `n` samples out of the Poisson distribution with $\\lambda =4$ and we calculate the average (mean) of these `n` draws. This experiment --of calculating the mean of `n` draws-- we do 2000 times."
   ]
  },
  {
   "cell_type": "code",
   "execution_count": 16,
   "metadata": {},
   "outputs": [],
   "source": [
    "number_of_iterations = 2000\n",
    "\n",
    "def mean(n):\n",
    "    averages = []\n",
    "    for i in range(number_of_iterations):\n",
    "        x = np.random.poisson(4,n)\n",
    "        averages.append(np.mean(x))\n",
    "    return averages\n",
    "y = mean(2000)"
   ]
  },
  {
   "cell_type": "markdown",
   "metadata": {},
   "source": [
    "**Exercise** \n",
    "\n",
    "Plot the distribution of the average of 100 draws from a Poisson distribution with $\\lambda=4$."
   ]
  },
  {
   "cell_type": "code",
   "execution_count": 18,
   "metadata": {},
   "outputs": [
    {
     "data": {
      "text/plain": [
       "<function matplotlib.pyplot.show(close=None, block=None)>"
      ]
     },
     "execution_count": 18,
     "metadata": {},
     "output_type": "execute_result"
    },
    {
     "data": {
      "image/png": "[encoded data removed]",
      "text/plain": [
       "<Figure size 432x288 with 1 Axes>"
      ]
     },
     "metadata": {
      "needs_background": "light"
     },
     "output_type": "display_data"
    }
   ],
   "source": [
    "number_of_iterations = 2000\n",
    "\n",
    "def mean(n):\n",
    "    averages = []\n",
    "    for i in range(number_of_iterations):\n",
    "        x = np.random.poisson(4,n)\n",
    "        averages.append(np.mean(x))\n",
    "    return averages\n",
    "\n",
    "y = mean(100)\n",
    "plt.hist(y)\n",
    "plt.show"
   ]
  },
  {
   "cell_type": "markdown",
   "metadata": {},
   "source": [
    "**Exercise** \n",
    "\n",
    "What shape does this distribution have and why?"
   ]
  },
  {
   "cell_type": "markdown",
   "metadata": {},
   "source": [
    "weird one idk..."
   ]
  },
  {
   "cell_type": "markdown",
   "metadata": {},
   "source": [
    "**Exercise** \n",
    "\n",
    "Calculate the average of this distribution. Does this coincide with the theoretical prediction of this average?"
   ]
  },
  {
   "cell_type": "code",
   "execution_count": 19,
   "metadata": {},
   "outputs": [
    {
     "data": {
      "text/plain": [
       "4.001205"
      ]
     },
     "execution_count": 19,
     "metadata": {},
     "output_type": "execute_result"
    }
   ],
   "source": [
    "np.mean(y)"
   ]
  },
  {
   "cell_type": "markdown",
   "metadata": {},
   "source": [
    "YOUR ANSWER HERE"
   ]
  },
  {
   "cell_type": "markdown",
   "metadata": {},
   "source": [
    "**Exercise** \n",
    "\n",
    "Calculate the standard deviation of this average. What is this standard deviation called? What is the theoretical expression for this standard deviation?"
   ]
  },
  {
   "cell_type": "code",
   "execution_count": 20,
   "metadata": {},
   "outputs": [
    {
     "data": {
      "text/plain": [
       "0.19583564020627092"
      ]
     },
     "execution_count": 20,
     "metadata": {},
     "output_type": "execute_result"
    }
   ],
   "source": [
    "np.std(y)"
   ]
  },
  {
   "cell_type": "markdown",
   "metadata": {},
   "source": [
    "A lot of the answers fall within 0.199 of the mean."
   ]
  },
  {
   "cell_type": "markdown",
   "metadata": {},
   "source": [
    "## Visualization\n",
    "\n",
    "One of the most important outputs of your analysis will be the visualizations that you choose to\n",
    "communicate what you’ve discovered.\n",
    "\n",
    "Here are what some people – whom we think have earned the right to an opinion on this\n",
    "material – have said with respect to data visualizations.\n",
    "\n",
    "> Above all else, show the data – Edward Tufte\n",
    "\n",
    "> By visualizing information, we turn it into a landscape that you can explore with your eyes. A sort of information map. And when you’re lost in information, an information map is kind of useful – David McCandless\n",
    "\n",
    "> I spend hours thinking about how to get the story across in my visualizations. I don’t mind taking that long because it’s that five minutes of presenting it or someone getting it that can make or break a deal – Goldman Sachs executive\n",
    "\n",
    "In almost any profession that you pursue, much of what you do involves communicating ideas to others. Data visualization can help you communicate these ideas effectively, and we encourage you to learn more about what makes a useful visualization.\n",
    "\n",
    "We won’t have time to cover “how to make a compelling data visualization” in this course, but you will learn more about this in other courses of your curriculum.\n",
    "\n",
    "Instead, we will focus on the basics of creating visualizations in Python. This will be a fast introduction, but this material appears in almost every week going forward, which will help the concepts sink in."
   ]
  },
  {
   "cell_type": "markdown",
   "metadata": {},
   "source": [
    "### Visualization in Python\n",
    "\n",
    "As before, we will use the  matplotlib library. The matplotlib library is versatile and very flexible. You can see various examples of what it can do on the [matplotlib example gallery](https://matplotlib.org/2.0.2/gallery.html).\n",
    "\n",
    "A first step towards making more beautiful plots is to distinguish between figure and axis objects. Below you find the example of plotting $f(x)=\\sin(x)$ now using figure and axis objects:\n",
    "1. Creates a figure and axis object which stores the information from our graph.  \n",
    "1. Generates the data that we will plot, as before. \n",
    "1. Uses the `x` and `y` data, and make a line plot on our axis, `ax`, by calling the `plot` method.  "
   ]
  },
  {
   "cell_type": "code",
   "execution_count": 95,
   "metadata": {
    "hide-output": false
   },
   "outputs": [
    {
     "data": {
      "text/plain": [
       "[<matplotlib.lines.Line2D at 0x7fbcc212d700>]"
      ]
     },
     "execution_count": 95,
     "metadata": {},
     "output_type": "execute_result"
    },
    {
     "data": {
      "image/png": "[encoded data removed]",
      "text/plain": [
       "<Figure size 432x288 with 1 Axes>"
      ]
     },
     "metadata": {
      "needs_background": "light"
     },
     "output_type": "display_data"
    }
   ],
   "source": [
    "# Step 1\n",
    "fig, ax = plt.subplots()\n",
    "\n",
    "# Step 2\n",
    "x = np.linspace(-np.pi,np.pi,60)\n",
    "y = np.sin(x)\n",
    "\n",
    "# Step 3\n",
    "ax.plot(x, y)"
   ]
  },
  {
   "cell_type": "markdown",
   "metadata": {},
   "source": [
    "### Difference between Figure and Axis\n",
    "\n",
    "We’ve found that the easiest way for us to distinguish between the figure and axis objects is to\n",
    "think about them as a framed painting.\n",
    "\n",
    "The axis is the canvas; it is where we “draw” our plots.\n",
    "\n",
    "The figure is the entire framed painting (which inclues the axis itself!).\n",
    "\n",
    "We can also see this by setting certain elements of the figure to different colors."
   ]
  },
  {
   "cell_type": "code",
   "execution_count": 112,
   "metadata": {
    "hide-output": false
   },
   "outputs": [
    {
     "data": {
      "image/png": "[encoded data removed]",
      "text/plain": [
       "<Figure size 432x288 with 1 Axes>"
      ]
     },
     "metadata": {},
     "output_type": "display_data"
    }
   ],
   "source": [
    "fig, ax = plt.subplots()\n",
    "fig.set_facecolor(\"red\")\n",
    "ax.set_facecolor(\"blue\")"
   ]
  },
  {
   "cell_type": "markdown",
   "metadata": {},
   "source": [
    "This difference between figure and axis also means that you can place more than one axis on a figure. We will see an example below! "
   ]
  },
  {
   "cell_type": "markdown",
   "metadata": {},
   "source": [
    "### The Law of Large Numbers\n",
    "\n",
    "An important mathematical theorem is the *Law of Large Numbers* that you may have seen in a statistics course. \n",
    "\n",
    "The Law of Large Numbers basically says that under relatively general conditions, the distribution of simulated outcomes will mimic the true distribution as the number of simulated events goes to infinity. It is the reason we extended our sample of the Poisson distribution to 2000 draws.\n",
    "\n",
    "We saw the uniform distribution in the homework already, so let’s demonstrate the Law of Large Numbers by approximating the uniform distribution."
   ]
  },
  {
   "cell_type": "code",
   "execution_count": 95,
   "metadata": {},
   "outputs": [
    {
     "data": {
      "image/png": "[encoded data removed]",
      "text/plain": [
       "<Figure size 432x288 with 3 Axes>"
      ]
     },
     "metadata": {
      "needs_background": "light"
     },
     "output_type": "display_data"
    }
   ],
   "source": [
    "# Draw various numbers of uniform[0, 1] random variables\n",
    "draws_10 = np.random.rand(10)\n",
    "draws_200 = np.random.rand(200)\n",
    "draws_10000 = np.random.rand(10_000)\n",
    "\n",
    "# Plot their histograms\n",
    "fig, ax = plt.subplots(3)\n",
    "\n",
    "ax[0].set_title(\"Histogram with 10 draws\")\n",
    "ax[0].hist(draws_10)\n",
    "\n",
    "ax[1].set_title(\"Histogram with 200 draws\")\n",
    "ax[1].hist(draws_200)\n",
    "\n",
    "ax[2].set_title(\"Histogram with 10,000 draws\")\n",
    "ax[2].hist(draws_10000)\n",
    "\n",
    "fig.tight_layout()"
   ]
  },
  {
   "cell_type": "markdown",
   "metadata": {},
   "source": [
    "**Exercise** \n",
    "\n",
    "Use the data below the create the graph given below in the picture. \n",
    "\n",
    "If you don't see the picture, make sure that you download the file figureA.png and save it as figureA.png in the the same folder as this notebook. \n",
    "\n",
    "HINT: use the `tight_layout` function from the histograms of the uniform distribution above!"
   ]
  },
  {
   "cell_type": "markdown",
   "metadata": {},
   "source": [
    "![Figure_1](figureA.png \"Title\")"
   ]
  },
  {
   "cell_type": "code",
   "execution_count": 17,
   "metadata": {},
   "outputs": [
    {
     "data": {
      "image/png": "[encoded data removed]",
      "text/plain": [
       "<Figure size 432x288 with 2 Axes>"
      ]
     },
     "metadata": {
      "needs_background": "light"
     },
     "output_type": "display_data"
    }
   ],
   "source": [
    "countries = [\"CAN\", \"MEX\", \"USA\"]\n",
    "populations = [36.7, 129.2, 325.700]\n",
    "land_area = [3.850, 0.761, 3.790]\n",
    "\n",
    "#making subplots possible;\n",
    "fig, ax = plt.subplots(2)\n",
    "\n",
    "#making first plot\n",
    "ax[0].set_title(\"Populations (in millions)\")\n",
    "ax[0].bar(countries, populations)\n",
    "\n",
    "ax[1].set_title(\"Land area (in millions miles squared)\")\n",
    "ax[1].bar(countries, land_area)\n",
    "\n",
    "fig.tight_layout()"
   ]
  },
  {
   "cell_type": "code",
   "execution_count": null,
   "metadata": {},
   "outputs": [],
   "source": []
  }
 ],
 "metadata": {
  "kernelspec": {
   "display_name": "Python 3",
   "language": "python",
   "name": "python3"
  },
  "language_info": {
   "codemirror_mode": {
    "name": "ipython",
    "version": 3
   },
   "file_extension": ".py",
   "mimetype": "text/x-python",
   "name": "python",
   "nbconvert_exporter": "python",
   "pygments_lexer": "ipython3",
   "version": "3.8.5"
  }
 },
 "nbformat": 4,
 "nbformat_minor": 5
}
