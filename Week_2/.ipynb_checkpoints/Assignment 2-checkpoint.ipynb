{
 "cells": [
  {
   "cell_type": "markdown",
   "metadata": {},
   "source": [
    "# Assigment 2\n",
    "\n",
    "\n",
    "<a id='index-0'></a>"
   ]
  },
  {
   "cell_type": "markdown",
   "metadata": {},
   "source": [
    "Recall that in the previous notebook, we used the numpy library. In this notebook we use the sympy library that we import. The sympy library namely contains the function rref which will return the reduced row echelon form of a matrix. "
   ]
  },
  {
   "cell_type": "code",
   "execution_count": 1,
   "metadata": {},
   "outputs": [],
   "source": [
    "from sympy import *"
   ]
  },
  {
   "cell_type": "markdown",
   "metadata": {},
   "source": [
    "## Theoretical Part\n",
    "\n",
    "**Exercise 2.6**\n",
    "\n",
    "Determine the reduced form of the following systems of linear equations. If the system is consistent, also provide the general solution.\n",
    "\n",
    "a) $$\n",
    "\\begin{cases}\n",
    "x_1 + 2x_2 + x_3 = 8\\\\\n",
    "-x_1 + 3x_2 + 4x_3 = 7\\\\\n",
    "2x_1 - x_2 - x_3 = 7.\n",
    "\\end{cases}\n",
    "$$\n",
    "\n",
    "b) $$\n",
    "\\begin{cases}\n",
    "x_1 + x_2 + x_3 = 0\\\\\n",
    "x_2 + x_3 = 0\\\\\n",
    "-2x_1 + 3x_2 + x_3 = 0.\n",
    "\\end{cases}\n",
    "$$\n",
    "\n",
    "c) $$\n",
    "\\begin{cases}\n",
    "3x_1 - 2x_2 - 5x_3 - 7x_4 = -3\\\\\n",
    "x_1 + x_2 +x_4 = 4\\\\\n",
    "x_1 - 3x_2 - 4x_3 - 7x_4 = -8.\n",
    "\\end{cases}\n",
    "$$\n",
    "\n",
    "d) $$\n",
    "\\begin{cases}\n",
    "x_1 - 2x_2 + 2 x_3 - x_4 = 1\\\\\n",
    "x_1 + 2x_2 + 3x_3 + x_4 = 0\\\\\n",
    "-x_1 - 2x_2 - 4x_3 - x_4 = 1.\n",
    "\\end{cases}\n",
    "$$\n",
    "\n",
    "\n",
    "e) $$\n",
    "\\begin{cases}\n",
    "-x_1 + x_2 + x_3 = 0\\\\\n",
    "x_1 - x_2 + x_3 = 1\\\\\n",
    "x_1 - x_2 + x_3 = 2.\n",
    "\\end{cases}\n",
    "$$\n",
    "\n",
    "First we will do exercise a) together. The matrix-vector notation of the system of linear equations is \n",
    "\n",
    "$$\n",
    "\\left[\n",
    "\\begin{array}{ccc|c}\n",
    "1 & 2 & 1 & 8 \\\\\n",
    "-1 & 3 & 4 & 7 \\\\\n",
    "2 & -1 & -1 & 7 \\\\\n",
    "\\end{array}\n",
    "\\right]\n",
    "$$"
   ]
  },
  {
   "cell_type": "code",
   "execution_count": 6,
   "metadata": {},
   "outputs": [
    {
     "data": {
      "text/latex": [
       "$\\displaystyle \\left[\\begin{matrix}1 & 2 & 1 & 8\\\\-1 & 3 & 4 & 7\\\\2 & -1 & -1 & 7\\end{matrix}\\right]$"
      ],
      "text/plain": [
       "Matrix([\n",
       "[ 1,  2,  1, 8],\n",
       "[-1,  3,  4, 7],\n",
       "[ 2, -1, -1, 7]])"
      ]
     },
     "execution_count": 6,
     "metadata": {},
     "output_type": "execute_result"
    }
   ],
   "source": [
    "A = Matrix([[1, 2, 1, 8], [-1, 3, 4, 7], [2, -1, -1, 7]]) \n",
    "A "
   ]
  },
  {
   "cell_type": "markdown",
   "metadata": {},
   "source": [
    "Now we can find the reduced form of the system of linear equations using rref(). This returns two elements. The first is the reduced row echelon form, and the second is the indices of the pivot columns. By typing Ab_rref[0], only the reduced row echelon form is printed."
   ]
  },
  {
   "cell_type": "code",
   "execution_count": 7,
   "metadata": {},
   "outputs": [
    {
     "data": {
      "text/latex": [
       "$\\displaystyle \\left[\\begin{matrix}1 & 0 & 0 & 5\\\\0 & 1 & 0 & 0\\\\0 & 0 & 1 & 3\\end{matrix}\\right]$"
      ],
      "text/plain": [
       "Matrix([\n",
       "[1, 0, 0, 5],\n",
       "[0, 1, 0, 0],\n",
       "[0, 0, 1, 3]])"
      ]
     },
     "execution_count": 7,
     "metadata": {},
     "output_type": "execute_result"
    }
   ],
   "source": [
    "A_rref = A.rref() \n",
    "A_rref[0]"
   ]
  },
  {
   "cell_type": "markdown",
   "metadata": {},
   "source": [
    "The system is consistent and we can immediately see the general solution: $x_1=5$, $x_2=0$ and $x_3=3$. "
   ]
  },
  {
   "cell_type": "markdown",
   "metadata": {},
   "source": [
    "Now try the other exercises yourself. If you cannot immediately see a general solution after you found the reduced row echelon form of the matrix, then do the rest of exercise on paper."
   ]
  },
  {
   "cell_type": "code",
   "execution_count": 20,
   "metadata": {},
   "outputs": [
    {
     "name": "stdout",
     "output_type": "stream",
     "text": [
      "\n"
     ]
    }
   ],
   "source": [
    "#Excersise B\n",
    "B  = Matrix([[1, 1, 1, 0], [0, 1, 1, 0], [-2, 3, 1, 0]])\n",
    "B\n",
    "B_rref = B.rref()\n",
    "B_rref[0]\n",
    "#answer --> x1 = 0, x2 = 0, x3 = 0\n",
    "#Excersise C\n",
    "C = Matrix([[3, -2, -5, -7, -3], [1, 1, 0, 1, 4], [1, -3, -4, -7, -8]])\n",
    "C\n",
    "C_rref = C.rref()\n",
    "C_rref[0]\n",
    "#General solution --> (1 3 0 0) + x3(1 -1 1 0) + x4(1 -2 0 1)\n",
    "#Excersise D\n",
    "D = Matrix([[1, -2, 2, -1, 1], [1, 2, 3, 1, 0], [-1, -2, -4, -1, 1]])\n",
    "D\n",
    "D_rref = D.rref()\n",
    "D_rref[0]\n",
    "#General solution --> (3 0 -1 0) + x4(0 -1/2 0 1)\n",
    "#Excersise E\n",
    "E = Matrix([[-1, 1, 1, 0], [1, -1, 1, 1], [1, -1, 1, 2]])\n",
    "E\n",
    "E_rref = E.rref()\n",
    "E_rref[0]\n",
    "#answer --> no solution!\n",
    "print()"
   ]
  },
  {
   "cell_type": "markdown",
   "metadata": {},
   "source": [
    "## Application: supply and demand model\n",
    "\n",
    "The demand $q_d$ and supply $q_s$ of an item depends on the price $p$ and income $Y$. Suppose that the relation between demand, price and income can be described by the equation\n",
    "\n",
    "$$q_d = 8 - 0.2p + 0.1Y,$$\n",
    "\n",
    "and the relation between supply and price by the equation\n",
    "\n",
    "$$q_s = 6 + 0.3p.$$\n",
    "\n",
    "The market is in equilibrium if $q_s = q_d$. Replacing both $q_s$ and $q_d$ by the new variable $q$, the market equilibrium can be found by solving the following system of two linear equations for the unknowns $p$, $q$ and $Y$:\n",
    "\n",
    "$$\n",
    "\\begin{cases}\n",
    "q = 8 - 0.2p + 0.1Y\\\\\n",
    "q = 6 + 0.3p.\n",
    "\\end{cases}\n",
    "$$\n",
    "\n",
    "First, we will rewrite this system of linear equations. We place all terms with a variable to the left of the equal sign and moreover we put terms with the same variable in the different equations right below each other:\n",
    "\n",
    "$$\n",
    "\\begin{cases}\n",
    "q + 0.2p - 0.1Y = 8\\\\\n",
    "q - 0.3p \\hspace{1.4cm} = 6.\n",
    "\\end{cases}\n",
    "$$\n"
   ]
  },
  {
   "cell_type": "code",
   "execution_count": 21,
   "metadata": {},
   "outputs": [
    {
     "data": {
      "text/latex": [
       "$\\displaystyle \\left[\\begin{matrix}1 & 0.2 & -0.1 & 8\\\\1 & -0.3 & 0 & 6\\end{matrix}\\right]$"
      ],
      "text/plain": [
       "Matrix([\n",
       "[1,  0.2, -0.1, 8],\n",
       "[1, -0.3,    0, 6]])"
      ]
     },
     "execution_count": 21,
     "metadata": {},
     "output_type": "execute_result"
    }
   ],
   "source": [
    "Ab = Matrix([[1, 0.2, -0.1, 8], [1, -0.3, 0, 6]]) \n",
    "Ab"
   ]
  },
  {
   "cell_type": "markdown",
   "metadata": {},
   "source": [
    "**Exercise**\n",
    "\n",
    "Use the function rref() again to find the row reduced echelon form of the above matrix. "
   ]
  },
  {
   "cell_type": "code",
   "execution_count": 22,
   "metadata": {},
   "outputs": [
    {
     "data": {
      "text/latex": [
       "$\\displaystyle \\left[\\begin{matrix}1 & 0 & -0.06 & 7.2\\\\0 & 1 & -0.2 & 4.0\\end{matrix}\\right]$"
      ],
      "text/plain": [
       "Matrix([\n",
       "[1, 0, -0.06, 7.2],\n",
       "[0, 1,  -0.2, 4.0]])"
      ]
     },
     "execution_count": 22,
     "metadata": {},
     "output_type": "execute_result"
    }
   ],
   "source": [
    "Ab_rref = Ab.rref()\n",
    "Ab_rref[0]\n",
    "#answer is a general solution like this: (7.2 4 0) + Y(0.06, 0.2, 1), infinite solutions!"
   ]
  },
  {
   "cell_type": "markdown",
   "metadata": {},
   "source": [
    "**Exercise** \n",
    "\n",
    "How many solutions does this system of linear equations have? \n",
    "\n",
    "Check if \n",
    "\n",
    "$$\\begin{bmatrix}\n",
    "    q\\\\\n",
    "    p\\\\\n",
    "    Y \n",
    "\\end{bmatrix}=\\begin{bmatrix}\n",
    "    13.2\\\\\n",
    "    24\\\\\n",
    "    100 \n",
    "\\end{bmatrix}$$\n",
    "\n",
    "is a solution of the system.\n",
    "(If you want to solve this with python, matrix multiplication using the library sympy is the same as matrix multiplication using the library numpy as we did in the previous notebook)"
   ]
  },
  {
   "cell_type": "markdown",
   "metadata": {},
   "source": [
    "Manual check showed me that it was!"
   ]
  },
  {
   "cell_type": "markdown",
   "metadata": {},
   "source": [
    "**Exercise**\n",
    "\n",
    "Determine the solution if $Y=50$."
   ]
  },
  {
   "cell_type": "code",
   "execution_count": 25,
   "metadata": {},
   "outputs": [
    {
     "data": {
      "text/latex": [
       "$\\displaystyle \\left[\\begin{matrix}10.2 & 14.0 & 50\\end{matrix}\\right]$"
      ],
      "text/plain": [
       "Matrix([[10.2, 14.0, 50]])"
      ]
     },
     "execution_count": 25,
     "metadata": {},
     "output_type": "execute_result"
    }
   ],
   "source": [
    "FixedMatrix = Matrix([[7.2, 4, 0]])\n",
    "VariableMatrix = Matrix([[0.06, 0.2, 1]])\n",
    "Solution = FixedMatrix + 50*VariableMatrix\n",
    "Solution"
   ]
  },
  {
   "cell_type": "code",
   "execution_count": null,
   "metadata": {},
   "outputs": [],
   "source": []
  }
 ],
 "metadata": {
  "kernelspec": {
   "display_name": "Python 3",
   "language": "python",
   "name": "python3"
  },
  "language_info": {
   "codemirror_mode": {
    "name": "ipython",
    "version": 3
   },
   "file_extension": ".py",
   "mimetype": "text/x-python",
   "name": "python",
   "nbconvert_exporter": "python",
   "pygments_lexer": "ipython3",
   "version": "3.8.5"
  }
 },
 "nbformat": 4,
 "nbformat_minor": 4
}
