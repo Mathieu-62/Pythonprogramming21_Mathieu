{
 "cells": [
  {
   "cell_type": "markdown",
   "metadata": {},
   "source": [
    "# Week 4 in class"
   ]
  },
  {
   "cell_type": "code",
   "execution_count": 5,
   "metadata": {},
   "outputs": [],
   "source": [
    "import scipy.optimize as opt\n",
    "import numpy as np"
   ]
  },
  {
   "cell_type": "markdown",
   "metadata": {},
   "source": [
    "This is the last week we study mathematical economics and finance, before we move on to data analysis in the next two weeks. You will notice that this class is hard, and that you need all the techniques you learned so far, plus some creativity and insight. This is what programming is about! However, you may find it comfortable to know that the exam will be slightly easier than this class notebook."
   ]
  },
  {
   "cell_type": "markdown",
   "metadata": {},
   "source": [
    "### Break and Continue"
   ]
  },
  {
   "cell_type": "markdown",
   "metadata": {},
   "source": [
    "#### `break` out of a loop\n",
    "\n",
    "Sometimes we want to stop a loop early if some condition is met.\n",
    "\n",
    "Let’s look at the example of finding the smallest `N` such that\n",
    "$ \\sum_{i=0}^N i > 1000 $.\n",
    "\n",
    "Clearly `N` must be less than 1000, so we know we will find the answer\n",
    "if we start with a `for` loop over all items in `range(1001)`.\n",
    "\n",
    "Then, we can keep a running total as we proceed and tell Python to stop\n",
    "iterating through our range once total goes above 1000."
   ]
  },
  {
   "cell_type": "code",
   "execution_count": 6,
   "metadata": {},
   "outputs": [
    {
     "name": "stdout",
     "output_type": "stream",
     "text": [
      "The answer is 45\n"
     ]
    }
   ],
   "source": [
    "total = 0\n",
    "for i in range(1001):\n",
    "    total = total + i\n",
    "    if total > 1000:\n",
    "        break\n",
    "\n",
    "print(\"The answer is\", i)"
   ]
  },
  {
   "cell_type": "markdown",
   "metadata": {},
   "source": [
    "**Exercise**\n",
    "\n",
    "Consider the code below that draws 10000 random numbers between 0 and 1. Try to find the index of the first value in `x`\n",
    "that is greater than 0.999 using a for loop and `break`. \n",
    "*Hint*: try iterating over `range(len(x))`."
   ]
  },
  {
   "cell_type": "code",
   "execution_count": 7,
   "metadata": {},
   "outputs": [
    {
     "name": "stdout",
     "output_type": "stream",
     "text": [
      "1602\n",
      "0.9992571765071364\n"
     ]
    }
   ],
   "source": [
    "x = np.random.rand(10_000)\n",
    "for i in range(len(x)):\n",
    "    value = x[i]\n",
    "    if value > 0.999 :\n",
    "        break\n",
    "\n",
    "print(i)\n",
    "print(value)"
   ]
  },
  {
   "cell_type": "markdown",
   "metadata": {},
   "source": [
    "#### `continue` to the next iteration\n",
    "\n",
    "Sometimes we might want to stop the *body of a loop* early if a condition is met.\n",
    "\n",
    "To do this we can use the `continue` keyword.\n",
    "\n",
    "The basic syntax for doing this is:"
   ]
  },
  {
   "cell_type": "markdown",
   "metadata": {
    "hide-output": false
   },
   "source": [
    "```python\n",
    "for item in iterable:\n",
    "    # always do these operations\n",
    "    if condition:\n",
    "        continue\n",
    "\n",
    "    # only do these operations if condition is False\n",
    "```"
   ]
  },
  {
   "cell_type": "markdown",
   "metadata": {},
   "source": [
    "Inside the loop body, Python will stop that loop iteration of the loop and continue directly to the next iteration when it encounters the `continue` statement.\n",
    "\n",
    "For example, suppose I ask you to loop over the numbers 1 to 10 and print out\n",
    "the message “{i} An odd number!” whenever the number `i` is odd, and do\n",
    "nothing otherwise.\n",
    "\n",
    "You can use continue to do this as follows:"
   ]
  },
  {
   "cell_type": "code",
   "execution_count": 8,
   "metadata": {},
   "outputs": [
    {
     "name": "stdout",
     "output_type": "stream",
     "text": [
      "1 is an odd number!\n",
      "3 is an odd number!\n",
      "5 is an odd number!\n",
      "7 is an odd number!\n",
      "9 is an odd number!\n"
     ]
    }
   ],
   "source": [
    "for i in range(1, 11):\n",
    "    if i % 2 == 0:  # an even number... This is modulus division\n",
    "        continue\n",
    "    print(i, \"is an odd number!\")"
   ]
  },
  {
   "cell_type": "markdown",
   "metadata": {},
   "source": [
    "**Exercise**\n",
    "\n",
    "\n",
    "Again consider the code below. Write a for loop that adds up all values in `x` that are greater than\n",
    "or equal to 0.5.\n",
    "\n",
    "Use the `continue` word to end the body of the loop early for all values\n",
    "of `x` that are less than 0.5.\n",
    "\n",
    "*Hint*: Try starting your loop with `for value in x:` instead of\n",
    "iterating over the indices of `x`."
   ]
  },
  {
   "cell_type": "code",
   "execution_count": 9,
   "metadata": {},
   "outputs": [
    {
     "data": {
      "text/plain": [
       "3716.0438600003677"
      ]
     },
     "execution_count": 9,
     "metadata": {},
     "output_type": "execute_result"
    }
   ],
   "source": [
    "x = np.random.rand(10_000)\n",
    "total = 0\n",
    "for num in x:\n",
    "    if num >= 0.5:\n",
    "        total = total + num\n",
    "    continue\n",
    "    print(total)\n",
    "    \n",
    "total"
   ]
  },
  {
   "cell_type": "markdown",
   "metadata": {},
   "source": [
    "### `if` and `else` and Consumer theory: satiation points\n",
    "\n",
    "Last week we saw a particular utility function where consumers prefer to “eat” as much as\n",
    "possible of every good available, but that may not be the case for all preferences. When an optimum exists for the unconstrained problem (e.g. with an infinite budget), it is called a\n",
    "bliss point, or satiation point.\n",
    "\n",
    "Instead of bananas and apples, consider a utility function for potato chips (`P`) and chocolate\n",
    "bars (`C`).\n",
    "\n",
    "$$\n",
    "U(P, C) = -(P - 20)^2 - 2 * (C - 1)^2\n",
    "$$\n",
    "\n",
    "To numerically calculate the unconstrained maximum (which you can probably see through inspection), one must use multivariate optimization using `opt.minimize`. `minimize` requires a function with a list as arguments (and a list as initial values), as below:"
   ]
  },
  {
   "cell_type": "code",
   "execution_count": 10,
   "metadata": {},
   "outputs": [
    {
     "data": {
      "text/plain": [
       "      fun: 1.0366329863937743e-17\n",
       " hess_inv: array([[1.04320987, 0.13580245],\n",
       "       [0.13580245, 0.28395061]])\n",
       "      jac: array([2.03908357e-08, 2.50423238e-08])\n",
       "  message: 'Optimization terminated successfully.'\n",
       "     nfev: 15\n",
       "      nit: 2\n",
       "     njev: 5\n",
       "   status: 0\n",
       "  success: True\n",
       "        x: array([20.,  1.])"
      ]
     },
     "execution_count": 10,
     "metadata": {},
     "output_type": "execute_result"
    }
   ],
   "source": [
    "def minU(X):\n",
    "    return (X[0]-20)**2 + 2*(X[1]-1)**2\n",
    "\n",
    "bliss = opt.minimize(minU, [19.9,1.1])\n",
    "bliss"
   ]
  },
  {
   "cell_type": "markdown",
   "metadata": {},
   "source": [
    "You can think of the satiation point as a vector of quantities. Given a vector of prices for both goods, one can then use matrix multiplication to find the budget that is required to cunsume at least the quantities of the satiation point.\n",
    "\n",
    "----------\n",
    "\n",
    "**Exercise**\n",
    "\n",
    "Use `np.matrix` to compute the minimum required budget `minW` to attain the satiation point when `p_P = 1` and `p_C = 2`."
   ]
  },
  {
   "cell_type": "code",
   "execution_count": 11,
   "metadata": {
    "deletable": false,
    "nbgrader": {
     "checksum": "bc2fb596f9db039448f29c1ad8f76d7a",
     "grade": true,
     "grade_id": "cell-d8981beefc03e4df",
     "locked": false,
     "points": 1,
     "schema_version": 1,
     "solution": true
    }
   },
   "outputs": [
    {
     "data": {
      "text/plain": [
       "matrix([[22]])"
      ]
     },
     "execution_count": 11,
     "metadata": {},
     "output_type": "execute_result"
    }
   ],
   "source": [
    "p_P = 1\n",
    "p_C = 2\n",
    "\n",
    "X = [20, 1]\n",
    "minW = np.matrix([[p_P*X[0]], [p_C*X[1]]])\n",
    "minW_total = sum(minW)\n",
    "minW_total[0]"
   ]
  },
  {
   "cell_type": "markdown",
   "metadata": {},
   "source": [
    "**Exercise** \n",
    "\n",
    "This is a case study in which you need all your newly acquired skills and some creativity. \n",
    "\n",
    "Write a function that solves for the *optimal basket of potato chips and chocolate bars* as a function of `p_P`, `p_C`, and budget `W`. Use a similar approach to that of the apples/bananas example of last week, to solve for the optimal\n",
    "basket of potato chips and chocolate bars when the consumer faces a constrained optimum. However, you can no longer assume that the equivalent of the `A_bc` function is always binding, as we did before. For that reason, use `if` and `else` to condition the optimal basket on the available budget.\n",
    "\n",
    "Execute your function when `p_P = 1` and `p_C = 2`, for both `W = 10` and `W = 50`. Does the optimal basket make sense?\n",
    "\n",
    "*Hints:*\n",
    "- Use the unconstrained maximum and the required budget above.\n",
    "- Define an objective function for the constrained optimization, using the budget constraint to substitute out one variable, just as last week.\n",
    "- Define a function that performs unconstrained or constrained optimization depending on the budget.\n",
    "- Can consumption be negative?"
   ]
  },
  {
   "cell_type": "code",
   "execution_count": 13,
   "metadata": {},
   "outputs": [
    {
     "name": "stdout",
     "output_type": "stream",
     "text": [
      "(16.000000000000114, -3.000000000000057)\n",
      "(20.000000002744837, 0.9999999988100003)\n"
     ]
    }
   ],
   "source": [
    "def C_bc(P, W, p_P=1, p_C=2):\n",
    "    return(W - P*p_P) / p_C\n",
    "\n",
    "def constrobjective(P, W, p_P=1, p_C=2):\n",
    "    C = C_bc(P, W, p_P, p_C)\n",
    "    return (P-20)**2 + 2*(C-1)**2\n",
    "\n",
    "def optimalbasket(W, p_P=1, p_C=2):\n",
    "    bliss = opt.minimize(minU, [19.9,1.1])\n",
    "    minW = np.matrix(bliss.x)*np.matrix([[p_P],[p_C]])\n",
    "    if W< minW:\n",
    "        constropt = opt.minimize_scalar(lambda P: constrobjective(P, W, p_P=1, p_C=2))\n",
    "        P = constropt.x\n",
    "        C = C_bc(P, W, p_P, p_C)\n",
    "    else :\n",
    "        P = bliss.x[0]\n",
    "        C = bliss.x[1]\n",
    "    return P, C\n",
    "\n",
    "print(optimalbasket(10))\n",
    "print(optimalbasket(50))"
   ]
  },
  {
   "cell_type": "markdown",
   "metadata": {},
   "source": [
    "### `for` and `while` and Investment"
   ]
  },
  {
   "cell_type": "markdown",
   "metadata": {},
   "source": [
    "**Exercise**\n",
    "\n",
    "In economics, when an individual has some knowledge, skills, or education\n",
    "which provides them with a source of future income, we call it [human\n",
    "capital](https://en.wikipedia.org/wiki/Human_capital).\n",
    "\n",
    "When a student graduating from high school is considering whether to\n",
    "continue with post-secondary education, they may consider that it gives\n",
    "them higher paying jobs in the future, but requires that they don't begin\n",
    "working until after graduation.\n",
    "\n",
    "Consider the simplified example where a student has perfectly forecastable\n",
    "employment and is given two choices:\n",
    "1. Begin working immediately and make 40,000 a year until they retire 40\n",
    "years later.\n",
    "2. Pay 5,000 a year for the next 4 years to attend university, then\n",
    "get a job paying 50,000 a year until they retire 40 years after making\n",
    "the college attendance decision.\n",
    "\n",
    "Should the student enroll in school if the discount rate is r = 0.05? Assume that costs and benefits occur at the end of a year."
   ]
  },
  {
   "cell_type": "code",
   "execution_count": 14,
   "metadata": {},
   "outputs": [
    {
     "name": "stdout",
     "output_type": "stream",
     "text": [
      "686363.4541597775\n",
      "17729.752520811802\n",
      "680656.7924916038\n",
      "False\n"
     ]
    }
   ],
   "source": [
    "# Discount rate\n",
    "r = 0.05\n",
    "\n",
    "# High school wage\n",
    "w_hs = 40_000\n",
    "\n",
    "# College wage and cost of college\n",
    "c_college = 5_000\n",
    "w_college = 50_000\n",
    "\n",
    "# Compute npv of being a hs worker\n",
    "total_hs = 0\n",
    "for i in range(40):\n",
    "    total_hs = total_hs + (w_hs)/((1+r)**(1+i))\n",
    "\n",
    "print(total_hs)\n",
    "\n",
    "# Compute npv of attending college\n",
    "total_cc = 0\n",
    "for i in range(4):\n",
    "    total_cc = total_cc + (c_college)/((1+r)**(1+i))\n",
    "\n",
    "print(total_cc)\n",
    "\n",
    "# Compute npv of being a college worker\n",
    "total_cw = 0\n",
    "for i in range(4, 40):\n",
    "    total_cw = total_cw + (w_college)/((1+r)**(1+i))\n",
    "\n",
    "print(total_cw)\n",
    "# Is npv_collegeworker - npv_collegecost > npv_hsworker\n",
    "print(total_cw - total_cc > total_hs)"
   ]
  },
  {
   "cell_type": "markdown",
   "metadata": {},
   "source": [
    "**Exercise**\n",
    "\n",
    "Companies often invest in training their employees to raise their\n",
    "productivity. Economists sometimes wonder why companies\n",
    "spend this money when this incentivizes other companies to poach\n",
    "their employees away with higher salaries since employees gain human capital from training.\n",
    "\n",
    "Let's say that it costs a company 25,000 dollars to teach their\n",
    "employees Python, but it raises their output by 2,500 per month. How\n",
    "many months would an employee need to stay for the company to find it\n",
    "profitable to pay for their employees to learn Python if their discount\n",
    "rate is r = 0.01?\n",
    "\n",
    "Assume that the cost is immediate, but that the extra output occurs at the end of a month."
   ]
  },
  {
   "cell_type": "code",
   "execution_count": 15,
   "metadata": {},
   "outputs": [
    {
     "name": "stdout",
     "output_type": "stream",
     "text": [
      "11\n",
      "919.0706205486854\n"
     ]
    }
   ],
   "source": [
    "# Define cost of teaching python\n",
    "cost = 25_000\n",
    "r = 0.01\n",
    "\n",
    "# Per month value\n",
    "added_value = 2500\n",
    "\n",
    "n_months = 0\n",
    "total_npv = -25000\n",
    "\n",
    "# Put condition below here\n",
    "while total_npv < 0: # (replace False with your condition here)\n",
    "    n_months = n_months + 1  # Increment how many months they've worked\n",
    "    total_npv = total_npv + added_value/((1+r)**n_months)\n",
    "    # Increase total_npv\n",
    "print(n_months)\n",
    "print(total_npv)"
   ]
  },
  {
   "cell_type": "markdown",
   "metadata": {},
   "source": [
    "## Loan performance, and vectorization"
   ]
  },
  {
   "cell_type": "markdown",
   "metadata": {},
   "source": [
    "#### Loan performance\n",
    "\n",
    "Consider a bank offering loans to small businesses. The bank’s loan requires a repayment of $25,000 and must be repaid 1 year after the loan was made. The bank discounts the future at 5%. \n",
    "\n",
    "However, the loans made are repaid in full with only 75\\% probability, while with a probability of 20% only $12,500 is repaid, and with 5% probability no repayment is made at all.\n",
    "\n",
    "In this simple case, you can compute the net present value of a loan by hand. The amount repaid, on average, is: $ 0.75(25000) + 0.2(12500) + 0.05(0) = 21250 $.\n",
    "\n",
    "Since we’ll receive that amount in one year, we have to discount it:\n",
    "$ \\frac{1}{1+0.05} 21,250 \\approx 20238 $.\n",
    "\n",
    "However, we can also verify this amount by simulating the performance of many loans."
   ]
  },
  {
   "cell_type": "markdown",
   "metadata": {},
   "source": [
    "#### Why Do We Need Randomness?\n",
    "\n",
    "As economists and data scientists, we study complex systems. These systems have inherent randomness, but they do not always readily reveal their underlying distribution to us.\n",
    "\n",
    "In cases where we face this difficulty, we turn to a set of tools known as Monte Carlo\n",
    "methods. These methods effectively boil down to repeatedly simulating some event (or events) and looking at\n",
    "the outcome distribution. This tool is used to inform decisions in search and rescue missions, election predictions, sports,\n",
    "and even by central banks.\n",
    "\n",
    "The reasons that Monte Carlo methods work is the *Law of Large Numbers* that we saw in the second week.\n",
    "\n",
    "Let's have a look at the code below. It defines a function that simulates the amount repaid on N loans. By taking the average over a large number of simulations, we can (roughly) check our analytical result."
   ]
  },
  {
   "cell_type": "code",
   "execution_count": 16,
   "metadata": {},
   "outputs": [
    {
     "name": "stdout",
     "output_type": "stream",
     "text": [
      "20235.904761904763\n"
     ]
    }
   ],
   "source": [
    "def simulate_loan_repayments(N, r=0.05, repayment_full=25_000.0, repayment_part=12_500.0):\n",
    "    \"\"\"\n",
    "    Simulate present value of N loans given values for discount rate and\n",
    "    repayment values\n",
    "    \"\"\"\n",
    "    repayment_sims = np.zeros(N)\n",
    "    for i in range(N):\n",
    "        x = np.random.rand()  # Draw a random number\n",
    "\n",
    "        # Full repayment 75% of time\n",
    "        if x < 0.75:\n",
    "            repaid = repayment_full\n",
    "        elif x < 0.95:\n",
    "            repaid = repayment_part\n",
    "        else:\n",
    "            repaid = 0.0\n",
    "\n",
    "        repayment_sims[i] = (1 / (1 + r)) * repaid\n",
    "\n",
    "    return repayment_sims\n",
    "\n",
    "print(np.mean(simulate_loan_repayments(250_000)))"
   ]
  },
  {
   "cell_type": "markdown",
   "metadata": {},
   "source": [
    "#### Vectorization\n",
    "\n",
    "You can see that the code results in an approximation of the expectation. However, this simulation is much slower than necessary. The cell below shows how much time it takes Python to compute 250,000 simulations."
   ]
  },
  {
   "cell_type": "code",
   "execution_count": null,
   "metadata": {},
   "outputs": [],
   "source": [
    "%timeit simulate_loan_repayments(250_000)"
   ]
  },
  {
   "cell_type": "markdown",
   "metadata": {},
   "source": [
    "This function is simple enough that its speed is acceptable, but it is important to learn how to speed up your code for more complicated operations.\n",
    "\n",
    "One important technique to speed up your code is *vectorization*, which is when computations operate on an entire array at a time. In general, numpy code that is vectorized will perform better than numpy code that operates on one element at a time. The idea is to use numpy arrays to perform computations instead of only storing the values.\n",
    "\n",
    "----------\n",
    "\n",
    "**Exercise**\n",
    "\n",
    "Complete the code below using vectorization to speed up your simulations. Time your new function. How much faster is your vectorized code?\n",
    "\n",
    "*Hint:* Get rid of the `for` loop, and the `if`, `elif` and `else` statements, and create an array of Booleans instead."
   ]
  },
  {
   "cell_type": "code",
   "execution_count": 17,
   "metadata": {},
   "outputs": [
    {
     "name": "stdout",
     "output_type": "stream",
     "text": [
      "20286.999999999996\n",
      "2.2 ms ± 30.5 µs per loop (mean ± std. dev. of 7 runs, 100 loops each)\n"
     ]
    }
   ],
   "source": [
    "def simulate_loan_repayments_fast(N, r=0.05, repayment_full=25_000.0, repayment_part=12_500.0):\n",
    "    \"\"\"\n",
    "    Simulate present value of N loans given values for discount rate and\n",
    "    repayment values using vectorization\n",
    "    \"\"\"\n",
    "    random_numbers = np.random.rand(N)\n",
    "    \n",
    "    #start as 0 -- no repayment\n",
    "    repayment_sims = np.zeros(N)\n",
    "    \n",
    "    #adjust for full partial repayment\n",
    "    partial = random_numbers <= 0.20\n",
    "    repayment_sims[partial] = repayment_part\n",
    "    \n",
    "    #full = ~partial & (random_numbers <= 0.95)\n",
    "    full = (random_numbers > 20) & (random_numbers <= 0.95)\n",
    "    repayment_sims = (1 / (1+r)) * repayment_sims\n",
    "    \n",
    "    return repayment_sims\n",
    "\n",
    "print(np.mean(simulate_loan_repayments(250000)))\n",
    "%timeit simulate_loan_repayments_fast(250000)"
   ]
  },
  {
   "cell_type": "markdown",
   "metadata": {},
   "source": [
    "The code is at least one order of magnitude faster!"
   ]
  },
  {
   "cell_type": "code",
   "execution_count": null,
   "metadata": {},
   "outputs": [],
   "source": []
  }
 ],
 "metadata": {
  "kernelspec": {
   "display_name": "Python 3",
   "language": "python",
   "name": "python3"
  },
  "language_info": {
   "codemirror_mode": {
    "name": "ipython",
    "version": 3
   },
   "file_extension": ".py",
   "mimetype": "text/x-python",
   "name": "python",
   "nbconvert_exporter": "python",
   "pygments_lexer": "ipython3",
   "version": "3.8.5"
  }
 },
 "nbformat": 4,
 "nbformat_minor": 4
}
