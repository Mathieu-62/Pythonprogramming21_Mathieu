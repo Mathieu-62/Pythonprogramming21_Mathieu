{
 "cells": [
  {
   "cell_type": "markdown",
   "metadata": {},
   "source": [
    "# Assigment 4\n",
    "\n",
    "\n",
    "<a id='index-0'></a>"
   ]
  },
  {
   "cell_type": "markdown",
   "metadata": {},
   "source": [
    "In this notebook we use the numpy library once again. We also use the matplotlib.pyplot library in order to plot vectors. Finally, we use the math library in order to use the square root function. We import them below:"
   ]
  },
  {
   "cell_type": "code",
   "execution_count": 2,
   "metadata": {},
   "outputs": [],
   "source": [
    "import numpy as np\n",
    "import matplotlib.pyplot as plt\n",
    "import math"
   ]
  },
  {
   "cell_type": "markdown",
   "metadata": {},
   "source": [
    "## Geometry and linear independence vectors"
   ]
  },
  {
   "cell_type": "markdown",
   "metadata": {},
   "source": [
    "### Sum of two vectors\n",
    "\n",
    "Consider the unit vectors $\\underline{e}_1$ and $\\underline{e}_2$. Then $\\underline{e}_1+\\underline{e}_2=\\begin{bmatrix}\n",
    "    1\\\\\n",
    "    1 \n",
    "\\end{bmatrix}$. \n",
    "\n",
    "In python we write this as below:"
   ]
  },
  {
   "cell_type": "code",
   "execution_count": 3,
   "metadata": {},
   "outputs": [
    {
     "data": {
      "text/plain": [
       "matrix([[1],\n",
       "        [0]])"
      ]
     },
     "execution_count": 3,
     "metadata": {},
     "output_type": "execute_result"
    }
   ],
   "source": [
    "e1 = np.matrix([[1],[0]])\n",
    "e1"
   ]
  },
  {
   "cell_type": "code",
   "execution_count": 4,
   "metadata": {},
   "outputs": [
    {
     "data": {
      "text/plain": [
       "matrix([[0],\n",
       "        [1]])"
      ]
     },
     "execution_count": 4,
     "metadata": {},
     "output_type": "execute_result"
    }
   ],
   "source": [
    "e2 = np.matrix([[0],[1]])\n",
    "e2"
   ]
  },
  {
   "cell_type": "code",
   "execution_count": 5,
   "metadata": {},
   "outputs": [
    {
     "data": {
      "text/plain": [
       "matrix([[1],\n",
       "        [1]])"
      ]
     },
     "execution_count": 5,
     "metadata": {},
     "output_type": "execute_result"
    }
   ],
   "source": [
    "e1pluse2 = e1+e2\n",
    "e1pluse2"
   ]
  },
  {
   "cell_type": "markdown",
   "metadata": {},
   "source": [
    "The plot below shows that the sum vector is the diagonal of the parallelogram spanned by the two unit vectors."
   ]
  },
  {
   "cell_type": "code",
   "execution_count": 6,
   "metadata": {},
   "outputs": [
    {
     "data": {
      "image/png": "[encoded data removed]",
      "text/plain": [
       "<Figure size 432x288 with 1 Axes>"
      ]
     },
     "metadata": {
      "needs_background": "light"
     },
     "output_type": "display_data"
    }
   ],
   "source": [
    "Vectors = np.array([[1,0], [0,1]])\n",
    "origin = np.array([[0, 0],[0, 0]]) # origin point\n",
    "plt.quiver(*origin, Vectors[:,0], Vectors[:,1], angles='xy', scale_units='xy',scale=1)\n",
    "plt.xlim(-5, 5)\n",
    "plt.ylim(-5, 5)\n",
    "v12 = Vectors[0] + Vectors[1]\n",
    "plt.quiver(*origin, v12[0], v12[1], color = 'r', angles='xy', scale_units='xy',scale=1)\n",
    "plt.show()"
   ]
  },
  {
   "cell_type": "markdown",
   "metadata": {},
   "source": [
    "**Exercise 4.2**\n",
    "\n",
    "Determine, if possible, the sum of the two vectors $\\underline{a}$ and $\\underline{b}$ and make a picture.\n",
    "\n",
    "a)$$\\underline{a}=\\begin{bmatrix}\n",
    "    1\\\\\n",
    "    2\n",
    "\\end{bmatrix} \\ \\ \\ \\ \\underline{b}=\\begin{bmatrix}\n",
    "    3\\\\\n",
    "    2\n",
    "\\end{bmatrix} $$\n",
    "\n",
    "b)$$\\underline{a}=\\begin{bmatrix}\n",
    "    1\\\\\n",
    "    2\n",
    "\\end{bmatrix} \\ \\ \\ \\ \\underline{b}=\\begin{bmatrix}\n",
    "    -3\\\\\n",
    "    -2\n",
    "\\end{bmatrix} $$\n",
    "\n",
    "c)$$\\underline{a}=\\begin{bmatrix}\n",
    "    1\\\\\n",
    "    2\\\\\n",
    "    0\n",
    "\\end{bmatrix} \\ \\ \\ \\ \\underline{b}=\\begin{bmatrix}\n",
    "    -3\\\\\n",
    "    0\\\\\n",
    "    -2\n",
    "\\end{bmatrix} $$\n",
    "\n",
    "d)$$\\underline{a}=\\begin{bmatrix}\n",
    "    1\\\\\n",
    "    2\n",
    "\\end{bmatrix} \\ \\ \\ \\ \\underline{b}=\\begin{bmatrix}\n",
    "    -3\\\\\n",
    "    0\\\\\n",
    "    -2\n",
    "\\end{bmatrix} $$"
   ]
  },
  {
   "cell_type": "code",
   "execution_count": 7,
   "metadata": {},
   "outputs": [
    {
     "data": {
      "image/png": "[encoded data removed]",
      "text/plain": [
       "<Figure size 432x288 with 1 Axes>"
      ]
     },
     "metadata": {
      "needs_background": "light"
     },
     "output_type": "display_data"
    }
   ],
   "source": [
    "#Answering a;\n",
    "Vectors = np.array([[1,2], [3,2]])\n",
    "origin = np.array([[0, 0],[0, 0]]) # origin point\n",
    "plt.quiver(*origin, Vectors[:,0], Vectors[:,1], angles='xy', scale_units='xy',scale=1)\n",
    "plt.xlim(-5, 5)\n",
    "plt.ylim(-5, 5)\n",
    "v12 = Vectors[0] + Vectors[1]\n",
    "plt.quiver(*origin, v12[0], v12[1], color = 'r', angles='xy', scale_units='xy',scale=1)\n",
    "plt.show()"
   ]
  },
  {
   "cell_type": "code",
   "execution_count": 8,
   "metadata": {},
   "outputs": [
    {
     "data": {
      "image/png": "[encoded data removed]",
      "text/plain": [
       "<Figure size 432x288 with 1 Axes>"
      ]
     },
     "metadata": {
      "needs_background": "light"
     },
     "output_type": "display_data"
    }
   ],
   "source": [
    "#Answering b;\n",
    "Vectors = np.array([[1,2], [-3,-2]])\n",
    "origin = np.array([[0, 0],[0, 0]]) # origin point\n",
    "plt.quiver(*origin, Vectors[:,0], Vectors[:,1], angles='xy', scale_units='xy',scale=1)\n",
    "plt.xlim(-5, 5)\n",
    "plt.ylim(-5, 5)\n",
    "v12 = Vectors[0] + Vectors[1]\n",
    "plt.quiver(*origin, v12[0], v12[1], color = 'r', angles='xy', scale_units='xy',scale=1)\n",
    "plt.show()"
   ]
  },
  {
   "cell_type": "code",
   "execution_count": 9,
   "metadata": {},
   "outputs": [
    {
     "name": "stdout",
     "output_type": "stream",
     "text": [
      "[[-2]\n",
      " [ 2]\n",
      " [-2]]\n"
     ]
    }
   ],
   "source": [
    "#Answering c;\n",
    "a = np.matrix([[1],[2], [0]])\n",
    "b = np.matrix([[-3], [0], [-2]])\n",
    "a_and_b = a + b\n",
    "print(a_and_b)\n"
   ]
  },
  {
   "cell_type": "code",
   "execution_count": 10,
   "metadata": {},
   "outputs": [
    {
     "ename": "ValueError",
     "evalue": "operands could not be broadcast together with shapes (2,1) (3,1) ",
     "output_type": "error",
     "traceback": [
      "\u001b[0;31m---------------------------------------------------------------------------\u001b[0m",
      "\u001b[0;31mValueError\u001b[0m                                Traceback (most recent call last)",
      "\u001b[0;32m<ipython-input-10-024fe360d5e9>\u001b[0m in \u001b[0;36m<module>\u001b[0;34m\u001b[0m\n\u001b[1;32m      2\u001b[0m \u001b[0mc\u001b[0m \u001b[0;34m=\u001b[0m \u001b[0mnp\u001b[0m\u001b[0;34m.\u001b[0m\u001b[0mmatrix\u001b[0m\u001b[0;34m(\u001b[0m\u001b[0;34m[\u001b[0m\u001b[0;34m[\u001b[0m\u001b[0;36m1\u001b[0m\u001b[0;34m]\u001b[0m\u001b[0;34m,\u001b[0m \u001b[0;34m[\u001b[0m\u001b[0;36m2\u001b[0m\u001b[0;34m]\u001b[0m\u001b[0;34m]\u001b[0m\u001b[0;34m)\u001b[0m\u001b[0;34m\u001b[0m\u001b[0;34m\u001b[0m\u001b[0m\n\u001b[1;32m      3\u001b[0m \u001b[0md\u001b[0m \u001b[0;34m=\u001b[0m \u001b[0mnp\u001b[0m\u001b[0;34m.\u001b[0m\u001b[0mmatrix\u001b[0m\u001b[0;34m(\u001b[0m\u001b[0;34m[\u001b[0m\u001b[0;34m[\u001b[0m\u001b[0;34m-\u001b[0m\u001b[0;36m3\u001b[0m\u001b[0;34m]\u001b[0m\u001b[0;34m,\u001b[0m \u001b[0;34m[\u001b[0m\u001b[0;36m0\u001b[0m\u001b[0;34m]\u001b[0m\u001b[0;34m,\u001b[0m \u001b[0;34m[\u001b[0m\u001b[0;34m-\u001b[0m\u001b[0;36m2\u001b[0m\u001b[0;34m]\u001b[0m\u001b[0;34m]\u001b[0m\u001b[0;34m)\u001b[0m\u001b[0;34m\u001b[0m\u001b[0;34m\u001b[0m\u001b[0m\n\u001b[0;32m----> 4\u001b[0;31m \u001b[0mc_and_d\u001b[0m \u001b[0;34m=\u001b[0m \u001b[0mc\u001b[0m \u001b[0;34m+\u001b[0m \u001b[0md\u001b[0m\u001b[0;34m\u001b[0m\u001b[0;34m\u001b[0m\u001b[0m\n\u001b[0m\u001b[1;32m      5\u001b[0m \u001b[0mprint\u001b[0m\u001b[0;34m(\u001b[0m\u001b[0mc_and_d\u001b[0m\u001b[0;34m)\u001b[0m\u001b[0;34m\u001b[0m\u001b[0;34m\u001b[0m\u001b[0m\n",
      "\u001b[0;31mValueError\u001b[0m: operands could not be broadcast together with shapes (2,1) (3,1) "
     ]
    }
   ],
   "source": [
    "#Answering d;\n",
    "c = np.matrix([[1], [2]])\n",
    "d = np.matrix([[-3], [0], [-2]])\n",
    "c_and_d = c + d\n",
    "print(c_and_d)"
   ]
  },
  {
   "cell_type": "markdown",
   "metadata": {},
   "source": [
    "### Distance between two vectors\n",
    "\n",
    "Recall that the distance between two vectors $\\underline{a}$ and $\\underline{b}$ of dimension $n$ is defined as\n",
    "\n",
    "$$ |\\underline{a} − \\underline{b}| = \\sqrt{(a_1 − b_1)^2 + (a_2 − b_2)^2 + · · · + (a_n − b_n)^2}.$$\n",
    "\n",
    "Consider again the unit vectors $\\underline{e}_1$ and $\\underline{e}_2$. Then the distance between vectors $\\underline{e}_1$ and $\\underline{e}_2$ is $|e_1−e_2| = \\sqrt{(1 − 0)^2 + (0 − 1)^2} = \\sqrt{2}$.\n",
    "\n",
    "In python we use the function math.sqrt() to use the square root. Then we can calculate the distance as follows:"
   ]
  },
  {
   "cell_type": "code",
   "execution_count": null,
   "metadata": {},
   "outputs": [],
   "source": [
    "distance = math.sqrt((1-0)^2+(0-1)^2)\n",
    "distance"
   ]
  },
  {
   "cell_type": "markdown",
   "metadata": {},
   "source": [
    "Another way to calculate this is by using the function np.linalg.norm() as shown below (remember we have already defined $\\underline{e}_1$ and $\\underline{e}_2$ in the notebook above as e1 and e2, respectively) "
   ]
  },
  {
   "cell_type": "code",
   "execution_count": null,
   "metadata": {},
   "outputs": [],
   "source": [
    "distance = np.linalg.norm(e1-e2)\n",
    "distance"
   ]
  },
  {
   "cell_type": "markdown",
   "metadata": {},
   "source": [
    "**Exercise 4.3**\n",
    "\n",
    "Determine, if possible, the distance between the two vectors $\\underline{a}$ and $\\underline{b}$.\n",
    "\n",
    "a)$$\\underline{a}=\\begin{bmatrix}\n",
    "    1\\\\\n",
    "    2\n",
    "\\end{bmatrix} \\ \\ \\ \\ \\underline{b}=\\begin{bmatrix}\n",
    "    3\\\\\n",
    "    2\n",
    "\\end{bmatrix} $$\n",
    "\n",
    "b)$$\\underline{a}=\\begin{bmatrix}\n",
    "    1\\\\\n",
    "    2\n",
    "\\end{bmatrix} \\ \\ \\ \\ \\underline{b}=\\begin{bmatrix}\n",
    "    2\\\\\n",
    "    4\n",
    "\\end{bmatrix} $$\n",
    "\n",
    "c)$$\\underline{a}=\\begin{bmatrix}\n",
    "    1\\\\\n",
    "    2\\\\\n",
    "    0\n",
    "\\end{bmatrix} \\ \\ \\ \\ \\underline{b}=\\begin{bmatrix}\n",
    "    -3\\\\\n",
    "    0\\\\\n",
    "    -2\n",
    "\\end{bmatrix} $$\n",
    "\n",
    "d)$$\\underline{a}=\\begin{bmatrix}\n",
    "    1\\\\\n",
    "    2\n",
    "\\end{bmatrix} \\ \\ \\ \\ \\underline{b}=\\begin{bmatrix}\n",
    "    -3\\\\\n",
    "    0\\\\\n",
    "    -2\n",
    "\\end{bmatrix} $$"
   ]
  },
  {
   "cell_type": "code",
   "execution_count": null,
   "metadata": {},
   "outputs": [],
   "source": [
    "a = np.matrix([[1], [2]])\n",
    "b = np.matrix([[3], [2]])\n",
    "distance = np.linalg.norm(a-b)\n",
    "distance"
   ]
  },
  {
   "cell_type": "code",
   "execution_count": null,
   "metadata": {},
   "outputs": [],
   "source": [
    "a = np.matrix([[1], [2]])\n",
    "b = np.matrix([[2], [4]])\n",
    "distance = np.linalg.norm(a-b)\n",
    "distance"
   ]
  },
  {
   "cell_type": "code",
   "execution_count": null,
   "metadata": {},
   "outputs": [],
   "source": [
    "a = np.matrix([[1], [2], [0]])\n",
    "b = np.matrix([[-3], [0], [-2]])\n",
    "distance = np.linalg.norm(a-b)\n",
    "distance"
   ]
  },
  {
   "cell_type": "code",
   "execution_count": null,
   "metadata": {},
   "outputs": [],
   "source": [
    "Not possible"
   ]
  },
  {
   "cell_type": "markdown",
   "metadata": {},
   "source": [
    "### Inner product and angle between two vectors\n",
    "\n",
    "**The inner product**\n",
    "\n",
    "Recall that the inner product of two vectors $\\underline{a}$ and $\\underline{b}$ of dimension $n$ is defined as\n",
    "\n",
    "$$ \\underline{a}^T\\underline{b} = \\begin{bmatrix}\n",
    "    a_1 \\ a_2 \\ ... \\ a_n\n",
    "\\end{bmatrix} \\begin{bmatrix}\n",
    "    b_1\\\\\n",
    "    b_2\\\\\n",
    "    \\vdots \\\\\n",
    "    b_n\n",
    "\\end{bmatrix} = a_1b_1+a_2b_2 +...+a_nb_n.$$\n",
    "\n",
    "Consider again the unit vectors $\\underline{e}_1$ and $\\underline{e}_2$. Then the innerproduct of the vectors $\\underline{e}_1$ and $\\underline{e}_2$ is $e_1^T e_2 = 1 \\times 0 + 0 \\times 1 = 0$.\n",
    "\n",
    "In python we write this as below (remember we have already defined $\\underline{e}_1$ and $\\underline{e}_2$ in the notebook above as e1 and e2, respectively). We first determine the transpose of $\\underline{e}_1$:"
   ]
  },
  {
   "cell_type": "code",
   "execution_count": null,
   "metadata": {},
   "outputs": [],
   "source": [
    "e1T = np.transpose(e1)\n",
    "e1T"
   ]
  },
  {
   "cell_type": "markdown",
   "metadata": {},
   "source": [
    "Next, we calculate the innerproduct:"
   ]
  },
  {
   "cell_type": "code",
   "execution_count": null,
   "metadata": {},
   "outputs": [],
   "source": [
    "innerproduct = e1T*e2\n",
    "innerproduct"
   ]
  },
  {
   "cell_type": "markdown",
   "metadata": {},
   "source": [
    "**The angle between two vectors**\n",
    "\n",
    "Consider two vectors $\\underline{a}$ and $\\underline{b}$ of dimension $n$. Then\n",
    "\n",
    "$$cos(\\phi) = \\frac{\\underline{a}^T\\underline{b}}{|\\underline{a}||\\underline{b}|}\n",
    "$$\n",
    "\n",
    "where $\\phi$ is the angle between $\\underline{a}$ and $\\underline{b}$.\n",
    "\n",
    "Consider the vectors $\\underline{a}=\\begin{bmatrix}\n",
    "    1\\\\\n",
    "    0 \\\\\n",
    "    1\n",
    "\\end{bmatrix}$ and $\\underline{b}=\\begin{bmatrix}\n",
    "    0\\\\\n",
    "    1\\\\\n",
    "    1\n",
    "\\end{bmatrix}$. Using the formula we get\n",
    "\n",
    "$$cos(\\phi)=\\frac{1\\times 0 + 0 \\times 1 + 1\\times 1}{\\sqrt{1^2+0^2+1^2}\\sqrt{0^2+1^2+1^2}}=\\frac{1}{2}.$$\n",
    "\n",
    "So, we have to find $\\phi$ such that $\\cos(\\phi) = \\frac{1}{2}$. This holds for $ \\phi = \\frac{1}{3}\\pi$.\n",
    "\n",
    "In python we write this as follows. We start with defining $\\underline{a}$ and $\\underline{b}$: "
   ]
  },
  {
   "cell_type": "code",
   "execution_count": null,
   "metadata": {},
   "outputs": [],
   "source": [
    "a = np.matrix([[1],[0],[1]])\n",
    "a"
   ]
  },
  {
   "cell_type": "code",
   "execution_count": null,
   "metadata": {},
   "outputs": [],
   "source": [
    "b = np.matrix([[0],[1],[1]])\n",
    "b"
   ]
  },
  {
   "cell_type": "markdown",
   "metadata": {},
   "source": [
    "Now we calculate the innerproduct of $\\underline{a}$ and $\\underline{b}$; $\\underline{a}^T\\underline{b}$"
   ]
  },
  {
   "cell_type": "code",
   "execution_count": null,
   "metadata": {},
   "outputs": [],
   "source": [
    "aT = np.transpose(a)\n",
    "aTb = aT*b\n",
    "aTb"
   ]
  },
  {
   "cell_type": "markdown",
   "metadata": {},
   "source": [
    "Next, we calculate $|\\underline{a}|$. We can do this with the same function we used to calculate $|a-b|$: np.linalg.norm()."
   ]
  },
  {
   "cell_type": "code",
   "execution_count": null,
   "metadata": {},
   "outputs": [],
   "source": [
    "anorm = np.linalg.norm(a)\n",
    "anorm"
   ]
  },
  {
   "cell_type": "markdown",
   "metadata": {},
   "source": [
    "Similarly, we calculate $|\\underline{b}|$."
   ]
  },
  {
   "cell_type": "code",
   "execution_count": null,
   "metadata": {},
   "outputs": [],
   "source": [
    "bnorm = np.linalg.norm(b)\n",
    "bnorm"
   ]
  },
  {
   "cell_type": "markdown",
   "metadata": {},
   "source": [
    "Finally, we calculate $cos(\\phi)$ using the formula."
   ]
  },
  {
   "cell_type": "code",
   "execution_count": 11,
   "metadata": {},
   "outputs": [
    {
     "ename": "NameError",
     "evalue": "name 'aTb' is not defined",
     "output_type": "error",
     "traceback": [
      "\u001b[0;31m---------------------------------------------------------------------------\u001b[0m",
      "\u001b[0;31mNameError\u001b[0m                                 Traceback (most recent call last)",
      "\u001b[0;32m<ipython-input-11-19dec8a95098>\u001b[0m in \u001b[0;36m<module>\u001b[0;34m\u001b[0m\n\u001b[0;32m----> 1\u001b[0;31m \u001b[0mcosphi\u001b[0m\u001b[0;34m=\u001b[0m\u001b[0maTb\u001b[0m\u001b[0;34m/\u001b[0m\u001b[0;34m(\u001b[0m\u001b[0manorm\u001b[0m\u001b[0;34m*\u001b[0m\u001b[0mbnorm\u001b[0m\u001b[0;34m)\u001b[0m\u001b[0;34m\u001b[0m\u001b[0;34m\u001b[0m\u001b[0m\n\u001b[0m\u001b[1;32m      2\u001b[0m \u001b[0mcosphi\u001b[0m\u001b[0;34m\u001b[0m\u001b[0;34m\u001b[0m\u001b[0m\n\u001b[1;32m      3\u001b[0m \u001b[0;34m\u001b[0m\u001b[0m\n\u001b[1;32m      4\u001b[0m \u001b[0mprint\u001b[0m\u001b[0;34m(\u001b[0m\u001b[0;36m1\u001b[0m\u001b[0;34m/\u001b[0m\u001b[0;36m3\u001b[0m\u001b[0;34m*\u001b[0m\u001b[0mpi\u001b[0m\u001b[0;34m)\u001b[0m\u001b[0;34m\u001b[0m\u001b[0;34m\u001b[0m\u001b[0m\n",
      "\u001b[0;31mNameError\u001b[0m: name 'aTb' is not defined"
     ]
    }
   ],
   "source": [
    "cosphi=aTb/(anorm*bnorm)\n",
    "cosphi"
   ]
  },
  {
   "cell_type": "code",
   "execution_count": 13,
   "metadata": {},
   "outputs": [
    {
     "name": "stdout",
     "output_type": "stream",
     "text": [
      "1.0471975511965976\n"
     ]
    }
   ],
   "source": []
  },
  {
   "cell_type": "markdown",
   "metadata": {},
   "source": [
    "This holds for $ \\phi = \\frac{1}{3}\\pi$."
   ]
  },
  {
   "cell_type": "markdown",
   "metadata": {},
   "source": [
    "**Exercise 4.4**\n",
    "\n",
    "Determine the angle of the vectors $\\underline{a}$ and $\\underline{b}$.\n",
    "\n",
    "a)$$\\underline{a}=\\begin{bmatrix}\n",
    "    1\\\\\n",
    "    2\n",
    "\\end{bmatrix} \\ \\ \\ \\ \\underline{b}=\\begin{bmatrix}\n",
    "    2\\\\\n",
    "    -1\n",
    "\\end{bmatrix} $$\n",
    "\n",
    "b)$$\\underline{a}=\\begin{bmatrix}\n",
    "    1\\\\\n",
    "    2\n",
    "\\end{bmatrix} \\ \\ \\ \\ \\underline{b}=\\begin{bmatrix}\n",
    "    2\\\\\n",
    "    4\n",
    "\\end{bmatrix} $$\n",
    "\n",
    "c)$$\\underline{a}=\\begin{bmatrix}\n",
    "    1\\\\\n",
    "    2\\\\\n",
    "    0\n",
    "\\end{bmatrix} \\ \\ \\ \\ \\underline{b}=\\begin{bmatrix}\n",
    "    -3\\\\\n",
    "    0\\\\\n",
    "    -2\n",
    "\\end{bmatrix} $$\n",
    "\n",
    "d)$$\\underline{a}=\\begin{bmatrix}\n",
    "    1\\\\\n",
    "    2\\\\\n",
    "    4\n",
    "\\end{bmatrix} \\ \\ \\ \\ \\underline{b}=\\begin{bmatrix}\n",
    "    -3\\\\\n",
    "    0\\\\\n",
    "    -2\n",
    "\\end{bmatrix} $$"
   ]
  },
  {
   "cell_type": "code",
   "execution_count": null,
   "metadata": {},
   "outputs": [],
   "source": [
    "#a\n",
    "a = np.matrix([[1], [2]])\n",
    "b = np.matrix([[2], [-1]])\n",
    "aT = np.transpose(a)\n",
    "aTb = aT * b\n",
    "a_dist = np.linalg.norm(a)\n",
    "b_dist = np.linalg.norm(b)\n",
    "cosphi=aTb/(a_dist*b_dist)\n",
    "cosphi\n",
    "#hence, cos(phi)=0 so 90 degrees aka 1/2 pi"
   ]
  },
  {
   "cell_type": "code",
   "execution_count": null,
   "metadata": {},
   "outputs": [],
   "source": [
    "#b\n",
    "a = np.matrix([[1], [2]])\n",
    "b = np.matrix([[2], [4]])\n",
    "aT = np.transpose(a)\n",
    "aTb = aT * b\n",
    "a_dist = np.linalg.norm(a)\n",
    "b_dist = np.linalg.norm(b)\n",
    "cosphi=aTb/(a_dist*b_dist)\n",
    "cosphi\n",
    "#hence, cos(phi)=1 so 0 degrees aka 0 pi"
   ]
  },
  {
   "cell_type": "code",
   "execution_count": null,
   "metadata": {},
   "outputs": [],
   "source": [
    "#c\n",
    "a = np.matrix([[1], [2], [0]])\n",
    "b = np.matrix([[-3], [0], [-2]])\n",
    "aT = np.transpose(a)\n",
    "aTb = aT * b\n",
    "a_dist = np.linalg.norm(a)\n",
    "b_dist = np.linalg.norm(b)\n",
    "cosphi=aTb/(a_dist*b_dist)\n",
    "cosphi\n",
    "#hence, cos(phi)=-0.3721 so about 111 degrees. "
   ]
  },
  {
   "cell_type": "code",
   "execution_count": null,
   "metadata": {},
   "outputs": [],
   "source": [
    "#d\n",
    "a = np.matrix([[1], [2], [4]])\n",
    "b = np.matrix([[-3], [0], [-2]])\n",
    "aT = np.transpose(a)\n",
    "aTb = aT * b\n",
    "a_dist = np.linalg.norm(a)\n",
    "b_dist = np.linalg.norm(b)\n",
    "cosphi=aTb/(a_dist*b_dist)\n",
    "cosphi\n",
    "#hence, cos(phi)=-0.3721 so about 132 degrees. "
   ]
  },
  {
   "cell_type": "code",
   "execution_count": null,
   "metadata": {},
   "outputs": [],
   "source": []
  }
 ],
 "metadata": {
  "kernelspec": {
   "display_name": "Python 3",
   "language": "python",
   "name": "python3"
  },
  "language_info": {
   "codemirror_mode": {
    "name": "ipython",
    "version": 3
   },
   "file_extension": ".py",
   "mimetype": "text/x-python",
   "name": "python",
   "nbconvert_exporter": "python",
   "pygments_lexer": "ipython3",
   "version": "3.8.5"
  }
 },
 "nbformat": 4,
 "nbformat_minor": 4
}
