{
 "cells": [
  {
   "cell_type": "markdown",
   "metadata": {},
   "source": [
    "# Python Homework Week 4"
   ]
  },
  {
   "cell_type": "code",
   "execution_count": 1,
   "metadata": {},
   "outputs": [],
   "source": [
    "import scipy.optimize as opt\n",
    "import numpy as np\n",
    "import matplotlib.pyplot as plt\n",
    "%matplotlib inline"
   ]
  },
  {
   "cell_type": "markdown",
   "metadata": {},
   "source": [
    "The homework assignments are getting harder, because they are building on top of everything you have learned already. If you cannot solve a particular question, go back to your earlier notebooks and/or to Datacamp. In principle, you should be able to do everything below independenty if you remember the course material so far. The homework assignments are a good indication of the level of the exam for this material."
   ]
  },
  {
   "cell_type": "markdown",
   "metadata": {},
   "source": [
    "## Range, zip and enumerate"
   ]
  },
  {
   "cell_type": "markdown",
   "metadata": {},
   "source": [
    "**a) [1 point]**\n",
    "\n",
    "Use `range` to create a list of all positive even numbers below and including 20."
   ]
  },
  {
   "cell_type": "code",
   "execution_count": 2,
   "metadata": {},
   "outputs": [
    {
     "data": {
      "text/plain": [
       "[0, 2, 4, 6, 8, 10, 12, 14, 16, 18, 20]"
      ]
     },
     "execution_count": 2,
     "metadata": {},
     "output_type": "execute_result"
    }
   ],
   "source": [
    "list_p = []\n",
    "for i in range(21):\n",
    "    if i % 2 == 0:\n",
    "        list_p.append(i)\n",
    "\n",
    "list_p"
   ]
  },
  {
   "cell_type": "markdown",
   "metadata": {},
   "source": [
    "**b) [1 point]**\n",
    "\n",
    "For the tuple `foo` below, use a combination of `zip`,\n",
    "`range`, and `len` to mimic `enumerate(foo)`.\n",
    "\n",
    "Verify that your proposed solution is correct by converting each to a list\n",
    "and checking equality with `==`.\n",
    "\n",
    "HINT: You can see what the answer should look like by starting with\n",
    "`list(enumerate(foo))`."
   ]
  },
  {
   "cell_type": "code",
   "execution_count": 3,
   "metadata": {},
   "outputs": [
    {
     "name": "stdout",
     "output_type": "stream",
     "text": [
      "[(0, 'good'), (1, 'luck!')]\n",
      "True\n"
     ]
    }
   ],
   "source": [
    "foo = (\"good\", \"luck!\")\n",
    "enum = list(enumerate(foo))\n",
    "num_tup = tuple(range(len(foo)))\n",
    "zipped = list(zip(num_tup, foo))\n",
    "print(zipped)\n",
    "print(enum == zipped)"
   ]
  },
  {
   "cell_type": "markdown",
   "metadata": {},
   "source": [
    "**c) [1 point]**\n",
    "\n",
    "Write a for loop that uses the lists of cities\n",
    "and states below to print the same \"{city} is in {state}\" using\n",
    "`zip`"
   ]
  },
  {
   "cell_type": "code",
   "execution_count": 4,
   "metadata": {},
   "outputs": [
    {
     "name": "stdout",
     "output_type": "stream",
     "text": [
      "Phoenix is in Arizona\n",
      "Austin is in Texas\n",
      "San Diego is in California\n",
      "New York is in New York\n"
     ]
    }
   ],
   "source": [
    "cities = [\"Phoenix\", \"Austin\", \"San Diego\", \"New York\"]\n",
    "states = [\"Arizona\", \"Texas\", \"California\", \"New York\"]\n",
    "\n",
    "num_tup = tuple(range(len(cities)))\n",
    "\n",
    "for i in range(len(cities)):\n",
    "    print(cities[i] + \" is in \" + states[i])"
   ]
  },
  {
   "cell_type": "markdown",
   "metadata": {},
   "source": [
    "**d) [1 point]**\n",
    "\n",
    "Now do exactly the same using `enumerate`"
   ]
  },
  {
   "cell_type": "code",
   "execution_count": 12,
   "metadata": {},
   "outputs": [
    {
     "name": "stdout",
     "output_type": "stream",
     "text": [
      "Phoenix is in Arizona\n",
      "Austin is in Texas\n",
      "San Diego is in California\n",
      "New York is in New York\n"
     ]
    }
   ],
   "source": [
    "cities = [\"Phoenix\", \"Austin\", \"San Diego\", \"New York\"]\n",
    "states = [\"Arizona\", \"Texas\", \"California\", \"New York\"]\n",
    "for index, city in enumerate(cities):\n",
    "    state = states[index]\n",
    "    print(f'{city} is in {state}')"
   ]
  },
  {
   "cell_type": "markdown",
   "metadata": {},
   "source": [
    "## Comprehension"
   ]
  },
  {
   "cell_type": "markdown",
   "metadata": {},
   "source": [
    "**e) [1 point]**\n",
    "\n",
    "Use comprehension to create a dictionary from the lists below, with the tickers as keys and the prices as values. *Hint*: Use `zip`."
   ]
  },
  {
   "cell_type": "code",
   "execution_count": 6,
   "metadata": {
    "hide-output": false
   },
   "outputs": [
    {
     "data": {
      "text/plain": [
       "{'AAPL': 175.96, 'GOOGL': 1047.43, 'TVIX': 8.38}"
      ]
     },
     "execution_count": 6,
     "metadata": {},
     "output_type": "execute_result"
    }
   ],
   "source": [
    "tickers = [\"AAPL\", \"GOOGL\", \"TVIX\"]\n",
    "prices = [175.96, 1047.43, 8.38]\n",
    "\n",
    "new_dic = dict(zip(tickers,prices))\n",
    "new_dic"
   ]
  },
  {
   "cell_type": "markdown",
   "metadata": {},
   "source": [
    "**f) [1 point]**\n",
    "\n",
    "Use comprehension to create a list containing only the cities in the dictionary below. *Hint*: Use the method `keys()`."
   ]
  },
  {
   "cell_type": "code",
   "execution_count": 7,
   "metadata": {},
   "outputs": [
    {
     "data": {
      "text/plain": [
       "['Seattle', 'Zurich', 'Cupertino']"
      ]
     },
     "execution_count": 7,
     "metadata": {},
     "output_type": "execute_result"
    }
   ],
   "source": [
    "d = {\"AMZN\": \"Seattle\", \"TVIX\": \"Zurich\", \"AAPL\": \"Cupertino\"}\n",
    "\n",
    "new_list = list(d.values())\n",
    "new_list"
   ]
  },
  {
   "cell_type": "markdown",
   "metadata": {},
   "source": [
    "**g) [4 points]**\n",
    "\n",
    "1. Generate a list between -1 and 9 (including 9) with steps of 0.1 using  the `arange` function from numpy.\n",
    "2. Define a function $f(x) = x^2 - 8x +15$ \n",
    "3. Use list comprehension to define y values using the list created in the first step and the function created in the second step.\n",
    "4. Now use `matplotlib` to plot x against 𝑦."
   ]
  },
  {
   "cell_type": "code",
   "execution_count": 8,
   "metadata": {},
   "outputs": [
    {
     "data": {
      "image/png": "[encoded data removed]",
      "text/plain": [
       "<Figure size 432x288 with 1 Axes>"
      ]
     },
     "metadata": {
      "needs_background": "light"
     },
     "output_type": "display_data"
    }
   ],
   "source": [
    "list_a = np.arange(-1, 9.01, step = 0.1)\n",
    "def f(x):\n",
    "    result = x**2 - 8*x + 15\n",
    "    return result\n",
    "f(1)\n",
    "\n",
    "list_y = [f(i) for i in list_a]\n",
    "\n",
    "plt.plot(list_a, list_y)\n",
    "plt.show()"
   ]
  },
  {
   "cell_type": "markdown",
   "metadata": {
    "nbgrader": {
     "checksum": "3eeee14d5c4ae88dc99586f7af9283a4",
     "grade": false,
     "grade_id": "cell-d7e64240ee7d5391",
     "locked": true,
     "schema_version": 1,
     "solution": false
    }
   },
   "source": [
    "## Solving and optimizing equations\n",
    "\n",
    "Continue to consider the function $f(x) = x^2 - 8x +15$. \n",
    "\n",
    "-----------\n",
    "\n",
    "**h) [1 point]** Find the $x$ for which the function $f(x)$ attains a minimum."
   ]
  },
  {
   "cell_type": "code",
   "execution_count": 9,
   "metadata": {
    "nbgrader": {
     "checksum": "bc2fb596f9db039448f29c1ad8f76d7a",
     "grade": true,
     "grade_id": "cell-d8981beefc03e4df",
     "locked": false,
     "points": 1,
     "schema_version": 1,
     "solution": true
    }
   },
   "outputs": [
    {
     "data": {
      "text/plain": [
       "     fun: -1.0\n",
       "    nfev: 9\n",
       "     nit: 5\n",
       " success: True\n",
       "       x: 4.000000000000001"
      ]
     },
     "execution_count": 9,
     "metadata": {},
     "output_type": "execute_result"
    }
   ],
   "source": [
    "opt.minimize_scalar(f, [0,1,8])"
   ]
  },
  {
   "cell_type": "markdown",
   "metadata": {
    "nbgrader": {
     "checksum": "7529304cb24bd4dd8dc1132acf858ff2",
     "grade": false,
     "grade_id": "cell-9936079c12a55c6c",
     "locked": true,
     "schema_version": 1,
     "solution": false
    }
   },
   "source": [
    "**i) [1 point]** Plot both the function $f(x) = x^2 - 8x +15$ and the function $g(x) = 1.5 x$. Make sure that the horizontal axis is labeled $x$ and the vertical axis $y$. *Hint:* Use `plt.show()` below a sequence of `plt.` commands to combine multiple plots in one figure."
   ]
  },
  {
   "cell_type": "code",
   "execution_count": 10,
   "metadata": {
    "nbgrader": {
     "checksum": "79db0c50f787e14a225f3f4143bd6f1a",
     "grade": true,
     "grade_id": "cell-4b9fcf110eead15d",
     "locked": false,
     "points": 1,
     "schema_version": 1,
     "solution": true
    }
   },
   "outputs": [
    {
     "data": {
      "image/png": "[encoded data removed]",
      "text/plain": [
       "<Figure size 432x288 with 1 Axes>"
      ]
     },
     "metadata": {
      "needs_background": "light"
     },
     "output_type": "display_data"
    }
   ],
   "source": [
    "def g(x):\n",
    "    result = 1.5*x\n",
    "    return result\n",
    "list_z = [g(i) for i in list_a]\n",
    "plt.plot(list_a, list_y)\n",
    "plt.plot(list_a, list_z)\n",
    "plt.xlabel(\"x\")\n",
    "plt.ylabel(\"y\")\n",
    "plt.title(\"Plot of f(x) and g(x)\")\n",
    "plt.show()"
   ]
  },
  {
   "cell_type": "markdown",
   "metadata": {
    "nbgrader": {
     "checksum": "f1a51c6b53209443ff7894c81e663d17",
     "grade": false,
     "grade_id": "cell-1a88c3871e1f6b9e",
     "locked": true,
     "schema_version": 1,
     "solution": false
    }
   },
   "source": [
    "**j) [1 point]:** Find the points of intersection between the function $x^2 - 8x +15$ above and the function $1.5 x$."
   ]
  },
  {
   "cell_type": "code",
   "execution_count": 11,
   "metadata": {
    "nbgrader": {
     "checksum": "b7a58cdc98fdaba0e3f596fb8bb9e89d",
     "grade": true,
     "grade_id": "cell-f96bbae5c5cc29f1",
     "locked": false,
     "points": 1,
     "schema_version": 1,
     "solution": true
    }
   },
   "outputs": [
    {
     "data": {
      "text/plain": [
       "    fjac: array([[-0.94369756, -0.32967626,  0.0273582 ],\n",
       "       [ 0.32379444, -0.93746256, -0.12775408],\n",
       "       [-0.06776478,  0.11170278, -0.99142848]])\n",
       "     fun: array([-6.81232848e-13,  1.00044417e-11, -1.37383438e-11])\n",
       " message: 'The solution converged.'\n",
       "    nfev: 14\n",
       "     qtf: array([ 3.53668830e-10,  1.09631332e-09, -1.82735709e-09])\n",
       "       r: array([ 5.00304881,  1.55574677,  0.3308756 ,  5.61909893, -0.94609502,\n",
       "       -5.92930558])\n",
       "  status: 1\n",
       " success: True\n",
       "       x: array([2. , 2. , 7.5])"
      ]
     },
     "execution_count": 11,
     "metadata": {},
     "output_type": "execute_result"
    }
   ],
   "source": [
    "def c(x):\n",
    "    result = f(x)-g(x)\n",
    "    return result\n",
    "    \n",
    "opt.root(c, [0,1,8])"
   ]
  },
  {
   "cell_type": "markdown",
   "metadata": {},
   "source": [
    "#### Class4\n",
    "\n",
    "To be optimally prepared for class4, it would be wise to refresh the Datacamp course Intermediate Python, in particular the chapters on Logic and Control Flow, and the chapter on Loops."
   ]
  },
  {
   "cell_type": "code",
   "execution_count": null,
   "metadata": {},
   "outputs": [],
   "source": []
  }
 ],
 "metadata": {
  "kernelspec": {
   "display_name": "Python 3",
   "language": "python",
   "name": "python3"
  },
  "language_info": {
   "codemirror_mode": {
    "name": "ipython",
    "version": 3
   },
   "file_extension": ".py",
   "mimetype": "text/x-python",
   "name": "python",
   "nbconvert_exporter": "python",
   "pygments_lexer": "ipython3",
   "version": "3.8.5"
  }
 },
 "nbformat": 4,
 "nbformat_minor": 4
}
