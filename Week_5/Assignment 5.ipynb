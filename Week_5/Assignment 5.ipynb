{
 "cells": [
  {
   "cell_type": "markdown",
   "metadata": {},
   "source": [
    "# Assigment 5\n",
    "\n",
    "\n",
    "<a id='index-0'></a>"
   ]
  },
  {
   "cell_type": "markdown",
   "metadata": {},
   "source": [
    "In this notebook we use the numpy library once again. As in assignment 2, we will also use the sympy library that we import. The sympy library namely contains the function rref which will return the reduced row echelon form of a matrix. "
   ]
  },
  {
   "cell_type": "code",
   "execution_count": 1,
   "metadata": {},
   "outputs": [],
   "source": [
    "import numpy as np\n",
    "from sympy import *"
   ]
  },
  {
   "cell_type": "markdown",
   "metadata": {},
   "source": [
    "## Linear combination and span of vectors"
   ]
  },
  {
   "cell_type": "markdown",
   "metadata": {},
   "source": [
    "**Linear combination of vectors**\n",
    "\n",
    "A linear combination of the vectors $\\underline{w}_1, . . . , \\underline{w}_n$ of length $m$ is any vector of the form $c_1\\underline{w}_1 + c_2\\underline{w}_2 + . . . c_n\\underline{w}_n$ where $c_1, c_2, . . . , c_n$ are numbers.\n",
    "\n",
    "Consider the vectors\n",
    "\n",
    "$$\\underline{w}_1=\\begin{bmatrix}\n",
    "    1\\\\\n",
    "    1\\\\\n",
    "    0 \n",
    "\\end{bmatrix}, \\underline{w}_2=\\begin{bmatrix}\n",
    "    1\\\\\n",
    "    0\\\\\n",
    "    1 \n",
    "\\end{bmatrix}, \\underline{w}_3=\\begin{bmatrix}\n",
    "    0\\\\\n",
    "    1\\\\\n",
    "    1 \n",
    "\\end{bmatrix}   $$\n",
    "\n",
    "We write this in python as demonstrated below."
   ]
  },
  {
   "cell_type": "code",
   "execution_count": 2,
   "metadata": {},
   "outputs": [
    {
     "data": {
      "text/plain": [
       "matrix([[1],\n",
       "        [1],\n",
       "        [0]])"
      ]
     },
     "execution_count": 2,
     "metadata": {},
     "output_type": "execute_result"
    }
   ],
   "source": [
    "w1 = np.matrix([[1],[1],[0]])\n",
    "w1"
   ]
  },
  {
   "cell_type": "code",
   "execution_count": 3,
   "metadata": {},
   "outputs": [
    {
     "data": {
      "text/plain": [
       "matrix([[1],\n",
       "        [0],\n",
       "        [1]])"
      ]
     },
     "execution_count": 3,
     "metadata": {},
     "output_type": "execute_result"
    }
   ],
   "source": [
    "w2 = np.matrix([[1],[0],[1]])\n",
    "w2"
   ]
  },
  {
   "cell_type": "code",
   "execution_count": 4,
   "metadata": {},
   "outputs": [
    {
     "data": {
      "text/plain": [
       "matrix([[0],\n",
       "        [1],\n",
       "        [1]])"
      ]
     },
     "execution_count": 4,
     "metadata": {},
     "output_type": "execute_result"
    }
   ],
   "source": [
    "w3 = np.matrix([[0],[1],[1]])\n",
    "w3"
   ]
  },
  {
   "cell_type": "markdown",
   "metadata": {},
   "source": [
    "We provide two examples of linear combination of $\\underline{w}_1$, $\\underline{w}_2$, $\\underline{w}_3$. First, the vector\n",
    "\n",
    "\\begin{align}\n",
    "\\underline{a}&=2\\underline{w}_1+ \\underline{w}_2 + 3\\underline{w}_3\\\\\n",
    "& =2\\begin{bmatrix}\n",
    "    1\\\\\n",
    "    1\\\\\n",
    "    0 \n",
    "\\end{bmatrix}+\\begin{bmatrix}\n",
    "    1\\\\\n",
    "    0\\\\\n",
    "    1 \n",
    "\\end{bmatrix}+3\\begin{bmatrix}\n",
    "    0\\\\\n",
    "    1\\\\\n",
    "    1 \n",
    "\\end{bmatrix} \\\\\n",
    "& = \\begin{bmatrix}\n",
    "    3\\\\\n",
    "    5\\\\\n",
    "    4 \n",
    "\\end{bmatrix}\n",
    "\\end{align}\n",
    "\n",
    "is a linear combination of $\\underline{w}_1$, $\\underline{w}_2$, $\\underline{w}_3$ with $c_1 = 2$, $c_2 = 1$ and $c_3 = 3$."
   ]
  },
  {
   "cell_type": "code",
   "execution_count": 5,
   "metadata": {},
   "outputs": [
    {
     "data": {
      "text/plain": [
       "matrix([[3],\n",
       "        [5],\n",
       "        [4]])"
      ]
     },
     "execution_count": 5,
     "metadata": {},
     "output_type": "execute_result"
    }
   ],
   "source": [
    "a=2*w1+w2+3*w3\n",
    "a"
   ]
  },
  {
   "cell_type": "markdown",
   "metadata": {},
   "source": [
    "**Exercise**\n",
    "\n",
    "Let $\\underline{b}$ be a linear combination of $\\underline{w}_1$, $\\underline{w}_2$, $\\underline{w}_3$ with $c_1 = -1$, $c_2 = 0$ and $c_3 = 2$. Find the vector $\\underline{b}$."
   ]
  },
  {
   "cell_type": "code",
   "execution_count": 6,
   "metadata": {},
   "outputs": [],
   "source": [
    "# Your code here"
   ]
  },
  {
   "cell_type": "markdown",
   "metadata": {},
   "source": [
    "**Note: for the following part we will use the sympy library, since we want to use the rref() function. That means that we enter vectors and matrices using Matrix() and not using np.matrix() as we did above.**"
   ]
  },
  {
   "cell_type": "markdown",
   "metadata": {},
   "source": [
    "Consider the vectors:\n",
    "\n",
    "$$\\underline{w}_1=\\begin{bmatrix}\n",
    "    1\\\\\n",
    "    1\\\\\n",
    "    0 \n",
    "\\end{bmatrix}, \\underline{w}_2=\\begin{bmatrix}\n",
    "    1\\\\\n",
    "    0\\\\\n",
    "    1 \n",
    "\\end{bmatrix}, \\underline{b}=\\begin{bmatrix}\n",
    "    3\\\\\n",
    "    2\\\\\n",
    "    1 \n",
    "\\end{bmatrix}   $$\n",
    "\n",
    "We write this in python as demonstrated below."
   ]
  },
  {
   "cell_type": "code",
   "execution_count": 7,
   "metadata": {},
   "outputs": [
    {
     "data": {
      "text/latex": [
       "$\\displaystyle \\left[\\begin{matrix}1\\\\1\\\\0\\end{matrix}\\right]$"
      ],
      "text/plain": [
       "Matrix([\n",
       "[1],\n",
       "[1],\n",
       "[0]])"
      ]
     },
     "execution_count": 7,
     "metadata": {},
     "output_type": "execute_result"
    }
   ],
   "source": [
    "w1 = Matrix([[1],[1],[0]])\n",
    "w1"
   ]
  },
  {
   "cell_type": "code",
   "execution_count": 8,
   "metadata": {},
   "outputs": [
    {
     "data": {
      "text/latex": [
       "$\\displaystyle \\left[\\begin{matrix}1\\\\0\\\\1\\end{matrix}\\right]$"
      ],
      "text/plain": [
       "Matrix([\n",
       "[1],\n",
       "[0],\n",
       "[1]])"
      ]
     },
     "execution_count": 8,
     "metadata": {},
     "output_type": "execute_result"
    }
   ],
   "source": [
    "w2 = Matrix([[1],[0],[1]])\n",
    "w2"
   ]
  },
  {
   "cell_type": "code",
   "execution_count": 9,
   "metadata": {},
   "outputs": [
    {
     "data": {
      "text/latex": [
       "$\\displaystyle \\left[\\begin{matrix}3\\\\2\\\\1\\end{matrix}\\right]$"
      ],
      "text/plain": [
       "Matrix([\n",
       "[3],\n",
       "[2],\n",
       "[1]])"
      ]
     },
     "execution_count": 9,
     "metadata": {},
     "output_type": "execute_result"
    }
   ],
   "source": [
    "b = Matrix([[3],[2],[1]])\n",
    "b"
   ]
  },
  {
   "cell_type": "markdown",
   "metadata": {},
   "source": [
    "We want to check whether $\\underline{b}$ is a linear combination of $\\underline{w}_1$ and $\\underline{w}_2$. Hence, we want to find number $c_1$ and $c_2$ such that \n",
    "\n",
    "$$c_1\\underline{w}_1 + c_2\\underline{w}_2 = \\underline{b}.$$\n",
    "\n",
    "This is equivalent to \n",
    "\n",
    "$$c_1 \\begin{bmatrix}\n",
    "    1\\\\\n",
    "    1\\\\\n",
    "    0 \n",
    "\\end{bmatrix}+c_2\\begin{bmatrix}\n",
    "    1\\\\\n",
    "    0\\\\\n",
    "    1 \n",
    "\\end{bmatrix}=\\begin{bmatrix}\n",
    "    3\\\\\n",
    "    2\\\\\n",
    "    1 \n",
    "\\end{bmatrix} .$$\n",
    "\n",
    "This we can write into\n",
    "\n",
    "$$\\begin{bmatrix}\n",
    "    1 \\ \\ \\ 1\\\\\n",
    "    1 \\ \\ \\ 0\\\\\n",
    "    0 \\ \\ \\ 1\n",
    "\\end{bmatrix}\\begin{bmatrix}\n",
    "    c_1\\\\\n",
    "    c_2\n",
    "\\end{bmatrix}=\\begin{bmatrix}\n",
    "    3\\\\\n",
    "    2\\\\\n",
    "    1 \n",
    "\\end{bmatrix} .$$\n",
    "\n",
    "Clearly, the equality given above boils down to a system of linear equations with extended matrix \n",
    "\n",
    "$$\n",
    "\\left[\n",
    "\\begin{array}{cc|c}\n",
    "1 & 1 & 3 \\\\\n",
    "1 & 0 & 2 \\\\\n",
    "0 & 1 & 1\\\\\n",
    "\\end{array}\n",
    "\\right]\n",
    "$$"
   ]
  },
  {
   "cell_type": "code",
   "execution_count": 10,
   "metadata": {},
   "outputs": [
    {
     "data": {
      "text/latex": [
       "$\\displaystyle \\left[\\begin{matrix}1 & 1 & 3\\\\1 & 0 & 2\\\\0 & 1 & 1\\end{matrix}\\right]$"
      ],
      "text/plain": [
       "Matrix([\n",
       "[1, 1, 3],\n",
       "[1, 0, 2],\n",
       "[0, 1, 1]])"
      ]
     },
     "execution_count": 10,
     "metadata": {},
     "output_type": "execute_result"
    }
   ],
   "source": [
    "Ab = Matrix([[1, 1, 3],[1, 0, 2],[0,1,1]])\n",
    "Ab"
   ]
  },
  {
   "cell_type": "markdown",
   "metadata": {},
   "source": [
    "We apply the row-reduction procedure to solve this system of linear equations. The matrices according to the different steps of the procedure are separated by a ~\n",
    "\n",
    "$$\n",
    "\\left[\n",
    "\\begin{array}{cc|c}\n",
    "1 & 1 & 3 \\\\\n",
    "1 & 0 & 2 \\\\\n",
    "0 & 1 & 1\\\\\n",
    "\\end{array}\n",
    "\\right] \\text{~} \\left[\n",
    "\\begin{array}{cc|c}\n",
    "1 & 1 & 3 \\\\\n",
    "0 & -1 & -1 \\\\\n",
    "0 & 1 & 1\\\\\n",
    "\\end{array}\n",
    "\\right] \\text{~} \\left[\n",
    "\\begin{array}{cc|c}\n",
    "1 & 1 & 3 \\\\\n",
    "0 & 1 & 1 \\\\\n",
    "0 & 1 & 1\\\\\n",
    "\\end{array}\n",
    "\\right] \\text{~} \\left[\n",
    "\\begin{array}{cc|c}\n",
    "1 & 0 & 2 \\\\\n",
    "0 & 1 & 1 \\\\\n",
    "0 & 0 & 0\\\\\n",
    "\\end{array}\n",
    "\\right]\n",
    "$$\n",
    "\n",
    "Recall that in python we can find the reduced form of the system of linear equations using rref(). This returns two elements. The first is the reduced row echelon form, and the second is the indices of the pivot columns. By typing Ab_rref[0], only the reduced row echelon form is printed."
   ]
  },
  {
   "cell_type": "code",
   "execution_count": 11,
   "metadata": {},
   "outputs": [
    {
     "data": {
      "text/latex": [
       "$\\displaystyle \\left[\\begin{matrix}1 & 0 & 2\\\\0 & 1 & 1\\\\0 & 0 & 0\\end{matrix}\\right]$"
      ],
      "text/plain": [
       "Matrix([\n",
       "[1, 0, 2],\n",
       "[0, 1, 1],\n",
       "[0, 0, 0]])"
      ]
     },
     "execution_count": 11,
     "metadata": {},
     "output_type": "execute_result"
    }
   ],
   "source": [
    "Ab_rref = Ab.rref() \n",
    "Ab_rref[0]"
   ]
  },
  {
   "cell_type": "markdown",
   "metadata": {},
   "source": [
    "Hence, $c_1 = 2$ and $c_2 = 1$. We can conclude that $\\underline{b} = 2\\underline{w}_1 + 1\\underline{w}_2$ and henceforth $\\underline{b}$ is a linear combination of $\\underline{w}_1$ and $\\underline{w}_2$. "
   ]
  },
  {
   "cell_type": "markdown",
   "metadata": {},
   "source": [
    "**Exercise**\n",
    "\n",
    "Consider the vectors:\n",
    "\n",
    "$$\\underline{w}_1=\\begin{bmatrix}\n",
    "    1\\\\\n",
    "    1\\\\\n",
    "    0 \n",
    "\\end{bmatrix}, \\underline{w}_2=\\begin{bmatrix}\n",
    "    1\\\\\n",
    "    0\\\\\n",
    "    1 \n",
    "\\end{bmatrix}, \\underline{b}=\\begin{bmatrix}\n",
    "    0\\\\\n",
    "    1\\\\\n",
    "    1 \n",
    "\\end{bmatrix} .$$\n",
    "\n",
    "Check whether $\\underline{b}$ is a linear combination of $\\underline{w}_1$ and $\\underline{w}_2$. Hence, find number $c_1$ and $c_2$ such that \n",
    "\n",
    "$$c_1\\underline{w}_1 + c_2\\underline{w}_2 = \\underline{b}.$$"
   ]
  },
  {
   "cell_type": "code",
   "execution_count": 12,
   "metadata": {},
   "outputs": [],
   "source": [
    "# Your code here"
   ]
  },
  {
   "cell_type": "markdown",
   "metadata": {},
   "source": [
    "**Note: for the following part we will no longer use the sympy library. That means that we enter vectors and matrices using np.matrix() and not using Matrix().**\n",
    "\n",
    "**Distance vector to a span of vectors**\n",
    "\n",
    "Recall the following from the reader: Let $\\underline{w}_1, . . . , \\underline{w}_n$ and $\\underline{b}$ be vectors of length $m$. Then the minimum distance of vector $\\underline{b}$ to the $Span[\\underline{w}_1, . . . , \\underline{w}_n]$ is the length of the vector $\\underline{b} − \\underline{p}$ that satisfies the following two conditions:\n",
    "\n",
    "(i) $\\underline{p}=A\\underline{c}$\n",
    "\n",
    "(ii) $A^T(\\underline{b}-\\underline{p})=\\underline{0}$,\n",
    "\n",
    "Then the vector $\\underline{c}$ is obtained by solving the normal equation\n",
    "\n",
    "$$\\underline{c}=(A^TA)^{-1}A^T\\underline{b}.$$\n",
    "\n",
    "Observe, as soon $\\underline{c}$ is determined, the vector $\\underline{p}$ is readily obtained using $\\underline{p} = A\\underline{c}$ from condition (i). So, the normal equation can be used to determine the distance of a vector $\\underline{b}$ to a $Span[\\underline{w}_1, . . . , \\underline{w}_n]$. \n",
    "\n",
    "**Example**\n",
    "Consider the vectors:\n",
    "\n",
    "$$\\underline{b}=\\begin{bmatrix}\n",
    "    -1\\\\\n",
    "    -5\\\\\n",
    "    10 \n",
    "\\end{bmatrix}, \\underline{w}_1=\\begin{bmatrix}\n",
    "    5\\\\\n",
    "    -2\\\\\n",
    "    1 \n",
    "\\end{bmatrix}, \\underline{w}_2=\\begin{bmatrix}\n",
    "    1\\\\\n",
    "    2\\\\\n",
    "    -1 \n",
    "\\end{bmatrix}   $$\n",
    "\n",
    "We write this in python as demonstrated below."
   ]
  },
  {
   "cell_type": "code",
   "execution_count": 13,
   "metadata": {},
   "outputs": [
    {
     "data": {
      "text/plain": [
       "matrix([[-1],\n",
       "        [-5],\n",
       "        [10]])"
      ]
     },
     "execution_count": 13,
     "metadata": {},
     "output_type": "execute_result"
    }
   ],
   "source": [
    "b = np.matrix([[-1],[-5],[10]])\n",
    "b"
   ]
  },
  {
   "cell_type": "code",
   "execution_count": 14,
   "metadata": {},
   "outputs": [
    {
     "data": {
      "text/plain": [
       "matrix([[ 5],\n",
       "        [-2],\n",
       "        [ 1]])"
      ]
     },
     "execution_count": 14,
     "metadata": {},
     "output_type": "execute_result"
    }
   ],
   "source": [
    "w1 = np.matrix([[5],[-2],[1]])\n",
    "w1"
   ]
  },
  {
   "cell_type": "code",
   "execution_count": 15,
   "metadata": {},
   "outputs": [
    {
     "data": {
      "text/plain": [
       "matrix([[ 1],\n",
       "        [ 2],\n",
       "        [-1]])"
      ]
     },
     "execution_count": 15,
     "metadata": {},
     "output_type": "execute_result"
    }
   ],
   "source": [
    "w2 = np.matrix([[1],[2],[-1]])\n",
    "w2"
   ]
  },
  {
   "cell_type": "markdown",
   "metadata": {},
   "source": [
    "The columns of the matrix $A$ consist of $\\underline{w}_1$ and $\\underline{w}_2$, respectively. Hence,\n",
    "\n",
    "$$A =\n",
    "\\left[\n",
    "\\begin{array}{cc}\n",
    "5 & 1 \\\\\n",
    "-2 & 2 \\\\\n",
    "1 & -1\n",
    "\\end{array}\n",
    "\\right].\n",
    "$$"
   ]
  },
  {
   "cell_type": "code",
   "execution_count": 16,
   "metadata": {},
   "outputs": [
    {
     "data": {
      "text/plain": [
       "matrix([[ 5,  1],\n",
       "        [-2,  2],\n",
       "        [ 1, -1]])"
      ]
     },
     "execution_count": 16,
     "metadata": {},
     "output_type": "execute_result"
    }
   ],
   "source": [
    "A = np.matrix([[5, 1],[-2, 2], [1, -1]])\n",
    "A"
   ]
  },
  {
   "cell_type": "markdown",
   "metadata": {},
   "source": [
    "In python we can easily calculate $\\underline{c}=(A^TA)^{-1}A^T\\underline{b}$ using the function $A.I$ to calculate the inverse of matrix $A$ and using the function $np.transpose(A)$ to calculate $A^T$.\n",
    "\n",
    "We first calculate $A^TA$:"
   ]
  },
  {
   "cell_type": "code",
   "execution_count": 17,
   "metadata": {},
   "outputs": [
    {
     "data": {
      "text/plain": [
       "matrix([[30,  0],\n",
       "        [ 0,  6]])"
      ]
     },
     "execution_count": 17,
     "metadata": {},
     "output_type": "execute_result"
    }
   ],
   "source": [
    "ATA = np.transpose(A)*A\n",
    "ATA"
   ]
  },
  {
   "cell_type": "markdown",
   "metadata": {},
   "source": [
    "Next, we calculate $(A^TA)^{-1}$:"
   ]
  },
  {
   "cell_type": "code",
   "execution_count": 18,
   "metadata": {},
   "outputs": [
    {
     "data": {
      "text/plain": [
       "matrix([[0.03333333, 0.        ],\n",
       "        [0.        , 0.16666667]])"
      ]
     },
     "execution_count": 18,
     "metadata": {},
     "output_type": "execute_result"
    }
   ],
   "source": [
    "ATAinverse = ATA.I\n",
    "ATAinverse"
   ]
  },
  {
   "cell_type": "markdown",
   "metadata": {},
   "source": [
    "Now we calculate $A^Tb$:"
   ]
  },
  {
   "cell_type": "code",
   "execution_count": 19,
   "metadata": {},
   "outputs": [
    {
     "data": {
      "text/plain": [
       "matrix([[ 15],\n",
       "        [-21]])"
      ]
     },
     "execution_count": 19,
     "metadata": {},
     "output_type": "execute_result"
    }
   ],
   "source": [
    "ATb = np.transpose(A)*b\n",
    "ATb"
   ]
  },
  {
   "cell_type": "markdown",
   "metadata": {},
   "source": [
    "Finally, we calculate $c$:"
   ]
  },
  {
   "cell_type": "code",
   "execution_count": 20,
   "metadata": {},
   "outputs": [
    {
     "data": {
      "text/plain": [
       "matrix([[ 0.5],\n",
       "        [-3.5]])"
      ]
     },
     "execution_count": 20,
     "metadata": {},
     "output_type": "execute_result"
    }
   ],
   "source": [
    "c = ATAinverse*ATb\n",
    "c"
   ]
  },
  {
   "cell_type": "markdown",
   "metadata": {},
   "source": [
    "Now, we can calculate $\\underline{p}$ since\n",
    "\n",
    "$$\\underline{p}=A\\underline{c}=\\left[\n",
    "\\begin{array}{cc}\n",
    "5 & 1 \\\\\n",
    "-2 & 2 \\\\\n",
    "1 & -1\n",
    "\\end{array}\n",
    "\\right]\\left[\n",
    "\\begin{array}{c}\n",
    "\\frac{1}{2}\\\\\n",
    "-\\frac{7}{2}\n",
    "\\end{array}\n",
    "\\right]=\\left[\n",
    "\\begin{array}{c}\n",
    "-1\\\\\n",
    "-8\\\\\n",
    "4\n",
    "\\end{array}\n",
    "\\right]$$"
   ]
  },
  {
   "cell_type": "code",
   "execution_count": 21,
   "metadata": {},
   "outputs": [
    {
     "data": {
      "text/plain": [
       "matrix([[-1.],\n",
       "        [-8.],\n",
       "        [ 4.]])"
      ]
     },
     "execution_count": 21,
     "metadata": {},
     "output_type": "execute_result"
    }
   ],
   "source": [
    "p = A*c\n",
    "p"
   ]
  },
  {
   "cell_type": "markdown",
   "metadata": {},
   "source": [
    "Finally, we can calculate $|\\underline{b}-\\underline{p}|$. Recall from assignment 4 that we can use the function np.linalg.norm() to calculate this."
   ]
  },
  {
   "cell_type": "code",
   "execution_count": 22,
   "metadata": {},
   "outputs": [
    {
     "data": {
      "text/plain": [
       "6.708203932499369"
      ]
     },
     "execution_count": 22,
     "metadata": {},
     "output_type": "execute_result"
    }
   ],
   "source": [
    "distance = np.linalg.norm(b-p)\n",
    "distance"
   ]
  },
  {
   "cell_type": "markdown",
   "metadata": {},
   "source": [
    "So, the distance of $\\underline{b}$ to $Span[\\underline{w}_1,\\underline{w}_2]$ is $\\sqrt{45}\\approx 6.708$"
   ]
  },
  {
   "cell_type": "markdown",
   "metadata": {},
   "source": [
    "**Exercise 4.8**\n",
    "\n",
    "Determine the vector $\\underline{c}$ in the normal equation $\\underline{c}=(A^TA)^{-1}A^T\\underline{b}$ where $\\underline{b}= \\begin{bmatrix}\n",
    "    1\\\\\n",
    "    2\\\\\n",
    "    3 \n",
    "\\end{bmatrix}$ and $A =\n",
    "\\left[\n",
    "\\begin{array}{cc}\n",
    "-2 & 2 \\\\\n",
    "1 & 5 \\\\\n",
    "1 & -1\n",
    "\\end{array}\n",
    "\\right].\n",
    "$"
   ]
  },
  {
   "cell_type": "code",
   "execution_count": 23,
   "metadata": {},
   "outputs": [],
   "source": [
    "# Your code here"
   ]
  }
 ],
 "metadata": {
  "kernelspec": {
   "display_name": "Python 3",
   "language": "python",
   "name": "python3"
  },
  "language_info": {
   "codemirror_mode": {
    "name": "ipython",
    "version": 3
   },
   "file_extension": ".py",
   "mimetype": "text/x-python",
   "name": "python",
   "nbconvert_exporter": "python",
   "pygments_lexer": "ipython3",
   "version": "3.7.4"
  }
 },
 "nbformat": 4,
 "nbformat_minor": 2
}
