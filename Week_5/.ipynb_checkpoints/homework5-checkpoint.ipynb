{
 "cells": [
  {
   "cell_type": "markdown",
   "metadata": {},
   "source": [
    "# Python Homework Week 5"
   ]
  },
  {
   "cell_type": "code",
   "execution_count": 79,
   "metadata": {},
   "outputs": [],
   "source": [
    "import numpy as np\n",
    "import pandas as pd\n",
    "import matplotlib.pyplot as plt\n",
    "%matplotlib inline"
   ]
  },
  {
   "cell_type": "markdown",
   "metadata": {},
   "source": [
    "### Introduction"
   ]
  },
  {
   "cell_type": "markdown",
   "metadata": {},
   "source": [
    "**a) [1 point]**\n",
    "\n",
    "Below you find a dictionary with the unemployment rate every other year for the four regions of the US starting in 1995. Create a Pandas DataFrame `unemp_region` with these data, and print the first few lines of it."
   ]
  },
  {
   "cell_type": "code",
   "execution_count": 80,
   "metadata": {},
   "outputs": [
    {
     "name": "stdout",
     "output_type": "stream",
     "text": [
      "    NorthEast  MidWest  South  West  National\n",
      "0         5.9      4.5    5.3   6.6       5.6\n",
      "1         5.6      4.3    5.2   6.0       5.3\n",
      "2         4.4      3.6    4.2   5.2       4.3\n",
      "3         3.8      4.0    4.0   4.6       4.2\n",
      "4         5.8      5.7    5.7   6.5       5.8\n",
      "5         4.9      5.7    5.2   5.5       5.3\n",
      "6         4.3      4.9    4.3   4.5       4.6\n",
      "7         7.1      8.1    7.6   8.6       7.8\n",
      "8         8.3      8.7    9.1  10.7       9.1\n",
      "9         7.9      7.4    7.4   8.5       8.0\n",
      "10        5.7      5.1    5.5   6.1       5.7\n"
     ]
    }
   ],
   "source": [
    "data = {\n",
    "    \"NorthEast\": [5.9,  5.6,  4.4,  3.8,  5.8,  4.9,  4.3,  7.1,  8.3,  7.9,  5.7],\n",
    "    \"MidWest\": [4.5,  4.3,  3.6,  4. ,  5.7,  5.7,  4.9,  8.1,  8.7,  7.4,  5.1],\n",
    "    \"South\": [5.3,  5.2,  4.2,  4. ,  5.7,  5.2,  4.3,  7.6,  9.1,  7.4,  5.5],\n",
    "    \"West\": [6.6, 6., 5.2, 4.6, 6.5, 5.5, 4.5, 8.6, 10.7, 8.5, 6.1],\n",
    "    \"National\": [5.6, 5.3, 4.3, 4.2, 5.8, 5.3, 4.6, 7.8, 9.1, 8., 5.7]\n",
    "}\n",
    "unemp_region = pd.DataFrame(data)\n",
    "print(unemp_region)"
   ]
  },
  {
   "cell_type": "markdown",
   "metadata": {},
   "source": [
    "**b) [1 point]**\n",
    "\n",
    "Someone claims that the national unemployment rate is not necessarily the same as the average of the four regions. Now we can check whether that is true. \n",
    "\n",
    "Create a new variable `UnweightedMean` that is a simple average of the four regional unemployment rates, and print the first few lines."
   ]
  },
  {
   "cell_type": "code",
   "execution_count": 81,
   "metadata": {},
   "outputs": [
    {
     "name": "stdout",
     "output_type": "stream",
     "text": [
      "   NorthEast  MidWest  South  West  National  UnweightedMean\n",
      "0        5.9      4.5    5.3   6.6       5.6           5.575\n",
      "1        5.6      4.3    5.2   6.0       5.3           5.275\n",
      "2        4.4      3.6    4.2   5.2       4.3           4.350\n",
      "3        3.8      4.0    4.0   4.6       4.2           4.100\n",
      "4        5.8      5.7    5.7   6.5       5.8           5.925\n"
     ]
    }
   ],
   "source": [
    "unemp_region['UnweightedMean'] = (unemp_region['NorthEast'] + unemp_region['MidWest'] + unemp_region['South'] + unemp_region['West']) / 4\n",
    "print(unemp_region.head())\n"
   ]
  },
  {
   "cell_type": "markdown",
   "metadata": {},
   "source": [
    "We see that the claim is true. The unweighted mean is not equal to national unemployment rate because the four regions are not equal in size. "
   ]
  },
  {
   "cell_type": "markdown",
   "metadata": {},
   "source": [
    "**c) [1 point]**\n",
    "\n",
    "Unless you have done something special at **a)**, `unemp_region` has an index from 0 to 10. Add a new variable `year` ranging from 1995 to 2015, set it as index, and print the first few lines of the DataFrame. \n",
    "\n",
    "*Hint:* To protect your DataFrame, many pandas operations do not automatically overwrite it. There are two solutions that make sure that `year` actually appears as index:\n",
    "1. Assign the output back to your DataFrame: `unemp_region = unemp_region.`... \n",
    "2. Use `inplace=True` as an argument in your method."
   ]
  },
  {
   "cell_type": "code",
   "execution_count": 82,
   "metadata": {},
   "outputs": [
    {
     "name": "stdout",
     "output_type": "stream",
     "text": [
      "[1995, 1996, 1997, 1998, 1999, 2000, 2001, 2002, 2003, 2004, 2005]\n",
      "   NorthEast  MidWest  South  West  National  UnweightedMean  year\n",
      "0        5.9      4.5    5.3   6.6       5.6           5.575  1995\n",
      "1        5.6      4.3    5.2   6.0       5.3           5.275  1996\n",
      "2        4.4      3.6    4.2   5.2       4.3           4.350  1997\n",
      "3        3.8      4.0    4.0   4.6       4.2           4.100  1998\n",
      "4        5.8      5.7    5.7   6.5       5.8           5.925  1999\n",
      "      NorthEast  MidWest  South  West  National  UnweightedMean\n",
      "year                                                           \n",
      "1995        5.9      4.5    5.3   6.6       5.6           5.575\n",
      "1996        5.6      4.3    5.2   6.0       5.3           5.275\n",
      "1997        4.4      3.6    4.2   5.2       4.3           4.350\n",
      "1998        3.8      4.0    4.0   4.6       4.2           4.100\n",
      "1999        5.8      5.7    5.7   6.5       5.8           5.925\n"
     ]
    }
   ],
   "source": [
    "year = [1995, 1996, 1997, 1998, 1999, 2000, 2001, 2002, 2003, 2004, 2005]\n",
    "print(year)\n",
    "unemp_region['year'] = year\n",
    "print(unemp_region.head())\n",
    "unemp_region = unemp_region.set_index('year')\n",
    "print(unemp_region.head())"
   ]
  },
  {
   "cell_type": "markdown",
   "metadata": {},
   "source": [
    "**d) [1 point]**\n",
    "\n",
    "Use google to find out how to drop a variable. Drop the variable `UnweightedMean` from your DataFrame, and print the first few lines. \n",
    "\n",
    "*Hint:* Depending on your method, you may need to reassign the DataFrame just as above."
   ]
  },
  {
   "cell_type": "code",
   "execution_count": 83,
   "metadata": {},
   "outputs": [
    {
     "name": "stdout",
     "output_type": "stream",
     "text": [
      "      NorthEast  MidWest  South  West  National\n",
      "year                                           \n",
      "1995        5.9      4.5    5.3   6.6       5.6\n",
      "1996        5.6      4.3    5.2   6.0       5.3\n",
      "1997        4.4      3.6    4.2   5.2       4.3\n",
      "1998        3.8      4.0    4.0   4.6       4.2\n",
      "1999        5.8      5.7    5.7   6.5       5.8\n",
      "2000        4.9      5.7    5.2   5.5       5.3\n",
      "2001        4.3      4.9    4.3   4.5       4.6\n",
      "2002        7.1      8.1    7.6   8.6       7.8\n",
      "2003        8.3      8.7    9.1  10.7       9.1\n",
      "2004        7.9      7.4    7.4   8.5       8.0\n",
      "2005        5.7      5.1    5.5   6.1       5.7\n"
     ]
    }
   ],
   "source": [
    "unemp_region = unemp_region.drop(columns = 'UnweightedMean')\n",
    "print(unemp_region)"
   ]
  },
  {
   "cell_type": "markdown",
   "metadata": {},
   "source": [
    "**e) [1 point]**\n",
    "\n",
    "One advantage of an index is that you can more easily extract parts of your DataFrame. Use the `loc` method to extract the national unemployment rate in 2009."
   ]
  },
  {
   "cell_type": "code",
   "execution_count": 84,
   "metadata": {},
   "outputs": [
    {
     "data": {
      "text/plain": [
       "NorthEast    4.3\n",
       "MidWest      4.9\n",
       "South        4.3\n",
       "West         4.5\n",
       "National     4.6\n",
       "Name: 2001, dtype: float64"
      ]
     },
     "execution_count": 84,
     "metadata": {},
     "output_type": "execute_result"
    }
   ],
   "source": [
    "unemp_region.loc[2001]"
   ]
  },
  {
   "cell_type": "markdown",
   "metadata": {},
   "source": [
    "**f) [1 point]**\n",
    "\n",
    "Another advantage of an index is that it becomes the default variable for an x-axis. Similarly, the default for a y-axis variable are all variables. (Obviously, this is only helpful if all variables are somehow comparable.)\n",
    "\n",
    "Create a line-plot that shows the development of unemployment in all regions (and nationwide) over time."
   ]
  },
  {
   "cell_type": "code",
   "execution_count": 85,
   "metadata": {},
   "outputs": [
    {
     "data": {
      "text/plain": [
       "<AxesSubplot:xlabel='year'>"
      ]
     },
     "execution_count": 85,
     "metadata": {},
     "output_type": "execute_result"
    },
    {
     "data": {
      "image/png": "[encoded data removed]",
      "text/plain": [
       "<Figure size 432x288 with 1 Axes>"
      ]
     },
     "metadata": {
      "needs_background": "light"
     },
     "output_type": "display_data"
    }
   ],
   "source": [
    "unemp_region.plot(kind = \"line\")"
   ]
  },
  {
   "cell_type": "markdown",
   "metadata": {},
   "source": [
    "**g) [1 point]**\n",
    "\n",
    "The line-plot suggests that on average over all years, unemployment is highest in the West. However, the ranking of unemployment across the other regions is harder to see.\n",
    "\n",
    "Compute the average unemployment (over all years) for each region and nationwide."
   ]
  },
  {
   "cell_type": "code",
   "execution_count": 86,
   "metadata": {},
   "outputs": [
    {
     "name": "stdout",
     "output_type": "stream",
     "text": [
      "In this order; NorthEast, MidWest, South, West, National\n",
      "[5.79090909090909]\n",
      "[5.636363636363637]\n",
      "[5.7727272727272725]\n",
      "[6.618181818181818]\n",
      "[5.972727272727273]\n"
     ]
    }
   ],
   "source": [
    "print(\"In this order; NorthEast, MidWest, South, West, National\")\n",
    "for i in range(5):\n",
    "    list = []\n",
    "    value = unemp_region.iloc[:,i].mean()\n",
    "    list.append(value)\n",
    "    print(list)"
   ]
  },
  {
   "cell_type": "markdown",
   "metadata": {},
   "source": [
    "**h) [1 point]**\n",
    "\n",
    "We see that the MidWest has the lowest unemployment rate on average. However, arguably high spikes in unemployment are just as harmful as high average unemployment. \n",
    "\n",
    "Compute the 90th percentile of unemployment for each region. Does the MidWest still do so well?"
   ]
  },
  {
   "cell_type": "code",
   "execution_count": null,
   "metadata": {},
   "outputs": [],
   "source": []
  },
  {
   "cell_type": "markdown",
   "metadata": {},
   "source": [
    "**i) [1 point]**\n",
    "\n",
    "Unless you have done something very special above, the line-plot shows the years on the x-axis with decimal points. Clearly that doesn't make sense.\n",
    "\n",
    "Reset the index while reassigning the DataFrame to keep the variable `Year` (or use `inplace=True`). Then inspect the types of data using the code `unemp_region.dtypes`. "
   ]
  },
  {
   "cell_type": "code",
   "execution_count": 87,
   "metadata": {},
   "outputs": [],
   "source": [
    "#doesnt show any decimals..."
   ]
  },
  {
   "cell_type": "markdown",
   "metadata": {},
   "source": [
    "As you can see, the problem is not that `Year` is not an integer. You can solve the problem by turning `Year` into a `datetime` object, as below. If time allows, we wil learn more about `datetime` objects next week."
   ]
  },
  {
   "cell_type": "code",
   "execution_count": 88,
   "metadata": {},
   "outputs": [
    {
     "ename": "KeyError",
     "evalue": "'year'",
     "output_type": "error",
     "traceback": [
      "\u001b[0;31m---------------------------------------------------------------------------\u001b[0m",
      "\u001b[0;31mKeyError\u001b[0m                                  Traceback (most recent call last)",
      "\u001b[0;32m~/opt/anaconda3/lib/python3.8/site-packages/pandas/core/indexes/base.py\u001b[0m in \u001b[0;36mget_loc\u001b[0;34m(self, key, method, tolerance)\u001b[0m\n\u001b[1;32m   2894\u001b[0m             \u001b[0;32mtry\u001b[0m\u001b[0;34m:\u001b[0m\u001b[0;34m\u001b[0m\u001b[0;34m\u001b[0m\u001b[0m\n\u001b[0;32m-> 2895\u001b[0;31m                 \u001b[0;32mreturn\u001b[0m \u001b[0mself\u001b[0m\u001b[0;34m.\u001b[0m\u001b[0m_engine\u001b[0m\u001b[0;34m.\u001b[0m\u001b[0mget_loc\u001b[0m\u001b[0;34m(\u001b[0m\u001b[0mcasted_key\u001b[0m\u001b[0;34m)\u001b[0m\u001b[0;34m\u001b[0m\u001b[0;34m\u001b[0m\u001b[0m\n\u001b[0m\u001b[1;32m   2896\u001b[0m             \u001b[0;32mexcept\u001b[0m \u001b[0mKeyError\u001b[0m \u001b[0;32mas\u001b[0m \u001b[0merr\u001b[0m\u001b[0;34m:\u001b[0m\u001b[0;34m\u001b[0m\u001b[0;34m\u001b[0m\u001b[0m\n",
      "\u001b[0;32mpandas/_libs/index.pyx\u001b[0m in \u001b[0;36mpandas._libs.index.IndexEngine.get_loc\u001b[0;34m()\u001b[0m\n",
      "\u001b[0;32mpandas/_libs/index.pyx\u001b[0m in \u001b[0;36mpandas._libs.index.IndexEngine.get_loc\u001b[0;34m()\u001b[0m\n",
      "\u001b[0;32mpandas/_libs/hashtable_class_helper.pxi\u001b[0m in \u001b[0;36mpandas._libs.hashtable.PyObjectHashTable.get_item\u001b[0;34m()\u001b[0m\n",
      "\u001b[0;32mpandas/_libs/hashtable_class_helper.pxi\u001b[0m in \u001b[0;36mpandas._libs.hashtable.PyObjectHashTable.get_item\u001b[0;34m()\u001b[0m\n",
      "\u001b[0;31mKeyError\u001b[0m: 'year'",
      "\nThe above exception was the direct cause of the following exception:\n",
      "\u001b[0;31mKeyError\u001b[0m                                  Traceback (most recent call last)",
      "\u001b[0;32m<ipython-input-88-08aee9313474>\u001b[0m in \u001b[0;36m<module>\u001b[0;34m\u001b[0m\n\u001b[0;32m----> 1\u001b[0;31m \u001b[0munemp_region\u001b[0m\u001b[0;34m[\u001b[0m\u001b[0;34m'year'\u001b[0m\u001b[0;34m]\u001b[0m \u001b[0;34m=\u001b[0m \u001b[0mpd\u001b[0m\u001b[0;34m.\u001b[0m\u001b[0mto_datetime\u001b[0m\u001b[0;34m(\u001b[0m\u001b[0munemp_region\u001b[0m\u001b[0;34m[\u001b[0m\u001b[0;34m'year'\u001b[0m\u001b[0;34m]\u001b[0m\u001b[0;34m,\u001b[0m \u001b[0mformat\u001b[0m\u001b[0;34m=\u001b[0m\u001b[0;34m'%Y'\u001b[0m\u001b[0;34m)\u001b[0m\u001b[0;34m\u001b[0m\u001b[0;34m\u001b[0m\u001b[0m\n\u001b[0m\u001b[1;32m      2\u001b[0m \u001b[0munemp_region\u001b[0m\u001b[0;34m.\u001b[0m\u001b[0mplot\u001b[0m\u001b[0;34m(\u001b[0m\u001b[0mx\u001b[0m\u001b[0;34m=\u001b[0m\u001b[0;34m\"year\"\u001b[0m\u001b[0;34m)\u001b[0m\u001b[0;34m\u001b[0m\u001b[0;34m\u001b[0m\u001b[0m\n",
      "\u001b[0;32m~/opt/anaconda3/lib/python3.8/site-packages/pandas/core/frame.py\u001b[0m in \u001b[0;36m__getitem__\u001b[0;34m(self, key)\u001b[0m\n\u001b[1;32m   2900\u001b[0m             \u001b[0;32mif\u001b[0m \u001b[0mself\u001b[0m\u001b[0;34m.\u001b[0m\u001b[0mcolumns\u001b[0m\u001b[0;34m.\u001b[0m\u001b[0mnlevels\u001b[0m \u001b[0;34m>\u001b[0m \u001b[0;36m1\u001b[0m\u001b[0;34m:\u001b[0m\u001b[0;34m\u001b[0m\u001b[0;34m\u001b[0m\u001b[0m\n\u001b[1;32m   2901\u001b[0m                 \u001b[0;32mreturn\u001b[0m \u001b[0mself\u001b[0m\u001b[0;34m.\u001b[0m\u001b[0m_getitem_multilevel\u001b[0m\u001b[0;34m(\u001b[0m\u001b[0mkey\u001b[0m\u001b[0;34m)\u001b[0m\u001b[0;34m\u001b[0m\u001b[0;34m\u001b[0m\u001b[0m\n\u001b[0;32m-> 2902\u001b[0;31m             \u001b[0mindexer\u001b[0m \u001b[0;34m=\u001b[0m \u001b[0mself\u001b[0m\u001b[0;34m.\u001b[0m\u001b[0mcolumns\u001b[0m\u001b[0;34m.\u001b[0m\u001b[0mget_loc\u001b[0m\u001b[0;34m(\u001b[0m\u001b[0mkey\u001b[0m\u001b[0;34m)\u001b[0m\u001b[0;34m\u001b[0m\u001b[0;34m\u001b[0m\u001b[0m\n\u001b[0m\u001b[1;32m   2903\u001b[0m             \u001b[0;32mif\u001b[0m \u001b[0mis_integer\u001b[0m\u001b[0;34m(\u001b[0m\u001b[0mindexer\u001b[0m\u001b[0;34m)\u001b[0m\u001b[0;34m:\u001b[0m\u001b[0;34m\u001b[0m\u001b[0;34m\u001b[0m\u001b[0m\n\u001b[1;32m   2904\u001b[0m                 \u001b[0mindexer\u001b[0m \u001b[0;34m=\u001b[0m \u001b[0;34m[\u001b[0m\u001b[0mindexer\u001b[0m\u001b[0;34m]\u001b[0m\u001b[0;34m\u001b[0m\u001b[0;34m\u001b[0m\u001b[0m\n",
      "\u001b[0;32m~/opt/anaconda3/lib/python3.8/site-packages/pandas/core/indexes/base.py\u001b[0m in \u001b[0;36mget_loc\u001b[0;34m(self, key, method, tolerance)\u001b[0m\n\u001b[1;32m   2895\u001b[0m                 \u001b[0;32mreturn\u001b[0m \u001b[0mself\u001b[0m\u001b[0;34m.\u001b[0m\u001b[0m_engine\u001b[0m\u001b[0;34m.\u001b[0m\u001b[0mget_loc\u001b[0m\u001b[0;34m(\u001b[0m\u001b[0mcasted_key\u001b[0m\u001b[0;34m)\u001b[0m\u001b[0;34m\u001b[0m\u001b[0;34m\u001b[0m\u001b[0m\n\u001b[1;32m   2896\u001b[0m             \u001b[0;32mexcept\u001b[0m \u001b[0mKeyError\u001b[0m \u001b[0;32mas\u001b[0m \u001b[0merr\u001b[0m\u001b[0;34m:\u001b[0m\u001b[0;34m\u001b[0m\u001b[0;34m\u001b[0m\u001b[0m\n\u001b[0;32m-> 2897\u001b[0;31m                 \u001b[0;32mraise\u001b[0m \u001b[0mKeyError\u001b[0m\u001b[0;34m(\u001b[0m\u001b[0mkey\u001b[0m\u001b[0;34m)\u001b[0m \u001b[0;32mfrom\u001b[0m \u001b[0merr\u001b[0m\u001b[0;34m\u001b[0m\u001b[0;34m\u001b[0m\u001b[0m\n\u001b[0m\u001b[1;32m   2898\u001b[0m \u001b[0;34m\u001b[0m\u001b[0m\n\u001b[1;32m   2899\u001b[0m         \u001b[0;32mif\u001b[0m \u001b[0mtolerance\u001b[0m \u001b[0;32mis\u001b[0m \u001b[0;32mnot\u001b[0m \u001b[0;32mNone\u001b[0m\u001b[0;34m:\u001b[0m\u001b[0;34m\u001b[0m\u001b[0;34m\u001b[0m\u001b[0m\n",
      "\u001b[0;31mKeyError\u001b[0m: 'year'"
     ]
    }
   ],
   "source": [
    "unemp_region['year'] = pd.to_datetime(unemp_region['year'], format='%Y')\n",
    "unemp_region.plot(x=\"year\")"
   ]
  },
  {
   "cell_type": "code",
   "execution_count": null,
   "metadata": {},
   "outputs": [],
   "source": []
  }
 ],
 "metadata": {
  "kernelspec": {
   "display_name": "Python 3",
   "language": "python",
   "name": "python3"
  },
  "language_info": {
   "codemirror_mode": {
    "name": "ipython",
    "version": 3
   },
   "file_extension": ".py",
   "mimetype": "text/x-python",
   "name": "python",
   "nbconvert_exporter": "python",
   "pygments_lexer": "ipython3",
   "version": "3.8.5"
  }
 },
 "nbformat": 4,
 "nbformat_minor": 4
}
