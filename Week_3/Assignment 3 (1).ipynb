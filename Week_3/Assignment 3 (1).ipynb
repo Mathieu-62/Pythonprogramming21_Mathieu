{
 "cells": [
  {
   "cell_type": "markdown",
   "metadata": {},
   "source": [
    "# Inverse matrix"
   ]
  },
  {
   "cell_type": "markdown",
   "metadata": {},
   "source": [
    "In this notebook we use the numpy library that we import:"
   ]
  },
  {
   "cell_type": "code",
   "execution_count": null,
   "metadata": {},
   "outputs": [],
   "source": [
    "import numpy as np"
   ]
  },
  {
   "cell_type": "markdown",
   "metadata": {},
   "source": [
    "The notebook was messed up, so can't see the matrices like they'd want you to. use this link: https://i.imgur.com/coBxpAG.png"
   ]
  },
  {
   "cell_type": "code",
   "execution_count": 9,
   "metadata": {},
   "outputs": [
    {
     "data": {
      "text/plain": [
       "matrix([[ 1,  3, -2],\n",
       "        [ 2,  5, -3],\n",
       "        [-3,  2, -4]])"
      ]
     },
     "execution_count": 9,
     "metadata": {},
     "output_type": "execute_result"
    }
   ],
   "source": [
    "A = np.matrix([[1, 3, -2],[2, 5, -3], [-3, 2, -4]])\n",
    "A"
   ]
  },
  {
   "cell_type": "markdown",
   "metadata": {},
   "source": [
    "Now we invert the matrix $A$. That is, we find the matrix $A^{-1}$ such that $A*A^{-1} = I$ where $I$ equals the identity matrix:\n",
    "\n",
    "\\begin{bmatrix}\n",
    "    1 & 0 & 0\\\\\n",
    "    0 & 1 & 0\\\\\n",
    "    0 & 0 & 1\n",
    "\\end{bmatrix}"
   ]
  },
  {
   "cell_type": "code",
   "execution_count": 10,
   "metadata": {},
   "outputs": [
    {
     "data": {
      "text/plain": [
       "matrix([[ 14.,  -8.,  -1.],\n",
       "        [-17.,  10.,   1.],\n",
       "        [-19.,  11.,   1.]])"
      ]
     },
     "execution_count": 10,
     "metadata": {},
     "output_type": "execute_result"
    }
   ],
   "source": [
    "Ainverse = A.I\n",
    "Ainverse"
   ]
  },
  {
   "cell_type": "markdown",
   "metadata": {},
   "source": [
    "Let us check whether this is indeed $A^{-1}$:"
   ]
  },
  {
   "cell_type": "code",
   "execution_count": 11,
   "metadata": {},
   "outputs": [
    {
     "data": {
      "text/plain": [
       "matrix([[ 1.00000000e+00, -3.55271368e-15, -4.44089210e-16],\n",
       "        [ 1.42108547e-14,  1.00000000e+00, -8.88178420e-16],\n",
       "        [ 0.00000000e+00,  7.10542736e-15,  1.00000000e+00]])"
      ]
     },
     "execution_count": 11,
     "metadata": {},
     "output_type": "execute_result"
    }
   ],
   "source": [
    "A*Ainverse"
   ]
  },
  {
   "cell_type": "markdown",
   "metadata": {},
   "source": [
    "Hmm, this looks strange. This is clearly not the identity matrix. But if you look closely, the diagonal values are pretty close to 1, and all other values are really small numbers (almost zeros), like -15 or -16 in the exponent. This error is, because float values are never the exact values, they always have some error in them. Let's round these numbers:"
   ]
  },
  {
   "cell_type": "code",
   "execution_count": 12,
   "metadata": {},
   "outputs": [
    {
     "data": {
      "text/plain": [
       "matrix([[ 1., -0., -0.],\n",
       "        [ 0.,  1., -0.],\n",
       "        [ 0.,  0.,  1.]])"
      ]
     },
     "execution_count": 12,
     "metadata": {},
     "output_type": "execute_result"
    }
   ],
   "source": [
    "np.around(A*Ainverse)"
   ]
  },
  {
   "cell_type": "markdown",
   "metadata": {},
   "source": [
    "This is indeed the identity matrix. "
   ]
  },
  {
   "cell_type": "markdown",
   "metadata": {},
   "source": [
    "Now try the other exercises yourself.\n",
    "\n",
    "**Note:** It is possible that a matrix does not have an inverse. (When is this the case?) However, don't always trust the computer when it gives an error while calculating the inverse. In which exercise do you think the computer gives an error, while the matrix does have an inverse?"
   ]
  },
  {
   "cell_type": "code",
   "execution_count": 13,
   "metadata": {},
   "outputs": [],
   "source": [
    "# Your code here"
   ]
  },
  {
   "cell_type": "markdown",
   "metadata": {},
   "source": [
    "## Application: input-output models\n",
    "\n",
    "Consider once more the application from assignment 1:\n",
    "\n",
    "A chemical plant receives oil from three different regions: the Middle East, South America, and the North Sea. The quality of the oil is different for each region. These oils will be used to produce gasoline, diesel fuel, and lubricating oil. The oil from the Middle east will be only used for the production of gasoline. Of the oil of South America, 20 % will be used\n",
    "for the production of gasoline, and 80 % for the production of diesel fuel. Finally, 25 % of the North Sea oil will be used to produce gasoline, 25 % to produce diesel fuel, and 50 % for the production of lubricating oil. \n",
    "\n",
    "In assignment 1, we calculated how much gasoline, diesel fuel, and lubricating oil can be produced from a certain oil-delivery. This time, we calculate how much oil must be be delivered from each region in order to produce a certain amount of gasoline, diesel fuel, and lubricating oil. \n",
    "\n",
    "Suppose today the plant wants to produce 7050 barrels of gasoline, 7450 barrels of diesel fuel and 500 barrels of lubricating oil. The plant then wants to know how much oil they need to receive from the Middle East, South America and the North Sea. \n",
    "\n",
    "This production process can be summarized using the matrix-vector product. The production process can be represented by the following matrix:\n",
    "\n",
    "$$A=\\begin{bmatrix}\n",
    "    1 & 0.2 & 0.25\\\\\n",
    "    0 & 0.8 & 0.25\\\\\n",
    "    0 & 0 & 0.50 \n",
    "\\end{bmatrix}$$\n",
    "\n",
    "where the first column represents the division in the three end products of the Middle East oil, the second column represents the division in the three end products of the South America oil, and the third column represents the division in the three end products of the North Sea oil. "
   ]
  },
  {
   "cell_type": "code",
   "execution_count": 14,
   "metadata": {},
   "outputs": [
    {
     "data": {
      "text/plain": [
       "matrix([[1.  , 0.2 , 0.25],\n",
       "        [0.  , 0.8 , 0.25],\n",
       "        [0.  , 0.  , 0.5 ]])"
      ]
     },
     "execution_count": 14,
     "metadata": {},
     "output_type": "execute_result"
    }
   ],
   "source": [
    "A = np.matrix([[1, 0.2, 0.25],[0, 0.8, 0.25], [0,0,0.5]])\n",
    "A"
   ]
  },
  {
   "cell_type": "markdown",
   "metadata": {},
   "source": [
    "The number of barrels that the plant wants to produce can be summarized by the following vector:\n",
    "\n",
    "$$b=\\begin{bmatrix}\n",
    "    7050\\\\\n",
    "    7450\\\\\n",
    "    500 \n",
    "\\end{bmatrix}$$"
   ]
  },
  {
   "cell_type": "code",
   "execution_count": 15,
   "metadata": {},
   "outputs": [
    {
     "data": {
      "text/plain": [
       "matrix([[7050],\n",
       "        [7450],\n",
       "        [ 500]])"
      ]
     },
     "execution_count": 15,
     "metadata": {},
     "output_type": "execute_result"
    }
   ],
   "source": [
    "b = np.matrix([[7050],[7450], [500]])\n",
    "b"
   ]
  },
  {
   "cell_type": "markdown",
   "metadata": {},
   "source": [
    "Recall that if $A$ is invertible, then a system $Ax = b$ has a unique solution given by\n",
    "\n",
    "$$x = A^{-1}b.$$\n",
    "\n",
    "We can use this to calculate how much oil the plant needs to receive from the Middle East, South America and the North Sea.\n",
    "\n",
    "\\begin{align}\n",
    "x &= A^{-1}b\\\\\n",
    "&=\\begin{bmatrix}\n",
    "    1 & 0.2 & 0.25\\\\\n",
    "    0 & 0.8 & 0.25\\\\\n",
    "    0 & 0 & 0.50 \n",
    "\\end{bmatrix}^{-1} \\begin{bmatrix}\n",
    "    7050\\\\\n",
    "    7450\\\\\n",
    "    500 \n",
    "\\end{bmatrix}\n",
    "\\end{align}\n",
    "\n",
    "We can easily calculate this using python. First calculate $A^{-1}$:"
   ]
  },
  {
   "cell_type": "code",
   "execution_count": 16,
   "metadata": {},
   "outputs": [
    {
     "data": {
      "text/plain": [
       "matrix([[ 1.   , -0.25 , -0.375],\n",
       "        [ 0.   ,  1.25 , -0.625],\n",
       "        [ 0.   ,  0.   ,  2.   ]])"
      ]
     },
     "execution_count": 16,
     "metadata": {},
     "output_type": "execute_result"
    }
   ],
   "source": [
    "Ainverse = A.I\n",
    "Ainverse"
   ]
  },
  {
   "cell_type": "markdown",
   "metadata": {},
   "source": [
    "Next multiply $A^{-1} b$:"
   ]
  },
  {
   "cell_type": "code",
   "execution_count": 17,
   "metadata": {},
   "outputs": [
    {
     "data": {
      "text/plain": [
       "matrix([[5000.],\n",
       "        [9000.],\n",
       "        [1000.]])"
      ]
     },
     "execution_count": 17,
     "metadata": {},
     "output_type": "execute_result"
    }
   ],
   "source": [
    "Ainverseb = Ainverse*b\n",
    "Ainverseb"
   ]
  },
  {
   "cell_type": "markdown",
   "metadata": {},
   "source": [
    "Thus, the plant needs to receive 5000 barrels of oil from the Middle East, 9000 barrels of oil from South America, and 1000 barrels from the North Sea.\n",
    "\n",
    "**Exercise**\n",
    "\n",
    "How much oil does the plant need to receive from each region if they want to produce 10250 barrels of gasoline, 850 barrels of diesel fuel and 100 barrels of lubricating oil?"
   ]
  },
  {
   "cell_type": "code",
   "execution_count": 21,
   "metadata": {},
   "outputs": [
    {
     "name": "stdout",
     "output_type": "stream",
     "text": [
      "[[10250]\n",
      " [  850]\n",
      " [  100]]\n",
      "[[10000.]\n",
      " [ 1000.]\n",
      " [  200.]]\n"
     ]
    }
   ],
   "source": [
    "c = np.matrix([[10250], [850], [100]])\n",
    "print(c)\n",
    "\n",
    "Ainversec = Ainverse*c\n",
    "print(Ainversec)"
   ]
  },
  {
   "cell_type": "markdown",
   "metadata": {},
   "source": [
    "**Exercise**\n",
    "How much oil does the plant need to receive from each region if they want to produce 6000 barrels of gasoline, 1800 barrels of diesel fuel and 3000 barrels of lubricating oil?"
   ]
  },
  {
   "cell_type": "code",
   "execution_count": 24,
   "metadata": {},
   "outputs": [
    {
     "name": "stdout",
     "output_type": "stream",
     "text": [
      "[[6000]\n",
      " [1800]\n",
      " [3000]]\n",
      "[[4425.]\n",
      " [ 375.]\n",
      " [6000.]]\n"
     ]
    }
   ],
   "source": [
    "d = np.matrix([[6000], [1800], [3000]])\n",
    "print(d)\n",
    "\n",
    "Ainversed = Ainverse*d\n",
    "print(Ainversed)"
   ]
  },
  {
   "cell_type": "code",
   "execution_count": null,
   "metadata": {},
   "outputs": [],
   "source": []
  }
 ],
 "metadata": {
  "kernelspec": {
   "display_name": "Python 3",
   "language": "python",
   "name": "python3"
  },
  "language_info": {
   "codemirror_mode": {
    "name": "ipython",
    "version": 3
   },
   "file_extension": ".py",
   "mimetype": "text/x-python",
   "name": "python",
   "nbconvert_exporter": "python",
   "pygments_lexer": "ipython3",
   "version": "3.8.5"
  }
 },
 "nbformat": 4,
 "nbformat_minor": 4
}
