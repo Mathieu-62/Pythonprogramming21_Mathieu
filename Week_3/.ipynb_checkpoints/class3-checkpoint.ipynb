{
 "cells": [
  {
   "cell_type": "markdown",
   "metadata": {},
   "source": [
    "# Week 3 in class"
   ]
  },
  {
   "cell_type": "markdown",
   "metadata": {
    "deletable": false,
    "nbgrader": {
     "checksum": "5c009f4e14882ed112d8b09e8b5ae3d1",
     "grade": false,
     "grade_id": "cell-c6fb2bf86df9c91e",
     "locked": true,
     "schema_version": 1,
     "solution": false
    }
   },
   "source": [
    "## Numerical math with Python\n",
    "\n",
    "With python we can maximize and minimize functions and solve equations. These routines can be found in the `optimize` module of the `scipy` library. "
   ]
  },
  {
   "cell_type": "code",
   "execution_count": 8,
   "metadata": {},
   "outputs": [],
   "source": [
    "import scipy.optimize as opt\n",
    "import numpy as np\n",
    "import matplotlib.pyplot as plt\n",
    "%matplotlib inline"
   ]
  },
  {
   "cell_type": "markdown",
   "metadata": {
    "nbgrader": {
     "checksum": "6d1d648b887054b8bc2eb4c971ab183e",
     "grade": false,
     "grade_id": "cell-5dcff6147d0ab844",
     "locked": true,
     "schema_version": 1,
     "solution": false
    }
   },
   "source": [
    "## Solving an equation\n",
    "\n",
    "Suppose we would like to solve $5x - 10 =0$. In Python we can solve this equation using the function `root`. As this is a simple equation, you can also do this analytically. Because it is so simple, it helps us to understand how `root` works.\n",
    "\n",
    "For our purposes here, we call `root` as `opt.root`. If you want to know more about `root`, simply google \"python root\" or use `opt.root?` in a cell below. You will see that `root` requires two arguments: the function we are solving, and an initial value where `root` starts looking for a solution. \n",
    "\n",
    "`root` uses numerical techniques to find the \"zero\" of a function; it does not solve the equation analytically. Roughly speaking, it looks at the value $f(x)$ of a given $x$ and checks whether $f(x)$ is above or below 0. If it is below 0, it needs to change $x$ in such a way that $f(x)$ increases. It uses the derivative $f'(x)$ to figure out whether it should increase or decrease $x$ to get to $f(x)=0$. So suppose that $f(x) < 0$ and $f'(x) >0$ then it will increase $x$ (move to the right) to a solution to $f(x) =0$.\n",
    "\n",
    "To illustrate this in a simple example, consider the following cell. We specify a function $f$ of one variable ($x$) only. Then we call `root` on $f$ and give our initial guess for the solution; here we guess that $x=0$ may be close to the solution. \n",
    "\n",
    "For the function below, this initial guess does not matter (just try out different values for the initial guess to verify this). For more complicated functions, the initial guess may matter a lot. It is usually a good idea to plot the function to get an idea of a reasonable value for the initial guess."
   ]
  },
  {
   "cell_type": "code",
   "execution_count": 3,
   "metadata": {},
   "outputs": [
    {
     "data": {
      "text/plain": [
       "    fjac: array([[-1.]])\n",
       "     fun: array([0.])\n",
       " message: 'The solution converged.'\n",
       "    nfev: 4\n",
       "     qtf: array([-2.18118856e-11])\n",
       "       r: array([-5.])\n",
       "  status: 1\n",
       " success: True\n",
       "       x: array([2.])"
      ]
     },
     "execution_count": 3,
     "metadata": {},
     "output_type": "execute_result"
    }
   ],
   "source": [
    "def f(x):\n",
    "    return -10 + 5*x\n",
    "zero=opt.root(f, 0)\n",
    "zero "
   ]
  },
  {
   "cell_type": "markdown",
   "metadata": {},
   "source": [
    "Note that the function `root` returns multiple values: the derivative, the function value, information about the convergence process, and ultimately, the solution itself: `x`. \n",
    "\n",
    "----------\n",
    "\n",
    "**Exercise**\n",
    "\n",
    "Extract the solution so that it prints: 2.0"
   ]
  },
  {
   "cell_type": "code",
   "execution_count": 11,
   "metadata": {},
   "outputs": [
    {
     "name": "stdout",
     "output_type": "stream",
     "text": [
      "[2.]\n"
     ]
    }
   ],
   "source": [
    "print(zero['x'])"
   ]
  },
  {
   "cell_type": "markdown",
   "metadata": {},
   "source": [
    "**Exercise**\n",
    "\n",
    "Define a function `my_function` with two arguments that returns $x^2+c$."
   ]
  },
  {
   "cell_type": "code",
   "execution_count": 13,
   "metadata": {},
   "outputs": [
    {
     "name": "stdout",
     "output_type": "stream",
     "text": [
      "2\n"
     ]
    }
   ],
   "source": [
    "def my_function(x,c) :\n",
    "    result = x**2 + c\n",
    "    return result\n",
    "print(my_function(1,1))"
   ]
  },
  {
   "cell_type": "markdown",
   "metadata": {
    "nbgrader": {
     "checksum": "a493aac895ec9d1d4bbf5de262ffd144",
     "grade": false,
     "grade_id": "cell-052d18332cc99ff5",
     "locked": true,
     "schema_version": 1,
     "solution": false
    }
   },
   "source": [
    "The function `my_function` above is a function of two variables ($x$ and $c$). Now suppose we are only interested in the solution of $x$ (for a *given* value of $c$). One way to resolve this, is to define a new \"anonymous\" function using a `lambda` function that is only a function of $x$. We call this function anonymous because we don't need to give it a name: we only use it within `root` and have no plans to call it again later on. \n",
    "\n",
    "----------\n",
    "\n",
    "**Exercise**\n",
    "\n",
    "Adapt the command below to find a solution for $x^2-2$ with $x=1$ as an initial value. Use an anonymous function that embeds `my_function`. "
   ]
  },
  {
   "cell_type": "code",
   "execution_count": 14,
   "metadata": {
    "collapsed": true,
    "jupyter": {
     "outputs_hidden": true
    }
   },
   "outputs": [
    {
     "ename": "NameError",
     "evalue": "name 'x' is not defined",
     "output_type": "error",
     "traceback": [
      "\u001b[0;31m---------------------------------------------------------------------------\u001b[0m",
      "\u001b[0;31mNameError\u001b[0m                                 Traceback (most recent call last)",
      "\u001b[0;32m<ipython-input-14-cd49cee9f37d>\u001b[0m in \u001b[0;36m<module>\u001b[0;34m\u001b[0m\n\u001b[0;32m----> 1\u001b[0;31m \u001b[0mopt\u001b[0m\u001b[0;34m.\u001b[0m\u001b[0mroot\u001b[0m\u001b[0;34m(\u001b[0m\u001b[0mmy_function\u001b[0m\u001b[0;34m(\u001b[0m\u001b[0mx\u001b[0m\u001b[0;34m,\u001b[0m\u001b[0;34m-\u001b[0m\u001b[0;36m2\u001b[0m\u001b[0;34m)\u001b[0m\u001b[0;34m,\u001b[0m\u001b[0;36m1\u001b[0m\u001b[0;34m)\u001b[0m\u001b[0;34m\u001b[0m\u001b[0;34m\u001b[0m\u001b[0m\n\u001b[0m",
      "\u001b[0;31mNameError\u001b[0m: name 'x' is not defined"
     ]
    }
   ],
   "source": [
    "opt.root(my_function(x,-2),1)"
   ]
  },
  {
   "cell_type": "code",
   "execution_count": 15,
   "metadata": {},
   "outputs": [
    {
     "data": {
      "text/plain": [
       "    fjac: array([[-1.]])\n",
       "     fun: array([-8.8817842e-16])\n",
       " message: 'The solution converged.'\n",
       "    nfev: 8\n",
       "     qtf: array([8.93144891e-10])\n",
       "       r: array([-2.82842925])\n",
       "  status: 1\n",
       " success: True\n",
       "       x: array([1.41421356])"
      ]
     },
     "execution_count": 15,
     "metadata": {},
     "output_type": "execute_result"
    }
   ],
   "source": [
    "#Answer\n",
    "opt.root(lambda x: my_function(x,-2),1)"
   ]
  },
  {
   "cell_type": "markdown",
   "metadata": {
    "nbgrader": {
     "checksum": "9f49dfdd193e4828d0225cc3a6724b67",
     "grade": false,
     "grade_id": "cell-f46b033009b2a60e",
     "locked": true,
     "schema_version": 1,
     "solution": false
    }
   },
   "source": [
    "Note that this command gives only one solution. But with a quadratic equation, there are usually two solutions!\n",
    "\n",
    "----------\n",
    "\n",
    "**Exercise**\n",
    "\n",
    "Give the python command to give the other solution. What do you need to change in the `root` command above?"
   ]
  },
  {
   "cell_type": "code",
   "execution_count": 16,
   "metadata": {
    "deletable": false,
    "nbgrader": {
     "checksum": "f306e8eb22c36c81c7d7ec239063eb9a",
     "grade": true,
     "grade_id": "cell-b4737b2a4dc39c12",
     "locked": false,
     "points": 1,
     "schema_version": 1,
     "solution": true
    }
   },
   "outputs": [
    {
     "data": {
      "text/plain": [
       "    fjac: array([[-1.]])\n",
       "     fun: array([8.8817842e-16])\n",
       " message: 'The solution converged.'\n",
       "    nfev: 8\n",
       "     qtf: array([-8.93145558e-10])\n",
       "       r: array([2.82842925])\n",
       "  status: 1\n",
       " success: True\n",
       "       x: array([-1.41421356])"
      ]
     },
     "execution_count": 16,
     "metadata": {},
     "output_type": "execute_result"
    }
   ],
   "source": [
    "opt.root(lambda x: my_function(x,-2),-2)\n"
   ]
  },
  {
   "cell_type": "markdown",
   "metadata": {
    "nbgrader": {
     "checksum": "b5164a901c20d9f3d561e5b7f4ca939c",
     "grade": false,
     "grade_id": "cell-8b7dc38ca31854f4",
     "locked": true,
     "schema_version": 1,
     "solution": false
    }
   },
   "source": [
    "**Exercise** \n",
    "\n",
    "Now try to evaluate the following cell. Check whether $x=0$ is a solution for `my_function`$=0$. Explain why the output shows: `success: False`."
   ]
  },
  {
   "cell_type": "code",
   "execution_count": 17,
   "metadata": {
    "nbgrader": {
     "checksum": "a4ec3876e8f35d0efda7b04b8d6a931a",
     "grade": false,
     "grade_id": "cell-ffb7081a3da1c3b1",
     "locked": true,
     "schema_version": 1,
     "solution": false
    }
   },
   "outputs": [
    {
     "data": {
      "text/plain": [
       "    fjac: array([[-1.]])\n",
       "     fun: array([-2.])\n",
       " message: 'The iteration is not making good progress, as measured by the \\n  improvement from the last ten iterations.'\n",
       "    nfev: 13\n",
       "     qtf: array([2.])\n",
       "       r: array([0.])\n",
       "  status: 5\n",
       " success: False\n",
       "       x: array([0.])"
      ]
     },
     "execution_count": 17,
     "metadata": {},
     "output_type": "execute_result"
    }
   ],
   "source": [
    "opt.root(lambda x: my_function(x,-2),0)"
   ]
  },
  {
   "cell_type": "markdown",
   "metadata": {
    "deletable": false,
    "nbgrader": {
     "checksum": "b8e09111849e4ea56f65b8b7c94d1acd",
     "grade": true,
     "grade_id": "cell-1d61c3eac6d008c0",
     "locked": false,
     "points": 1,
     "schema_version": 1,
     "solution": true
    }
   },
   "source": [
    "Success FALSE means that it is not true"
   ]
  },
  {
   "cell_type": "markdown",
   "metadata": {
    "nbgrader": {
     "checksum": "08ad7e68a7f51da39064c11aadc2025b",
     "grade": false,
     "grade_id": "cell-71e98fd8abd512cd",
     "locked": true,
     "schema_version": 1,
     "solution": false
    }
   },
   "source": [
    "Now we let's consider another function, with $c = 2$ (instead of $c = -2$). Explain below why `success: False` this time"
   ]
  },
  {
   "cell_type": "code",
   "execution_count": 19,
   "metadata": {},
   "outputs": [
    {
     "data": {
      "text/plain": [
       "    fjac: array([[-1.]])\n",
       "     fun: array([2.])\n",
       " message: 'The iteration is not making good progress, as measured by the \\n  improvement from the last ten iterations.'\n",
       "    nfev: 13\n",
       "     qtf: array([-2.])\n",
       "       r: array([6.50031613e-20])\n",
       "  status: 5\n",
       " success: False\n",
       "       x: array([0.])"
      ]
     },
     "execution_count": 19,
     "metadata": {},
     "output_type": "execute_result"
    }
   ],
   "source": [
    "opt.root(lambda x: my_function(x,2),0)"
   ]
  },
  {
   "cell_type": "markdown",
   "metadata": {
    "deletable": false,
    "nbgrader": {
     "checksum": "666d0ba77cc45ee04ab1bffbd0ee05bb",
     "grade": true,
     "grade_id": "cell-d2d8f7fb7bd6473e",
     "locked": false,
     "points": 1,
     "schema_version": 1,
     "solution": true
    }
   },
   "source": [
    "No bloody clue"
   ]
  },
  {
   "cell_type": "markdown",
   "metadata": {},
   "source": [
    "## Optimizing a function"
   ]
  },
  {
   "cell_type": "markdown",
   "metadata": {
    "nbgrader": {
     "checksum": "eef60826e86c8af3b43df4c3349d2a4e",
     "grade": false,
     "grade_id": "cell-594b34cc17ec345e",
     "locked": true,
     "schema_version": 1,
     "solution": false
    }
   },
   "source": [
    "**Exercise** \n",
    "\n",
    "Define the function $f(x) = \\cos(x)+2$ in python. Hint: you may have to google or use `np.` and then TAB to see how to do this.\n"
   ]
  },
  {
   "cell_type": "code",
   "execution_count": 5,
   "metadata": {
    "deletable": false,
    "nbgrader": {
     "checksum": "0133f548d5a2a382160e86438cc8dfbd",
     "grade": true,
     "grade_id": "cell-b183e834350e6615",
     "locked": false,
     "points": 1,
     "schema_version": 1,
     "solution": true
    }
   },
   "outputs": [
    {
     "data": {
      "text/plain": [
       "3.0"
      ]
     },
     "execution_count": 5,
     "metadata": {},
     "output_type": "execute_result"
    }
   ],
   "source": [
    "def f(x):\n",
    "    value = np.cos(x)+2\n",
    "    return value\n",
    "#testing the function\n",
    "f(0)"
   ]
  },
  {
   "cell_type": "markdown",
   "metadata": {
    "nbgrader": {
     "checksum": "eae3719f5cb7d956f555fa2c1f8e1b78",
     "grade": false,
     "grade_id": "cell-2b9ae1e1a5e78a41",
     "locked": true,
     "schema_version": 1,
     "solution": false
    }
   },
   "source": [
    "**Exercise** \n",
    "\n",
    "Plot this function for $x \\in [0,7]$."
   ]
  },
  {
   "cell_type": "code",
   "execution_count": 21,
   "metadata": {
    "deletable": false,
    "nbgrader": {
     "checksum": "a6e34957f4efaea8dabed9319bce4ac2",
     "grade": true,
     "grade_id": "cell-ed854a0c0ea87293",
     "locked": false,
     "points": 1,
     "schema_version": 1,
     "solution": true
    }
   },
   "outputs": [
    {
     "data": {
      "text/plain": [
       "<function matplotlib.pyplot.show(close=None, block=None)>"
      ]
     },
     "execution_count": 21,
     "metadata": {},
     "output_type": "execute_result"
    },
    {
     "data": {
      "image/png": "[encoded data removed]",
      "text/plain": [
       "<Figure size 432x288 with 1 Axes>"
      ]
     },
     "metadata": {
      "needs_background": "light"
     },
     "output_type": "display_data"
    }
   ],
   "source": [
    "x = np.linspace(0,7,100)\n",
    "plt.plot(x,f(x))\n",
    "plt.show"
   ]
  },
  {
   "cell_type": "markdown",
   "metadata": {},
   "source": [
    "The optimize routine has a number of algorithms to minimize functions. We will use `opt.minimize_scalar`. Check the documentation of this function in the jupyter notebook.\n",
    "\n",
    "----------\n",
    "\n",
    "**Exercise** \n",
    "\n",
    "Calculate the minimum of $f$ on the interval $[0,7]$. What is this number? Make sure the minimum actually lies within $[0,7]$!"
   ]
  },
  {
   "cell_type": "code",
   "execution_count": null,
   "metadata": {
    "deletable": false,
    "nbgrader": {
     "checksum": "b655f82f808482b9830a1eb0ba3614d7",
     "grade": true,
     "grade_id": "cell-1eb36f8a21fa7b73",
     "locked": false,
     "points": 1,
     "schema_version": 1,
     "solution": true
    }
   },
   "outputs": [],
   "source": [
    "opt.minimize_scalar?"
   ]
  },
  {
   "cell_type": "code",
   "execution_count": 22,
   "metadata": {},
   "outputs": [
    {
     "data": {
      "text/plain": [
       "     fun: 1.0\n",
       "    nfev: 12\n",
       "     nit: 8\n",
       " success: True\n",
       "       x: 3.141592653624431"
      ]
     },
     "execution_count": 22,
     "metadata": {},
     "output_type": "execute_result"
    }
   ],
   "source": [
    "opt.minimize_scalar(f, [0,3,7])"
   ]
  },
  {
   "cell_type": "markdown",
   "metadata": {
    "deletable": false,
    "nbgrader": {
     "checksum": "69b0de174fc144292081612c366128e1",
     "grade": true,
     "grade_id": "cell-902c444a42d5c70c",
     "locked": false,
     "points": 0,
     "schema_version": 1,
     "solution": true
    }
   },
   "source": [
    "It's pi, which makes sense..."
   ]
  },
  {
   "cell_type": "markdown",
   "metadata": {},
   "source": [
    "This number is actually $\\pi$."
   ]
  },
  {
   "cell_type": "markdown",
   "metadata": {},
   "source": [
    "While the optimize routine has a number of algorithms to minimize functions, it cannot maximize... How can we find the maxima if there are no maximization routines in python?\n",
    "\n",
    "----------\n",
    "\n",
    "**Exercise** \n",
    "\n",
    "Use `opt.minimize_scalar` to find the two maxima of $f$ on the interval $[0,7]$.  HINT: remember the anonymous function above and experiment with the bounds within which Python should search."
   ]
  },
  {
   "cell_type": "code",
   "execution_count": 7,
   "metadata": {
    "deletable": false,
    "nbgrader": {
     "checksum": "f5520e9eb59fc6fe37552a062dd635d7",
     "grade": true,
     "grade_id": "cell-a01cbd9b1487fd16",
     "locked": false,
     "points": 1,
     "schema_version": 1,
     "solution": true
    }
   },
   "outputs": [
    {
     "name": "stdout",
     "output_type": "stream",
     "text": [
      "     fun: -3.0\n",
      "    nfev: 39\n",
      "     nit: 35\n",
      " success: True\n",
      "       x: -2.1761101995954192e-08\n",
      "     fun: -3.0\n",
      "    nfev: 13\n",
      "     nit: 9\n",
      " success: True\n",
      "       x: 6.283185307126907\n"
     ]
    }
   ],
   "source": [
    "print(opt.minimize_scalar(lambda x: (-1) * f(x),[0,7]))\n",
    "print(opt.minimize_scalar(lambda x: (-1) * f(x),[5,7]))"
   ]
  },
  {
   "cell_type": "markdown",
   "metadata": {},
   "source": [
    "It is the centre of those two values? ASK"
   ]
  },
  {
   "cell_type": "markdown",
   "metadata": {},
   "source": [
    "## Application: Consumer Theory\n",
    "\n",
    "A common use of maximization in economics is to model\n",
    "optimal consumption decisions <https://en.wikipedia.org/wiki/Consumer_choice>. In this section of the notebook you will have to apply all you learned above to consumer choice."
   ]
  },
  {
   "cell_type": "markdown",
   "metadata": {},
   "source": [
    "### Preferences and Utility Functions\n",
    "\n",
    "To summarize introductory economics, take a set of\n",
    "[preferences](https://en.wikipedia.org/wiki/Preference_%28economics%29) of consumers over “bundles”\n",
    "of goods (e.g. 2 apples and 3 oranges is preferred to 3 apples and 2 oranges, or a 100% chance to\n",
    "win $ 1 $ dollar is preferred to a 50% chance to win $ 2.10 $ dollars).\n",
    "\n",
    "Under certain assumptions, you rationalize the preferences as a utility function over the different\n",
    "goods (always remembering that the utility is simply a tool to order preferences and the numbers are\n",
    "usually not meaningful themselves).\n",
    "\n",
    "For example, consider a utility function over bundles of bananas (B) and apples (A)\n",
    "\n",
    "$$\n",
    "U(B, A) = B^{\\alpha}A^{1-\\alpha}\n",
    "$$\n",
    "\n",
    "Where $ \\alpha \\in [0,1] $.\n",
    "\n",
    "\n",
    "----------\n",
    "\n",
    "**Exercise**\n",
    "\n",
    "Define this particular utility function for a default argument $\\alpha=1/3$."
   ]
  },
  {
   "cell_type": "code",
   "execution_count": 17,
   "metadata": {},
   "outputs": [],
   "source": [
    "def utility(A,B,alpha=(1/3)):\n",
    "    result = (B**alpha)*(A**(1-alpha))\n",
    "    return result "
   ]
  },
  {
   "cell_type": "markdown",
   "metadata": {},
   "source": [
    "**Exercise**\n",
    "\n",
    "Plot this utility function for a value of $B=1.5$ and a domain for $A$ from 1 to 10. Label the axes with `A` and `U(A, B=1.5)`, respectively"
   ]
  },
  {
   "cell_type": "code",
   "execution_count": 26,
   "metadata": {},
   "outputs": [
    {
     "data": {
      "image/png": "[encoded data removed]",
      "text/plain": [
       "<Figure size 432x288 with 1 Axes>"
      ]
     },
     "metadata": {
      "needs_background": "light"
     },
     "output_type": "display_data"
    }
   ],
   "source": [
    "A = np.linspace(1,10,10)\n",
    "A\n",
    "plt.plot(utility(1.5,A))\n",
    "plt.xlabel('A')\n",
    "plt.ylabel('U(A, B = 1.5)')\n",
    "plt.title(\"Utility Function\")\n",
    "plt.show()"
   ]
  },
  {
   "cell_type": "markdown",
   "metadata": {},
   "source": [
    "If you did it right, you will notice that\n",
    "\n",
    "- $ U(A, 1.5) $ is always higher with more $ A $, hence, consuming more apples has a positive marginal utility  i.e. $ \\frac{d U(A, 1.5)}{d A} > 0 $.  \n",
    "    \n",
    "- The more apples we consume, the smaller the change in marginal utility, i.e.\n",
    "  $ \\frac{d^2 U(A, 1.5)}{d A^2} < 0 $.  \n",
    "\n",
    "----------\n",
    "\n",
    "**Exercise**\n",
    "\n",
    "Continue to consider $B=1.5$. What is the level of utility at $A=8$? Compute using Python."
   ]
  },
  {
   "cell_type": "code",
   "execution_count": 19,
   "metadata": {},
   "outputs": [
    {
     "name": "stdout",
     "output_type": "stream",
     "text": [
      "4.578856970213328\n"
     ]
    }
   ],
   "source": [
    "utility_A_8 = utility(8,1.5)\n",
    "print(utility_A_8)"
   ]
  },
  {
   "cell_type": "markdown",
   "metadata": {},
   "source": [
    "**Exercise**\n",
    "\n",
    "Continue to consider $B=1.5$. For which $A$ is utility equal to 3? Compute using Python. *Hint:* think of an equation that equals zero and use an anonymous function."
   ]
  },
  {
   "cell_type": "code",
   "execution_count": 20,
   "metadata": {},
   "outputs": [
    {
     "name": "stdout",
     "output_type": "stream",
     "text": [
      "    fjac: array([[-1.]])\n",
      "     fun: array([-2.66453526e-15])\n",
      " message: 'The solution converged.'\n",
      "    nfev: 18\n",
      "     qtf: array([2.45651099e-09])\n",
      "       r: array([-0.471405])\n",
      "  status: 1\n",
      " success: True\n",
      "       x: array([4.24264069])\n",
      "2.9996979695935653\n"
     ]
    }
   ],
   "source": [
    "print(opt.root(lambda A: (utility(A = A, B = 1.5) - 3), 0))\n",
    "\n",
    "#checking\n",
    "print(utility(4.242,1.5))"
   ]
  },
  {
   "cell_type": "markdown",
   "metadata": {},
   "source": [
    "### Indifference curves\n",
    "\n",
    "If we plot both the $ B $ and the $ A $, we can see how the utility changes with different\n",
    "bundles."
   ]
  },
  {
   "cell_type": "code",
   "execution_count": 21,
   "metadata": {
    "hide-output": false
   },
   "outputs": [
    {
     "ename": "NameError",
     "evalue": "name 'A' is not defined",
     "output_type": "error",
     "traceback": [
      "\u001b[0;31m---------------------------------------------------------------------------\u001b[0m",
      "\u001b[0;31mNameError\u001b[0m                                 Traceback (most recent call last)",
      "\u001b[0;32m<ipython-input-21-334b9c9d032a>\u001b[0m in \u001b[0;36m<module>\u001b[0;34m\u001b[0m\n\u001b[1;32m      1\u001b[0m \u001b[0mfig\u001b[0m\u001b[0;34m,\u001b[0m \u001b[0max\u001b[0m \u001b[0;34m=\u001b[0m \u001b[0mplt\u001b[0m\u001b[0;34m.\u001b[0m\u001b[0msubplots\u001b[0m\u001b[0;34m(\u001b[0m\u001b[0;34m)\u001b[0m\u001b[0;34m\u001b[0m\u001b[0;34m\u001b[0m\u001b[0m\n\u001b[1;32m      2\u001b[0m \u001b[0mB\u001b[0m \u001b[0;34m=\u001b[0m \u001b[0mnp\u001b[0m\u001b[0;34m.\u001b[0m\u001b[0mlinspace\u001b[0m\u001b[0;34m(\u001b[0m\u001b[0;36m1\u001b[0m\u001b[0;34m,\u001b[0m \u001b[0;36m20\u001b[0m\u001b[0;34m,\u001b[0m \u001b[0;36m100\u001b[0m\u001b[0;34m)\u001b[0m\u001b[0;34m.\u001b[0m\u001b[0mreshape\u001b[0m\u001b[0;34m(\u001b[0m\u001b[0;34m(\u001b[0m\u001b[0;36m100\u001b[0m\u001b[0;34m,\u001b[0m \u001b[0;36m1\u001b[0m\u001b[0;34m)\u001b[0m\u001b[0;34m)\u001b[0m\u001b[0;34m\u001b[0m\u001b[0;34m\u001b[0m\u001b[0m\n\u001b[0;32m----> 3\u001b[0;31m \u001b[0mcontours\u001b[0m \u001b[0;34m=\u001b[0m \u001b[0max\u001b[0m\u001b[0;34m.\u001b[0m\u001b[0mcontourf\u001b[0m\u001b[0;34m(\u001b[0m\u001b[0mA\u001b[0m\u001b[0;34m,\u001b[0m \u001b[0mB\u001b[0m\u001b[0;34m.\u001b[0m\u001b[0mflatten\u001b[0m\u001b[0;34m(\u001b[0m\u001b[0;34m)\u001b[0m\u001b[0;34m,\u001b[0m \u001b[0mutility\u001b[0m\u001b[0;34m(\u001b[0m\u001b[0mA\u001b[0m\u001b[0;34m,\u001b[0m \u001b[0mB\u001b[0m\u001b[0;34m)\u001b[0m\u001b[0;34m)\u001b[0m\u001b[0;34m\u001b[0m\u001b[0;34m\u001b[0m\u001b[0m\n\u001b[0m\u001b[1;32m      4\u001b[0m \u001b[0mfig\u001b[0m\u001b[0;34m.\u001b[0m\u001b[0mcolorbar\u001b[0m\u001b[0;34m(\u001b[0m\u001b[0mcontours\u001b[0m\u001b[0;34m)\u001b[0m\u001b[0;34m\u001b[0m\u001b[0;34m\u001b[0m\u001b[0m\n\u001b[1;32m      5\u001b[0m \u001b[0max\u001b[0m\u001b[0;34m.\u001b[0m\u001b[0mset_xlabel\u001b[0m\u001b[0;34m(\u001b[0m\u001b[0;34m\"A\"\u001b[0m\u001b[0;34m)\u001b[0m\u001b[0;34m\u001b[0m\u001b[0;34m\u001b[0m\u001b[0m\n",
      "\u001b[0;31mNameError\u001b[0m: name 'A' is not defined"
     ]
    },
    {
     "data": {
      "image/png": "[encoded data removed]",
      "text/plain": [
       "<Figure size 432x288 with 1 Axes>"
      ]
     },
     "metadata": {
      "needs_background": "light"
     },
     "output_type": "display_data"
    }
   ],
   "source": [
    "fig, ax = plt.subplots()\n",
    "B = np.linspace(1, 20, 100).reshape((100, 1))\n",
    "contours = ax.contourf(A, B.flatten(), utility(A, B))\n",
    "fig.colorbar(contours)\n",
    "ax.set_xlabel(\"A\")\n",
    "ax.set_ylabel(\"B\")\n",
    "ax.set_title(\"U(A,B)\")"
   ]
  },
  {
   "cell_type": "markdown",
   "metadata": {},
   "source": [
    "We can find the bundles between which the consumer would be indifferent by fixing a\n",
    "utility $ \\bar{U} $ and by determining all combinations of $ A $ and $ B $ where\n",
    "$ \\bar{U} = U(B, A) $. In this example, we can implement this calculation by letting $ B $ be the variable on the\n",
    "x-axis and solving for $ A(\\bar{U}, B) $\n",
    "\n",
    "$$\n",
    "A(B, \\bar{U}) = U^{\\frac{1}{1-\\alpha}}B^{\\frac{-\\alpha}{1-\\alpha}}\n",
    "$$"
   ]
  },
  {
   "cell_type": "code",
   "execution_count": 22,
   "metadata": {
    "hide-output": false
   },
   "outputs": [
    {
     "data": {
      "image/png": "[encoded data removed]",
      "text/plain": [
       "<Figure size 432x288 with 1 Axes>"
      ]
     },
     "metadata": {
      "needs_background": "light"
     },
     "output_type": "display_data"
    }
   ],
   "source": [
    "def A_indifference(B, ubar, alpha=1/3):\n",
    "    return ubar**(1/(1-alpha)) * B**(-alpha/(1-alpha))\n",
    "\n",
    "def plot_indifference_curves(ax, alpha=1/3):\n",
    "    ubar = np.arange(1, 11, 2)\n",
    "    ax.plot(B, A_indifference(B, ubar, alpha))\n",
    "    ax.legend([r\"$\\bar{U}$\" + \" = {}\".format(i) for i in ubar])\n",
    "    ax.set_xlabel(\"B\")\n",
    "    ax.set_ylabel(r\"$A(B, \\bar{U}$)\")\n",
    "\n",
    "fig, ax = plt.subplots()\n",
    "plot_indifference_curves(ax)"
   ]
  },
  {
   "cell_type": "markdown",
   "metadata": {},
   "source": [
    "Note that in every case, if you increase either the number of apples or bananas (holding the other\n",
    "fixed), you reach a higher indifference curve. Consequently, in a world without scarcity or budgets, consumers would consume\n",
    "an arbitrarily high number of both to maximize their utility."
   ]
  },
  {
   "cell_type": "markdown",
   "metadata": {},
   "source": [
    "### Budget Constraints\n",
    "\n",
    "While the above example plots consumer preferences, it says nothing about what the consumers can afford. The simplest sort of constraint is a budget constraint where bananas and apples both have a price\n",
    "and the consumer has a limited amount of funds.\n",
    "\n",
    "If the prices per banana and per apple are identical, no matter how many you consume, then the\n",
    "affordable bundles are simply all pairs of apples and bananas below the line.\n",
    "$ p_a A + p_b B \\leq W $.\n",
    "\n",
    "For example, if consumer has a budget of $ W $, the price of apples is $ p_A = 2 $ dollars per\n",
    "apple, and the price of bananas is normalized to be $ p_B = 1 $ dollar per banana, then the consumer\n",
    "can afford anything below the line.\n",
    "\n",
    "$$\n",
    "2 A + B \\leq W\n",
    "$$\n",
    "\n",
    "Or, letting $ W = 20 $ and plotting"
   ]
  },
  {
   "cell_type": "code",
   "execution_count": 23,
   "metadata": {
    "hide-output": false
   },
   "outputs": [
    {
     "data": {
      "text/plain": [
       "<AxesSubplot:xlabel='B', ylabel='A'>"
      ]
     },
     "execution_count": 23,
     "metadata": {},
     "output_type": "execute_result"
    },
    {
     "data": {
      "image/png": "[encoded data removed]",
      "text/plain": [
       "<Figure size 432x288 with 1 Axes>"
      ]
     },
     "metadata": {
      "needs_background": "light"
     },
     "output_type": "display_data"
    }
   ],
   "source": [
    "def A_bc(B, W=20, pa=2):\n",
    "    \"Given B, W, and pa return the max amount of A our consumer can afford\"\n",
    "    return (W - B) / pa\n",
    "\n",
    "def plot_budget_constraint(ax, W=20, pa=2):\n",
    "    B_bc = np.array([0, W])\n",
    "    A = A_bc(B_bc, W, pa)\n",
    "    ax.plot(B_bc, A)\n",
    "    ax.fill_between(B_bc, 0, A, alpha=0.2)\n",
    "    ax.set_xlabel(\"B\")\n",
    "    ax.set_ylabel(\"A\")\n",
    "    return ax\n",
    "\n",
    "fig, ax = plt.subplots()\n",
    "plot_budget_constraint(ax, 20, 2)"
   ]
  },
  {
   "cell_type": "markdown",
   "metadata": {},
   "source": [
    "While the consumer can afford any of the bundles in that area, most will not be optimal."
   ]
  },
  {
   "cell_type": "markdown",
   "metadata": {},
   "source": [
    "### Optimal Choice\n",
    "\n",
    "Putting the budget constraints and the utility functions together lets us visualize the optimal\n",
    "decision of a consumer. Choose the bundle with the highest possible indifference curve within its\n",
    "budget set."
   ]
  },
  {
   "cell_type": "code",
   "execution_count": 24,
   "metadata": {
    "hide-output": false
   },
   "outputs": [
    {
     "data": {
      "text/plain": [
       "<AxesSubplot:xlabel='B', ylabel='A'>"
      ]
     },
     "execution_count": 24,
     "metadata": {},
     "output_type": "execute_result"
    },
    {
     "data": {
      "image/png": "[encoded data removed]",
      "text/plain": [
       "<Figure size 432x288 with 1 Axes>"
      ]
     },
     "metadata": {
      "needs_background": "light"
     },
     "output_type": "display_data"
    }
   ],
   "source": [
    "fig, ax = plt.subplots()\n",
    "plot_indifference_curves(ax)\n",
    "plot_budget_constraint(ax)"
   ]
  },
  {
   "cell_type": "markdown",
   "metadata": {},
   "source": [
    "We have several ways to find the particular point $ A, B $ of maximum utility, such as\n",
    "finding the point where the indifference curve and the budget constraint have the same slope, but a\n",
    "simple approach is to just solve the direct maximization problem.\n",
    "\n",
    "$$\n",
    "\\begin{aligned}\n",
    "\\max_{A, B} & B^{\\alpha}A^{1-\\alpha}\\\\\n",
    "\\text{s.t. } & p_A A + B \\leq W\n",
    "\\end{aligned}\n",
    "$$\n",
    "\n",
    "Solving this problem directly requires solving a multi-dimensional constrained optimization problem,\n",
    "where scipy <https://docs.scipy.org/doc/scipy/reference/tutorial/optimize.html#constrained-minimization-of-multivariate-scalar-functions-minimize>\n",
    "has several options.\n",
    "\n",
    "For this particular problem, we notice two things: (1) The utility function is increasing in both\n",
    "$ A $ and $ B $, and (2) there are only 2 goods.\n",
    "\n",
    "This allows us 1) to assume that the budget constraint holds at equality, $ p_a A + B = W $, 2) to\n",
    "form a new function $ A(B) = (W - B) / p_a $ by rearranging the budget constraint at equality, and\n",
    "3) to substitute that function directly to form:\n",
    "\n",
    "$$\n",
    "\\max_{B}  B^{\\alpha}A(B)^{1-\\alpha}\n",
    "$$\n",
    "\n",
    "Compared to before, this problem has been turned into an unconstrained univariate optimization\n",
    "problem.\n",
    "\n",
    "To implement this in code, notice that the $ A(B) $ function is what we defined before\n",
    "as `A_bc`.\n",
    "\n",
    "----------\n",
    "\n",
    "**Exercise**\n",
    "\n",
    "Find the maximum utility for $W=20$ and $p_A = 2$ (and $p_B = 1$). For which $A$ and $B$ can this maximum utility be obtained? *Hint:* Remember that `mimimize_scalar` can only minimize functions."
   ]
  },
  {
   "cell_type": "code",
   "execution_count": 27,
   "metadata": {},
   "outputs": [
    {
     "name": "stdout",
     "output_type": "stream",
     "text": [
      "The max utility is 6.666666666666667\n",
      "and was found at (A,B) = (6.666666630651958, 6.666666738696083)\n"
     ]
    }
   ],
   "source": [
    "#Answer\n",
    "\n",
    "def objective(B, W=20, pa=2):\n",
    "    A = A_bc(B, W, pa)\n",
    "    return -utility(A,B)\n",
    "\n",
    "result = opt.minimize_scalar(objective)\n",
    "optimal_B = result.x\n",
    "optimal_A = A_bc(optimal_B, 20, 2)\n",
    "optimal_U = utility(optimal_A, optimal_B)\n",
    "\n",
    "print(\"The max utility is\", optimal_U)\n",
    "print(\"and was found at (A,B) =\", (optimal_A, optimal_B))\n"
   ]
  }
 ],
 "metadata": {
  "kernelspec": {
   "display_name": "Python 3",
   "language": "python",
   "name": "python3"
  },
  "language_info": {
   "codemirror_mode": {
    "name": "ipython",
    "version": 3
   },
   "file_extension": ".py",
   "mimetype": "text/x-python",
   "name": "python",
   "nbconvert_exporter": "python",
   "pygments_lexer": "ipython3",
   "version": "3.8.5"
  }
 },
 "nbformat": 4,
 "nbformat_minor": 4
}
